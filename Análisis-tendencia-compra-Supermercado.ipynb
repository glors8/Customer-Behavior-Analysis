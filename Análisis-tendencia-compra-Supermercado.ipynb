{
 "cells": [
  {
   "cell_type": "markdown",
   "id": "3Xg_RQfnafXz",
   "metadata": {
    "id": "3Xg_RQfnafXz"
   },
   "source": [
    "# ¡Llena ese carrito!"
   ]
  },
  {
   "cell_type": "markdown",
   "id": "mhIvmmkW414q",
   "metadata": {
    "id": "mhIvmmkW414q"
   },
   "source": [
    "# Introducción\n",
    "\n",
    "Instacart es una plataforma de entregas de comestibles donde la clientela puede registrar un pedido y hacer que se lo entreguen, similar a Uber Eats y Door Dash.\n",
    "El conjunto de datos que te hemos proporcionado tiene modificaciones del original. Redujimos el tamaño del conjunto para que tus cálculos se hicieran más rápido e introdujimos valores ausentes y duplicados. Tuvimos cuidado de conservar las distribuciones de los datos originales cuando hicimos los cambios.\n",
    "\n",
    "Debes completar tres pasos. Para cada uno de ellos, escribe una breve introducción que refleje con claridad cómo pretendes resolver cada paso, y escribe párrafos explicatorios que justifiquen tus decisiones al tiempo que avanzas en tu solución.  También escribe una conclusión que resuma tus hallazgos y elecciones.\n"
   ]
  },
  {
   "cell_type": "markdown",
   "id": "3MbyzpOQZ5Or",
   "metadata": {
    "id": "3MbyzpOQZ5Or"
   },
   "source": [
    "## Diccionario de datos\n",
    "\n",
    "Hay cinco tablas en el conjunto de datos, y tendrás que usarlas todas para hacer el preprocesamiento de datos y el análisis exploratorio de datos. A continuación se muestra un diccionario de datos que enumera las columnas de cada tabla y describe los datos que contienen.\n",
    "\n",
    "- `instacart_orders.csv`: cada fila corresponde a un pedido en la aplicación Instacart.\n",
    "    - `'order_id'`: número de ID que identifica de manera única cada pedido.\n",
    "    - `'user_id'`: número de ID que identifica de manera única la cuenta de cada cliente.\n",
    "    - `'order_number'`: el número de veces que este cliente ha hecho un pedido.\n",
    "    - `'order_dow'`: día de la semana en que se hizo el pedido (0 si es domingo).\n",
    "    - `'order_hour_of_day'`: hora del día en que se hizo el pedido.\n",
    "    - `'days_since_prior_order'`: número de días transcurridos desde que este cliente hizo su pedido anterior.\n",
    "- `products.csv`: cada fila corresponde a un producto único que pueden comprar los clientes.\n",
    "    - `'product_id'`: número ID que identifica de manera única cada producto.\n",
    "    - `'product_name'`: nombre del producto.\n",
    "    - `'aisle_id'`: número ID que identifica de manera única cada categoría de pasillo de víveres.\n",
    "    - `'department_id'`: número ID que identifica de manera única cada departamento de víveres.\n",
    "- `order_products.csv`: cada fila corresponde a un artículo pedido en un pedido.\n",
    "    - `'order_id'`: número de ID que identifica de manera única cada pedido.\n",
    "    - `'product_id'`: número ID que identifica de manera única cada producto.\n",
    "    - `'add_to_cart_order'`: el orden secuencial en el que se añadió cada artículo en el carrito.\n",
    "    - `'reordered'`: 0 si el cliente nunca ha pedido este producto antes, 1 si lo ha pedido.\n",
    "- `aisles.csv`\n",
    "    - `'aisle_id'`: número ID que identifica de manera única cada categoría de pasillo de víveres.\n",
    "    - `'aisle'`: nombre del pasillo.\n",
    "- `departments.csv`\n",
    "    - `'department_id'`: número ID que identifica de manera única cada departamento de víveres.\n",
    "    - `'department'`: nombre del departamento."
   ]
  },
  {
   "cell_type": "markdown",
   "id": "n3Ha_cNSZ8lK",
   "metadata": {
    "id": "n3Ha_cNSZ8lK"
   },
   "source": [
    "# Paso 1. Descripción de los datos\n",
    "\n",
    "Lee los archivos de datos (`/datasets/instacart_orders.csv`, `/datasets/products.csv`, `/datasets/aisles.csv`, `/datasets/departments.csv` y `/datasets/order_products.csv`) con `pd.read_csv()` usando los parámetros adecuados para leer los datos correctamente. Verifica la información para cada DataFrame creado.\n"
   ]
  },
  {
   "cell_type": "markdown",
   "id": "OmlQPLlyaAfR",
   "metadata": {
    "id": "OmlQPLlyaAfR"
   },
   "source": [
    "## Plan de solución\n",
    "\n",
    "Escribe aquí tu plan de solución para el Paso 1. Descripción de los datos."
   ]
  },
  {
   "cell_type": "code",
   "execution_count": 1,
   "id": "fbf1adab",
   "metadata": {
    "id": "fbf1adab",
    "trusted": false
   },
   "outputs": [],
   "source": [
    "# importar librerías\n",
    "import pandas as pd\n",
    "import matplotlib.pyplot as plt"
   ]
  },
  {
   "cell_type": "code",
   "execution_count": 2,
   "id": "ad36396d",
   "metadata": {
    "id": "ad36396d",
    "trusted": false
   },
   "outputs": [],
   "source": [
    "# leer conjuntos de datos en los DataFrames\n",
    "instacart_orders = pd.read_csv(\"/datasets/instacart_orders.csv\", sep=\";\")\n",
    "products = pd.read_csv(\"/datasets/products.csv\", sep=\";\")\n",
    "aisles = pd.read_csv(\"/datasets/aisles.csv\", sep=\";\")\n",
    "departments = pd.read_csv(\"/datasets/departments.csv\", sep=\";\")\n",
    "order_products = pd.read_csv(\"/datasets/order_products.csv\", sep=\";\")"
   ]
  },
  {
   "cell_type": "code",
   "execution_count": 3,
   "id": "ad6a1efa",
   "metadata": {
    "id": "ad6a1efa",
    "trusted": false
   },
   "outputs": [
    {
     "name": "stdout",
     "output_type": "stream",
     "text": [
      "<class 'pandas.core.frame.DataFrame'>\n",
      "RangeIndex: 478967 entries, 0 to 478966\n",
      "Data columns (total 6 columns):\n",
      " #   Column                  Non-Null Count   Dtype  \n",
      "---  ------                  --------------   -----  \n",
      " 0   order_id                478967 non-null  int64  \n",
      " 1   user_id                 478967 non-null  int64  \n",
      " 2   order_number            478967 non-null  int64  \n",
      " 3   order_dow               478967 non-null  int64  \n",
      " 4   order_hour_of_day       478967 non-null  int64  \n",
      " 5   days_since_prior_order  450148 non-null  float64\n",
      "dtypes: float64(1), int64(5)\n",
      "memory usage: 21.9 MB\n"
     ]
    }
   ],
   "source": [
    "# mostrar información del DataFrame\n",
    "instacart_orders.info()"
   ]
  },
  {
   "cell_type": "code",
   "execution_count": 4,
   "id": "5130e05e",
   "metadata": {
    "id": "5130e05e",
    "trusted": false
   },
   "outputs": [
    {
     "name": "stdout",
     "output_type": "stream",
     "text": [
      "<class 'pandas.core.frame.DataFrame'>\n",
      "RangeIndex: 49694 entries, 0 to 49693\n",
      "Data columns (total 4 columns):\n",
      " #   Column         Non-Null Count  Dtype \n",
      "---  ------         --------------  ----- \n",
      " 0   product_id     49694 non-null  int64 \n",
      " 1   product_name   48436 non-null  object\n",
      " 2   aisle_id       49694 non-null  int64 \n",
      " 3   department_id  49694 non-null  int64 \n",
      "dtypes: int64(3), object(1)\n",
      "memory usage: 1.5+ MB\n"
     ]
    }
   ],
   "source": [
    "# mostrar información del DataFrame\n",
    "products.info()"
   ]
  },
  {
   "cell_type": "code",
   "execution_count": 5,
   "id": "d8370c05",
   "metadata": {
    "id": "d8370c05",
    "trusted": false
   },
   "outputs": [
    {
     "name": "stdout",
     "output_type": "stream",
     "text": [
      "<class 'pandas.core.frame.DataFrame'>\n",
      "RangeIndex: 134 entries, 0 to 133\n",
      "Data columns (total 2 columns):\n",
      " #   Column    Non-Null Count  Dtype \n",
      "---  ------    --------------  ----- \n",
      " 0   aisle_id  134 non-null    int64 \n",
      " 1   aisle     134 non-null    object\n",
      "dtypes: int64(1), object(1)\n",
      "memory usage: 2.2+ KB\n"
     ]
    }
   ],
   "source": [
    "# mostrar información del DataFrame\n",
    "aisles.info()"
   ]
  },
  {
   "cell_type": "code",
   "execution_count": 6,
   "id": "59e2090f",
   "metadata": {
    "id": "59e2090f",
    "trusted": false
   },
   "outputs": [
    {
     "name": "stdout",
     "output_type": "stream",
     "text": [
      "<class 'pandas.core.frame.DataFrame'>\n",
      "RangeIndex: 21 entries, 0 to 20\n",
      "Data columns (total 2 columns):\n",
      " #   Column         Non-Null Count  Dtype \n",
      "---  ------         --------------  ----- \n",
      " 0   department_id  21 non-null     int64 \n",
      " 1   department     21 non-null     object\n",
      "dtypes: int64(1), object(1)\n",
      "memory usage: 464.0+ bytes\n"
     ]
    }
   ],
   "source": [
    "# mostrar información del DataFrame\n",
    "departments.info()"
   ]
  },
  {
   "cell_type": "code",
   "execution_count": 7,
   "id": "6fc81694",
   "metadata": {
    "id": "6fc81694",
    "trusted": false
   },
   "outputs": [
    {
     "name": "stdout",
     "output_type": "stream",
     "text": [
      "<class 'pandas.core.frame.DataFrame'>\n",
      "RangeIndex: 4545007 entries, 0 to 4545006\n",
      "Data columns (total 4 columns):\n",
      " #   Column             Dtype  \n",
      "---  ------             -----  \n",
      " 0   order_id           int64  \n",
      " 1   product_id         int64  \n",
      " 2   add_to_cart_order  float64\n",
      " 3   reordered          int64  \n",
      "dtypes: float64(1), int64(3)\n",
      "memory usage: 138.7 MB\n"
     ]
    }
   ],
   "source": [
    "# mostrar información del DataFrame\n",
    "order_products.info()"
   ]
  },
  {
   "cell_type": "markdown",
   "id": "t75BD19oaR5f",
   "metadata": {
    "id": "t75BD19oaR5f"
   },
   "source": [
    "## Conclusiones\n",
    "\n",
    "Escribe aquí tus conclusiones intermedias sobre el Paso 1. Descripción de los datos.\n",
    "\n",
    "A través de revisar nuestros DF con el método info() podemos: \n",
    "- Revisar el tipo de datos que contiene cada columna: Con ello podemos analizar si se tenga que cambiar el tipo de dato para adecuarlo a nuestro análisis. \n",
    "- El tamaño del dataframe: Para darnos una idea de la cantidad de datos que manejaremos del DF.\n",
    "- Identificar valores ausentes: Podemos identificar qué columnas tienen variables ausente o revisar si necesita alguna modificación de acuerdo a lo que tiene que expresar la columna. "
   ]
  },
  {
   "cell_type": "markdown",
   "id": "8RJHqxVmaVsF",
   "metadata": {
    "id": "8RJHqxVmaVsF"
   },
   "source": [
    "# Paso 2. Preprocesamiento de los datos\n",
    "\n",
    "Preprocesa los datos de la siguiente manera:\n",
    "\n",
    "- Verifica y corrige los tipos de datos (por ejemplo, asegúrate de que las columnas de ID sean números enteros).\n",
    "- Identifica y completa los valores ausentes.\n",
    "- Identifica y elimina los valores duplicados.\n",
    "\n",
    "Asegúrate de explicar qué tipos de valores ausentes y duplicados encontraste, cómo los completaste o eliminaste y por qué usaste esos métodos. ¿Por qué crees que estos valores ausentes y duplicados pueden haber estado presentes en el conjunto de datos?"
   ]
  },
  {
   "cell_type": "markdown",
   "id": "p6poABZQaZYb",
   "metadata": {
    "id": "p6poABZQaZYb"
   },
   "source": [
    "## Plan de solución\n",
    "\n",
    "Escribe aquí tu plan para el Paso 2. Preprocesamiento de los datos.\n",
    "\n",
    "Se procede primero con limpiar los datos ausentes y duplicados. A partir de llamar a info podemos ver el tamaño de nuestro dataframe, así como también el tamaño de datos de cada columna. Por lo que se analizará cada tabla llamado a los métodos correspondientes para duplicados y valores ausentes. "
   ]
  },
  {
   "cell_type": "markdown",
   "id": "07357848-dc64-4156-9cc3-01ff4365226d",
   "metadata": {
    "id": "07357848-dc64-4156-9cc3-01ff4365226d"
   },
   "source": [
    "## Encuentra y elimina los valores duplicados (y describe cómo tomaste tus decisiones)."
   ]
  },
  {
   "cell_type": "markdown",
   "id": "f179f0a9",
   "metadata": {
    "id": "f179f0a9"
   },
   "source": [
    "### `instacart_orders` data frame"
   ]
  },
  {
   "cell_type": "code",
   "execution_count": 8,
   "id": "b99297a5-405a-463d-8535-9adc3da4ad74",
   "metadata": {
    "id": "b99297a5-405a-463d-8535-9adc3da4ad74",
    "trusted": false
   },
   "outputs": [
    {
     "data": {
      "text/plain": [
       "15"
      ]
     },
     "execution_count": 8,
     "metadata": {},
     "output_type": "execute_result"
    }
   ],
   "source": [
    "# Revisa si hay pedidos duplicados\n",
    "instacart_orders[\"order_id\"].duplicated().sum()"
   ]
  },
  {
   "cell_type": "code",
   "execution_count": 9,
   "id": "780d86e6",
   "metadata": {
    "trusted": false
   },
   "outputs": [
    {
     "data": {
      "text/html": [
       "<div>\n",
       "<style scoped>\n",
       "    .dataframe tbody tr th:only-of-type {\n",
       "        vertical-align: middle;\n",
       "    }\n",
       "\n",
       "    .dataframe tbody tr th {\n",
       "        vertical-align: top;\n",
       "    }\n",
       "\n",
       "    .dataframe thead th {\n",
       "        text-align: right;\n",
       "    }\n",
       "</style>\n",
       "<table border=\"1\" class=\"dataframe\">\n",
       "  <thead>\n",
       "    <tr style=\"text-align: right;\">\n",
       "      <th></th>\n",
       "      <th>order_id</th>\n",
       "      <th>user_id</th>\n",
       "      <th>order_number</th>\n",
       "      <th>order_dow</th>\n",
       "      <th>order_hour_of_day</th>\n",
       "      <th>days_since_prior_order</th>\n",
       "    </tr>\n",
       "  </thead>\n",
       "  <tbody>\n",
       "    <tr>\n",
       "      <th>145574</th>\n",
       "      <td>794638</td>\n",
       "      <td>50898</td>\n",
       "      <td>24</td>\n",
       "      <td>3</td>\n",
       "      <td>2</td>\n",
       "      <td>2.0</td>\n",
       "    </tr>\n",
       "    <tr>\n",
       "      <th>223105</th>\n",
       "      <td>2160484</td>\n",
       "      <td>107525</td>\n",
       "      <td>16</td>\n",
       "      <td>3</td>\n",
       "      <td>2</td>\n",
       "      <td>30.0</td>\n",
       "    </tr>\n",
       "    <tr>\n",
       "      <th>230807</th>\n",
       "      <td>1918001</td>\n",
       "      <td>188546</td>\n",
       "      <td>14</td>\n",
       "      <td>3</td>\n",
       "      <td>2</td>\n",
       "      <td>16.0</td>\n",
       "    </tr>\n",
       "    <tr>\n",
       "      <th>266232</th>\n",
       "      <td>1782114</td>\n",
       "      <td>106752</td>\n",
       "      <td>1</td>\n",
       "      <td>3</td>\n",
       "      <td>2</td>\n",
       "      <td>NaN</td>\n",
       "    </tr>\n",
       "    <tr>\n",
       "      <th>273805</th>\n",
       "      <td>1112182</td>\n",
       "      <td>202304</td>\n",
       "      <td>84</td>\n",
       "      <td>3</td>\n",
       "      <td>2</td>\n",
       "      <td>6.0</td>\n",
       "    </tr>\n",
       "    <tr>\n",
       "      <th>284038</th>\n",
       "      <td>2845099</td>\n",
       "      <td>31189</td>\n",
       "      <td>11</td>\n",
       "      <td>3</td>\n",
       "      <td>2</td>\n",
       "      <td>7.0</td>\n",
       "    </tr>\n",
       "    <tr>\n",
       "      <th>311713</th>\n",
       "      <td>1021560</td>\n",
       "      <td>53767</td>\n",
       "      <td>3</td>\n",
       "      <td>3</td>\n",
       "      <td>2</td>\n",
       "      <td>9.0</td>\n",
       "    </tr>\n",
       "    <tr>\n",
       "      <th>321100</th>\n",
       "      <td>408114</td>\n",
       "      <td>68324</td>\n",
       "      <td>4</td>\n",
       "      <td>3</td>\n",
       "      <td>2</td>\n",
       "      <td>18.0</td>\n",
       "    </tr>\n",
       "    <tr>\n",
       "      <th>323900</th>\n",
       "      <td>1919531</td>\n",
       "      <td>191501</td>\n",
       "      <td>32</td>\n",
       "      <td>3</td>\n",
       "      <td>2</td>\n",
       "      <td>7.0</td>\n",
       "    </tr>\n",
       "    <tr>\n",
       "      <th>345917</th>\n",
       "      <td>2232988</td>\n",
       "      <td>82565</td>\n",
       "      <td>1</td>\n",
       "      <td>3</td>\n",
       "      <td>2</td>\n",
       "      <td>NaN</td>\n",
       "    </tr>\n",
       "    <tr>\n",
       "      <th>371905</th>\n",
       "      <td>391768</td>\n",
       "      <td>57671</td>\n",
       "      <td>19</td>\n",
       "      <td>3</td>\n",
       "      <td>2</td>\n",
       "      <td>10.0</td>\n",
       "    </tr>\n",
       "    <tr>\n",
       "      <th>394347</th>\n",
       "      <td>467134</td>\n",
       "      <td>63189</td>\n",
       "      <td>21</td>\n",
       "      <td>3</td>\n",
       "      <td>2</td>\n",
       "      <td>2.0</td>\n",
       "    </tr>\n",
       "    <tr>\n",
       "      <th>411408</th>\n",
       "      <td>1286742</td>\n",
       "      <td>183220</td>\n",
       "      <td>48</td>\n",
       "      <td>3</td>\n",
       "      <td>2</td>\n",
       "      <td>4.0</td>\n",
       "    </tr>\n",
       "    <tr>\n",
       "      <th>415163</th>\n",
       "      <td>2282673</td>\n",
       "      <td>86751</td>\n",
       "      <td>49</td>\n",
       "      <td>3</td>\n",
       "      <td>2</td>\n",
       "      <td>2.0</td>\n",
       "    </tr>\n",
       "    <tr>\n",
       "      <th>441599</th>\n",
       "      <td>2125197</td>\n",
       "      <td>14050</td>\n",
       "      <td>48</td>\n",
       "      <td>3</td>\n",
       "      <td>2</td>\n",
       "      <td>3.0</td>\n",
       "    </tr>\n",
       "  </tbody>\n",
       "</table>\n",
       "</div>"
      ],
      "text/plain": [
       "        order_id  user_id  order_number  order_dow  order_hour_of_day  \\\n",
       "145574    794638    50898            24          3                  2   \n",
       "223105   2160484   107525            16          3                  2   \n",
       "230807   1918001   188546            14          3                  2   \n",
       "266232   1782114   106752             1          3                  2   \n",
       "273805   1112182   202304            84          3                  2   \n",
       "284038   2845099    31189            11          3                  2   \n",
       "311713   1021560    53767             3          3                  2   \n",
       "321100    408114    68324             4          3                  2   \n",
       "323900   1919531   191501            32          3                  2   \n",
       "345917   2232988    82565             1          3                  2   \n",
       "371905    391768    57671            19          3                  2   \n",
       "394347    467134    63189            21          3                  2   \n",
       "411408   1286742   183220            48          3                  2   \n",
       "415163   2282673    86751            49          3                  2   \n",
       "441599   2125197    14050            48          3                  2   \n",
       "\n",
       "        days_since_prior_order  \n",
       "145574                     2.0  \n",
       "223105                    30.0  \n",
       "230807                    16.0  \n",
       "266232                     NaN  \n",
       "273805                     6.0  \n",
       "284038                     7.0  \n",
       "311713                     9.0  \n",
       "321100                    18.0  \n",
       "323900                     7.0  \n",
       "345917                     NaN  \n",
       "371905                    10.0  \n",
       "394347                     2.0  \n",
       "411408                     4.0  \n",
       "415163                     2.0  \n",
       "441599                     3.0  "
      ]
     },
     "execution_count": 9,
     "metadata": {},
     "output_type": "execute_result"
    }
   ],
   "source": [
    "instacart_orders[instacart_orders.duplicated()]"
   ]
  },
  {
   "cell_type": "markdown",
   "id": "PEkwUX_gvt5A",
   "metadata": {
    "id": "PEkwUX_gvt5A"
   },
   "source": [
    "¿Tienes líneas duplicadas? Si sí, ¿qué tienen en común?\n",
    "\n",
    "Lo que tienen en común son los mismos valores en \"order_dow\" y el mismo en \"order_hour_of_day\""
   ]
  },
  {
   "cell_type": "code",
   "execution_count": 10,
   "id": "0d44de5d",
   "metadata": {
    "id": "0d44de5d",
    "trusted": false
   },
   "outputs": [
    {
     "data": {
      "text/html": [
       "<div>\n",
       "<style scoped>\n",
       "    .dataframe tbody tr th:only-of-type {\n",
       "        vertical-align: middle;\n",
       "    }\n",
       "\n",
       "    .dataframe tbody tr th {\n",
       "        vertical-align: top;\n",
       "    }\n",
       "\n",
       "    .dataframe thead th {\n",
       "        text-align: right;\n",
       "    }\n",
       "</style>\n",
       "<table border=\"1\" class=\"dataframe\">\n",
       "  <thead>\n",
       "    <tr style=\"text-align: right;\">\n",
       "      <th></th>\n",
       "      <th>order_id</th>\n",
       "      <th>user_id</th>\n",
       "      <th>order_number</th>\n",
       "      <th>order_dow</th>\n",
       "      <th>order_hour_of_day</th>\n",
       "      <th>days_since_prior_order</th>\n",
       "    </tr>\n",
       "  </thead>\n",
       "  <tbody>\n",
       "    <tr>\n",
       "      <th>4838</th>\n",
       "      <td>2766110</td>\n",
       "      <td>162084</td>\n",
       "      <td>41</td>\n",
       "      <td>3</td>\n",
       "      <td>2</td>\n",
       "      <td>16.0</td>\n",
       "    </tr>\n",
       "    <tr>\n",
       "      <th>5156</th>\n",
       "      <td>2190225</td>\n",
       "      <td>138285</td>\n",
       "      <td>18</td>\n",
       "      <td>3</td>\n",
       "      <td>2</td>\n",
       "      <td>11.0</td>\n",
       "    </tr>\n",
       "    <tr>\n",
       "      <th>15506</th>\n",
       "      <td>553049</td>\n",
       "      <td>58599</td>\n",
       "      <td>13</td>\n",
       "      <td>3</td>\n",
       "      <td>2</td>\n",
       "      <td>7.0</td>\n",
       "    </tr>\n",
       "    <tr>\n",
       "      <th>18420</th>\n",
       "      <td>382357</td>\n",
       "      <td>120200</td>\n",
       "      <td>19</td>\n",
       "      <td>3</td>\n",
       "      <td>2</td>\n",
       "      <td>11.0</td>\n",
       "    </tr>\n",
       "    <tr>\n",
       "      <th>24691</th>\n",
       "      <td>690242</td>\n",
       "      <td>77357</td>\n",
       "      <td>2</td>\n",
       "      <td>3</td>\n",
       "      <td>2</td>\n",
       "      <td>9.0</td>\n",
       "    </tr>\n",
       "    <tr>\n",
       "      <th>...</th>\n",
       "      <td>...</td>\n",
       "      <td>...</td>\n",
       "      <td>...</td>\n",
       "      <td>...</td>\n",
       "      <td>...</td>\n",
       "      <td>...</td>\n",
       "    </tr>\n",
       "    <tr>\n",
       "      <th>457013</th>\n",
       "      <td>3384021</td>\n",
       "      <td>14881</td>\n",
       "      <td>6</td>\n",
       "      <td>3</td>\n",
       "      <td>2</td>\n",
       "      <td>30.0</td>\n",
       "    </tr>\n",
       "    <tr>\n",
       "      <th>458816</th>\n",
       "      <td>910166</td>\n",
       "      <td>164782</td>\n",
       "      <td>18</td>\n",
       "      <td>3</td>\n",
       "      <td>2</td>\n",
       "      <td>4.0</td>\n",
       "    </tr>\n",
       "    <tr>\n",
       "      <th>459635</th>\n",
       "      <td>1680532</td>\n",
       "      <td>106435</td>\n",
       "      <td>6</td>\n",
       "      <td>3</td>\n",
       "      <td>2</td>\n",
       "      <td>21.0</td>\n",
       "    </tr>\n",
       "    <tr>\n",
       "      <th>468324</th>\n",
       "      <td>222962</td>\n",
       "      <td>54979</td>\n",
       "      <td>59</td>\n",
       "      <td>3</td>\n",
       "      <td>2</td>\n",
       "      <td>3.0</td>\n",
       "    </tr>\n",
       "    <tr>\n",
       "      <th>477526</th>\n",
       "      <td>2592344</td>\n",
       "      <td>46860</td>\n",
       "      <td>38</td>\n",
       "      <td>3</td>\n",
       "      <td>2</td>\n",
       "      <td>3.0</td>\n",
       "    </tr>\n",
       "  </tbody>\n",
       "</table>\n",
       "<p>121 rows × 6 columns</p>\n",
       "</div>"
      ],
      "text/plain": [
       "        order_id  user_id  order_number  order_dow  order_hour_of_day  \\\n",
       "4838     2766110   162084            41          3                  2   \n",
       "5156     2190225   138285            18          3                  2   \n",
       "15506     553049    58599            13          3                  2   \n",
       "18420     382357   120200            19          3                  2   \n",
       "24691     690242    77357             2          3                  2   \n",
       "...          ...      ...           ...        ...                ...   \n",
       "457013   3384021    14881             6          3                  2   \n",
       "458816    910166   164782            18          3                  2   \n",
       "459635   1680532   106435             6          3                  2   \n",
       "468324    222962    54979            59          3                  2   \n",
       "477526   2592344    46860            38          3                  2   \n",
       "\n",
       "        days_since_prior_order  \n",
       "4838                      16.0  \n",
       "5156                      11.0  \n",
       "15506                      7.0  \n",
       "18420                     11.0  \n",
       "24691                      9.0  \n",
       "...                        ...  \n",
       "457013                    30.0  \n",
       "458816                     4.0  \n",
       "459635                    21.0  \n",
       "468324                     3.0  \n",
       "477526                     3.0  \n",
       "\n",
       "[121 rows x 6 columns]"
      ]
     },
     "execution_count": 10,
     "metadata": {},
     "output_type": "execute_result"
    }
   ],
   "source": [
    "# Basándote en tus hallazgos,\n",
    "# Verifica todos los pedidos que se hicieron el miércoles a las 2:00 a.m.\n",
    "\n",
    "wednesday_orders_at_two = instacart_orders[(instacart_orders[\"order_dow\"] == 3) & (instacart_orders[\"order_hour_of_day\"] == 2)]\n",
    "wednesday_orders_at_two"
   ]
  },
  {
   "cell_type": "markdown",
   "id": "vu2OWyoqwOx5",
   "metadata": {
    "id": "vu2OWyoqwOx5"
   },
   "source": [
    "¿Qué sugiere este resultado?\n",
    "\n",
    "Que las columnas que coinciden con los valores filtrados order_dow y order_hour_of_day no necesarimente tienen un dato duplicado. "
   ]
  },
  {
   "cell_type": "code",
   "execution_count": 11,
   "id": "480563c7",
   "metadata": {
    "id": "480563c7",
    "trusted": false
   },
   "outputs": [],
   "source": [
    "# Elimina los pedidos duplicados\n",
    "instacart_orders = instacart_orders.drop_duplicates().reset_index(drop=True)"
   ]
  },
  {
   "cell_type": "code",
   "execution_count": 12,
   "id": "0b2396a2",
   "metadata": {
    "id": "0b2396a2",
    "trusted": false
   },
   "outputs": [
    {
     "data": {
      "text/plain": [
       "0"
      ]
     },
     "execution_count": 12,
     "metadata": {},
     "output_type": "execute_result"
    }
   ],
   "source": [
    "# Vuelve a verificar si hay filas duplicadas\n",
    "instacart_orders.duplicated().sum()\n"
   ]
  },
  {
   "cell_type": "code",
   "execution_count": 13,
   "id": "f6113ef1",
   "metadata": {
    "id": "f6113ef1",
    "trusted": false
   },
   "outputs": [
    {
     "data": {
      "text/plain": [
       "0"
      ]
     },
     "execution_count": 13,
     "metadata": {},
     "output_type": "execute_result"
    }
   ],
   "source": [
    "# Vuelve a verificar si hay IDs duplicados de pedidos\n",
    "instacart_orders[\"order_id\"].duplicated().sum()"
   ]
  },
  {
   "cell_type": "markdown",
   "id": "5e8905ae",
   "metadata": {
    "id": "5e8905ae"
   },
   "source": [
    "Describe brevemente tus hallazgos y lo que hiciste con ellos\n",
    "\n",
    "Se revisó si hay pedidos dupicados a partir de filtrar la columna \"order_id\". Al imprimir sus resultados, notamos que coinciden con los mismos valores para dos columnas: \"order_dow\", con el valor 3, y \"order_hour_of_day\", con el valor 2. Sin embargo, si filtramos el dataframe \"instacart_orders\" con estos valores, nos arroja que tenemos un total de 121 filas que cumplen con estas condiciones. \n",
    "\n",
    "Por lo tanto, si notamos que hay valores que coinciden en varias columnas cuando revisamos los duplicados, debemos filtrar el dataframe con estos valores para dar un vistazo al contenido de la tabla y analizar si estos valores duplicados pueden afectar al análisis de datos. \n",
    "\n",
    "Al ser solo 15 duplicados en una tabla de 478967 entradas/filas, se decidió borrarlos del dataframe ya que no afectará en gran medida los resultados de nuestro análisis. "
   ]
  },
  {
   "cell_type": "markdown",
   "id": "45e6bc46",
   "metadata": {
    "id": "45e6bc46"
   },
   "source": [
    "### `products` data frame"
   ]
  },
  {
   "cell_type": "code",
   "execution_count": 14,
   "id": "5f526b5b-8175-46fa-a0fd-441767d50e64",
   "metadata": {
    "id": "5f526b5b-8175-46fa-a0fd-441767d50e64",
    "trusted": false
   },
   "outputs": [
    {
     "data": {
      "text/plain": [
       "0"
      ]
     },
     "execution_count": 14,
     "metadata": {},
     "output_type": "execute_result"
    }
   ],
   "source": [
    "# Verifica si hay filas totalmente duplicadas\n",
    "products.duplicated().sum()"
   ]
  },
  {
   "cell_type": "code",
   "execution_count": 15,
   "id": "88daa4f4",
   "metadata": {
    "id": "88daa4f4",
    "trusted": false
   },
   "outputs": [
    {
     "data": {
      "text/plain": [
       "0"
      ]
     },
     "execution_count": 15,
     "metadata": {},
     "output_type": "execute_result"
    }
   ],
   "source": [
    "# Verifica si hay IDs duplicadas de productos\n",
    "products[\"product_id\"].duplicated().sum()"
   ]
  },
  {
   "cell_type": "code",
   "execution_count": 16,
   "id": "c773f0bf",
   "metadata": {
    "id": "c773f0bf",
    "trusted": false
   },
   "outputs": [
    {
     "data": {
      "text/plain": [
       "1361"
      ]
     },
     "execution_count": 16,
     "metadata": {},
     "output_type": "execute_result"
    }
   ],
   "source": [
    "# Revisa si hay nombres duplicados de productos (convierte los nombres a letras mayúsculas para compararlos mejor)\n",
    "products[\"product_name\"] = products[\"product_name\"].str.upper()\n",
    "products[\"product_name\"].duplicated().sum()\n"
   ]
  },
  {
   "cell_type": "code",
   "execution_count": 17,
   "id": "01efd02e",
   "metadata": {
    "id": "01efd02e",
    "trusted": false
   },
   "outputs": [
    {
     "data": {
      "text/html": [
       "<div>\n",
       "<style scoped>\n",
       "    .dataframe tbody tr th:only-of-type {\n",
       "        vertical-align: middle;\n",
       "    }\n",
       "\n",
       "    .dataframe tbody tr th {\n",
       "        vertical-align: top;\n",
       "    }\n",
       "\n",
       "    .dataframe thead th {\n",
       "        text-align: right;\n",
       "    }\n",
       "</style>\n",
       "<table border=\"1\" class=\"dataframe\">\n",
       "  <thead>\n",
       "    <tr style=\"text-align: right;\">\n",
       "      <th></th>\n",
       "      <th>product_id</th>\n",
       "      <th>product_name</th>\n",
       "      <th>aisle_id</th>\n",
       "      <th>department_id</th>\n",
       "    </tr>\n",
       "  </thead>\n",
       "  <tbody>\n",
       "    <tr>\n",
       "      <th>2058</th>\n",
       "      <td>2059</td>\n",
       "      <td>BIOTIN 1000 MCG</td>\n",
       "      <td>47</td>\n",
       "      <td>11</td>\n",
       "    </tr>\n",
       "    <tr>\n",
       "      <th>5455</th>\n",
       "      <td>5456</td>\n",
       "      <td>GREEN TEA WITH GINSENG AND HONEY</td>\n",
       "      <td>96</td>\n",
       "      <td>20</td>\n",
       "    </tr>\n",
       "    <tr>\n",
       "      <th>5558</th>\n",
       "      <td>5559</td>\n",
       "      <td>CREAM OF MUSHROOM SOUP</td>\n",
       "      <td>69</td>\n",
       "      <td>15</td>\n",
       "    </tr>\n",
       "    <tr>\n",
       "      <th>7558</th>\n",
       "      <td>7559</td>\n",
       "      <td>CINNAMON ROLLS WITH ICING</td>\n",
       "      <td>105</td>\n",
       "      <td>13</td>\n",
       "    </tr>\n",
       "    <tr>\n",
       "      <th>9037</th>\n",
       "      <td>9038</td>\n",
       "      <td>AMERICAN CHEESE SLICES</td>\n",
       "      <td>21</td>\n",
       "      <td>16</td>\n",
       "    </tr>\n",
       "    <tr>\n",
       "      <th>...</th>\n",
       "      <td>...</td>\n",
       "      <td>...</td>\n",
       "      <td>...</td>\n",
       "      <td>...</td>\n",
       "    </tr>\n",
       "    <tr>\n",
       "      <th>49689</th>\n",
       "      <td>49690</td>\n",
       "      <td>HIGH PERFORMANCE ENERGY DRINK</td>\n",
       "      <td>64</td>\n",
       "      <td>7</td>\n",
       "    </tr>\n",
       "    <tr>\n",
       "      <th>49690</th>\n",
       "      <td>49691</td>\n",
       "      <td>ORIGINAL PANCAKE &amp; WAFFLE MIX</td>\n",
       "      <td>130</td>\n",
       "      <td>14</td>\n",
       "    </tr>\n",
       "    <tr>\n",
       "      <th>49691</th>\n",
       "      <td>49692</td>\n",
       "      <td>ORGANIC INSTANT OATMEAL LIGHT MAPLE BROWN SUGAR</td>\n",
       "      <td>130</td>\n",
       "      <td>14</td>\n",
       "    </tr>\n",
       "    <tr>\n",
       "      <th>49692</th>\n",
       "      <td>49693</td>\n",
       "      <td>SPRING WATER BODY WASH</td>\n",
       "      <td>127</td>\n",
       "      <td>11</td>\n",
       "    </tr>\n",
       "    <tr>\n",
       "      <th>49693</th>\n",
       "      <td>49694</td>\n",
       "      <td>BURRITO- STEAK &amp; CHEESE</td>\n",
       "      <td>38</td>\n",
       "      <td>1</td>\n",
       "    </tr>\n",
       "  </tbody>\n",
       "</table>\n",
       "<p>104 rows × 4 columns</p>\n",
       "</div>"
      ],
      "text/plain": [
       "       product_id                                     product_name  aisle_id  \\\n",
       "2058         2059                                  BIOTIN 1000 MCG        47   \n",
       "5455         5456                 GREEN TEA WITH GINSENG AND HONEY        96   \n",
       "5558         5559                           CREAM OF MUSHROOM SOUP        69   \n",
       "7558         7559                        CINNAMON ROLLS WITH ICING       105   \n",
       "9037         9038                           AMERICAN CHEESE SLICES        21   \n",
       "...           ...                                              ...       ...   \n",
       "49689       49690                    HIGH PERFORMANCE ENERGY DRINK        64   \n",
       "49690       49691                    ORIGINAL PANCAKE & WAFFLE MIX       130   \n",
       "49691       49692  ORGANIC INSTANT OATMEAL LIGHT MAPLE BROWN SUGAR       130   \n",
       "49692       49693                           SPRING WATER BODY WASH       127   \n",
       "49693       49694                          BURRITO- STEAK & CHEESE        38   \n",
       "\n",
       "       department_id  \n",
       "2058              11  \n",
       "5455              20  \n",
       "5558              15  \n",
       "7558              13  \n",
       "9037              16  \n",
       "...              ...  \n",
       "49689              7  \n",
       "49690             14  \n",
       "49691             14  \n",
       "49692             11  \n",
       "49693              1  \n",
       "\n",
       "[104 rows x 4 columns]"
      ]
     },
     "execution_count": 17,
     "metadata": {},
     "output_type": "execute_result"
    }
   ],
   "source": [
    "# Revisa si hay nombres duplicados de productos no faltantes\n",
    "products[(~products['product_name'].isna()) & products['product_name'].duplicated()]\n"
   ]
  },
  {
   "cell_type": "markdown",
   "id": "9da8d293",
   "metadata": {
    "id": "9da8d293"
   },
   "source": [
    "Describe brevemente tus hallazgos y lo que hiciste con ellos.\n",
    "\n",
    "Es importante que la capitalización de los valores tipo string/object sea uniforme, ya que al llamar a duplicated distingue la misma palabra con distinta capitalización como un valor distinto. "
   ]
  },
  {
   "cell_type": "markdown",
   "id": "60f30db1",
   "metadata": {
    "id": "60f30db1"
   },
   "source": [
    "### `departments` data frame"
   ]
  },
  {
   "cell_type": "code",
   "execution_count": 18,
   "id": "fb410ad4-0fbf-4b80-bb09-23fdea79afe3",
   "metadata": {
    "id": "fb410ad4-0fbf-4b80-bb09-23fdea79afe3",
    "trusted": false
   },
   "outputs": [
    {
     "data": {
      "text/plain": [
       "0"
      ]
     },
     "execution_count": 18,
     "metadata": {},
     "output_type": "execute_result"
    }
   ],
   "source": [
    "# Revisa si hay filas totalmente duplicadas\n",
    "departments.duplicated().sum()"
   ]
  },
  {
   "cell_type": "code",
   "execution_count": 19,
   "id": "332b12bb",
   "metadata": {
    "id": "332b12bb",
    "trusted": false
   },
   "outputs": [
    {
     "data": {
      "text/plain": [
       "0"
      ]
     },
     "execution_count": 19,
     "metadata": {},
     "output_type": "execute_result"
    }
   ],
   "source": [
    "# Revisa si hay IDs duplicadas de productos\n",
    "departments[\"department_id\"].duplicated().sum()"
   ]
  },
  {
   "cell_type": "markdown",
   "id": "bd30d78e",
   "metadata": {
    "id": "bd30d78e"
   },
   "source": [
    "Describe brevemente tus hallazgos y lo que hiciste con ellos.\n",
    "\n",
    "Departments es un dataframe pequeño, por lo que se puede hacer una revisión breve de los datos para corroborar que efectivamente no contiene duplicados. "
   ]
  },
  {
   "cell_type": "markdown",
   "id": "889349c1",
   "metadata": {
    "id": "889349c1"
   },
   "source": [
    "### `aisles` data frame"
   ]
  },
  {
   "cell_type": "code",
   "execution_count": 20,
   "id": "9da89fb9-4679-40f5-ad0d-c34df753a3f8",
   "metadata": {
    "id": "9da89fb9-4679-40f5-ad0d-c34df753a3f8",
    "trusted": false
   },
   "outputs": [
    {
     "data": {
      "text/plain": [
       "0"
      ]
     },
     "execution_count": 20,
     "metadata": {},
     "output_type": "execute_result"
    }
   ],
   "source": [
    "# Revisa si hay filas totalmente duplicadas\n",
    "aisles.duplicated().sum()"
   ]
  },
  {
   "cell_type": "code",
   "execution_count": 21,
   "id": "da7c2822",
   "metadata": {
    "id": "da7c2822",
    "trusted": false
   },
   "outputs": [
    {
     "data": {
      "text/plain": [
       "0"
      ]
     },
     "execution_count": 21,
     "metadata": {},
     "output_type": "execute_result"
    }
   ],
   "source": [
    "# Revisa si hay IDs duplicadas de productos\n",
    "aisles[\"aisle_id\"].duplicated().sum()"
   ]
  },
  {
   "cell_type": "markdown",
   "id": "ac63826f",
   "metadata": {
    "id": "ac63826f"
   },
   "source": [
    "Describe brevemente tus hallazgos y lo que hiciste con ellos.\n",
    "\n",
    "Aisles es un dataframe pequeño, por lo que se puede hacer una revisión breve de los datos para corroborar que efectivamente no contiene duplicados. "
   ]
  },
  {
   "cell_type": "markdown",
   "id": "274cd06a",
   "metadata": {
    "id": "274cd06a"
   },
   "source": [
    "### `order_products` data frame"
   ]
  },
  {
   "cell_type": "code",
   "execution_count": 22,
   "id": "52326689-84a8-4b8f-a881-7c68780f62c9",
   "metadata": {
    "id": "52326689-84a8-4b8f-a881-7c68780f62c9",
    "trusted": false
   },
   "outputs": [
    {
     "data": {
      "text/plain": [
       "0"
      ]
     },
     "execution_count": 22,
     "metadata": {},
     "output_type": "execute_result"
    }
   ],
   "source": [
    "# Revisa si hay filas totalmente duplicadas\n",
    "order_products.duplicated().sum()\n"
   ]
  },
  {
   "cell_type": "code",
   "execution_count": 23,
   "id": "7b861391",
   "metadata": {
    "id": "7b861391",
    "trusted": false
   },
   "outputs": [
    {
     "data": {
      "text/plain": [
       "0"
      ]
     },
     "execution_count": 23,
     "metadata": {},
     "output_type": "execute_result"
    }
   ],
   "source": [
    "# Vuelve a verificar si hay cualquier otro duplicado engañoso\n",
    "order_products[[\"order_id\",\"product_id\"]].duplicated().sum()"
   ]
  },
  {
   "cell_type": "code",
   "execution_count": 24,
   "id": "aee57d00",
   "metadata": {
    "trusted": false
   },
   "outputs": [
    {
     "data": {
      "text/html": [
       "<div>\n",
       "<style scoped>\n",
       "    .dataframe tbody tr th:only-of-type {\n",
       "        vertical-align: middle;\n",
       "    }\n",
       "\n",
       "    .dataframe tbody tr th {\n",
       "        vertical-align: top;\n",
       "    }\n",
       "\n",
       "    .dataframe thead th {\n",
       "        text-align: right;\n",
       "    }\n",
       "</style>\n",
       "<table border=\"1\" class=\"dataframe\">\n",
       "  <thead>\n",
       "    <tr style=\"text-align: right;\">\n",
       "      <th></th>\n",
       "      <th>order_id</th>\n",
       "      <th>product_id</th>\n",
       "    </tr>\n",
       "  </thead>\n",
       "  <tbody>\n",
       "    <tr>\n",
       "      <th>0</th>\n",
       "      <td>4</td>\n",
       "      <td>[27761, 22598, 39758, 32645, 10054, 34862, 412...</td>\n",
       "    </tr>\n",
       "    <tr>\n",
       "      <th>1</th>\n",
       "      <td>9</td>\n",
       "      <td>[29193, 14992, 3990, 2014, 44533, 27366, 432, ...</td>\n",
       "    </tr>\n",
       "    <tr>\n",
       "      <th>2</th>\n",
       "      <td>11</td>\n",
       "      <td>[27085, 5994, 1313, 31506, 30162]</td>\n",
       "    </tr>\n",
       "    <tr>\n",
       "      <th>3</th>\n",
       "      <td>19</td>\n",
       "      <td>[24838, 42265, 41540]</td>\n",
       "    </tr>\n",
       "    <tr>\n",
       "      <th>4</th>\n",
       "      <td>31</td>\n",
       "      <td>[31717, 4920, 29926, 47900, 48946, 25647, 2190...</td>\n",
       "    </tr>\n",
       "    <tr>\n",
       "      <th>...</th>\n",
       "      <td>...</td>\n",
       "      <td>...</td>\n",
       "    </tr>\n",
       "    <tr>\n",
       "      <th>395814</th>\n",
       "      <td>3421013</td>\n",
       "      <td>[7326, 25743, 3689, 36615, 28449, 28073, 30235...</td>\n",
       "    </tr>\n",
       "    <tr>\n",
       "      <th>395815</th>\n",
       "      <td>3421018</td>\n",
       "      <td>[44910, 48622, 9890, 24891, 21872, 32732, 2965...</td>\n",
       "    </tr>\n",
       "    <tr>\n",
       "      <th>395816</th>\n",
       "      <td>3421034</td>\n",
       "      <td>[27503, 7948, 14764, 46993, 28476, 36316, 2148...</td>\n",
       "    </tr>\n",
       "    <tr>\n",
       "      <th>395817</th>\n",
       "      <td>3421053</td>\n",
       "      <td>[26209, 39993, 39024, 35147, 36522, 12206, 304...</td>\n",
       "    </tr>\n",
       "    <tr>\n",
       "      <th>395818</th>\n",
       "      <td>3421071</td>\n",
       "      <td>[32293]</td>\n",
       "    </tr>\n",
       "  </tbody>\n",
       "</table>\n",
       "<p>395819 rows × 2 columns</p>\n",
       "</div>"
      ],
      "text/plain": [
       "        order_id                                         product_id\n",
       "0              4  [27761, 22598, 39758, 32645, 10054, 34862, 412...\n",
       "1              9  [29193, 14992, 3990, 2014, 44533, 27366, 432, ...\n",
       "2             11                  [27085, 5994, 1313, 31506, 30162]\n",
       "3             19                              [24838, 42265, 41540]\n",
       "4             31  [31717, 4920, 29926, 47900, 48946, 25647, 2190...\n",
       "...          ...                                                ...\n",
       "395814   3421013  [7326, 25743, 3689, 36615, 28449, 28073, 30235...\n",
       "395815   3421018  [44910, 48622, 9890, 24891, 21872, 32732, 2965...\n",
       "395816   3421034  [27503, 7948, 14764, 46993, 28476, 36316, 2148...\n",
       "395817   3421053  [26209, 39993, 39024, 35147, 36522, 12206, 304...\n",
       "395818   3421071                                            [32293]\n",
       "\n",
       "[395819 rows x 2 columns]"
      ]
     },
     "execution_count": 24,
     "metadata": {},
     "output_type": "execute_result"
    }
   ],
   "source": [
    "# Ver los productos que se han reordenado en el mismo pedido\n",
    "reordered_products = order_products[order_products[\"reordered\"] == 1]\n",
    "reordered_products_order= reordered_products.groupby(\"order_id\")[\"product_id\"].unique().reset_index()\n",
    "reordered_products_order"
   ]
  },
  {
   "cell_type": "code",
   "execution_count": 25,
   "id": "f04841cb",
   "metadata": {
    "trusted": false
   },
   "outputs": [
    {
     "data": {
      "text/plain": [
       "product_id\n",
       "1        280\n",
       "2         11\n",
       "3         42\n",
       "4         49\n",
       "7          2\n",
       "        ... \n",
       "49690      5\n",
       "49691     72\n",
       "49692     12\n",
       "49693     25\n",
       "49694      9\n",
       "Name: order_id, Length: 40526, dtype: int64"
      ]
     },
     "execution_count": 25,
     "metadata": {},
     "output_type": "execute_result"
    }
   ],
   "source": [
    "# Ver los productos que han sido comprados más de una vez\n",
    "product_counts = order_products.groupby(\"product_id\")[\"order_id\"].count()\n",
    "products_more_than_once = product_counts[product_counts > 1]\n",
    "products_more_than_once"
   ]
  },
  {
   "cell_type": "markdown",
   "id": "0b890492",
   "metadata": {
    "id": "0b890492"
   },
   "source": [
    "Describe brevemente tus hallazgos y lo que hiciste con ellos.\n",
    "\n",
    "Se debe de entender los datos para evitar interpretar que los datos sean duplicados. Por ejemplo, el \"product_id\" y el \"order_id\" tiene datos repetidos, pero eso solo significa el número de veces que aparecen en el dataframe, no necesariamente son datos duplicados. Igualmente podemos jugar con los datos para tener una perspectiva de la información, tal como revisar los productos que se adquirieron un pedido y los productos reordenados por pedido. "
   ]
  },
  {
   "cell_type": "markdown",
   "id": "1e46de76",
   "metadata": {
    "id": "1e46de76"
   },
   "source": [
    "## Encuentra y elimina los valores ausentes\n",
    "\n",
    "Al trabajar con valores duplicados, pudimos observar que también nos falta investigar valores ausentes:\n",
    "\n",
    "* La columna `'product_name'` de la tabla products.\n",
    "* La columna `'days_since_prior_order'` de la tabla orders.\n",
    "* La columna `'add_to_cart_order'` de la tabla order_productos."
   ]
  },
  {
   "cell_type": "markdown",
   "id": "c0aebd78",
   "metadata": {
    "id": "c0aebd78"
   },
   "source": [
    "### `products` data frame"
   ]
  },
  {
   "cell_type": "code",
   "execution_count": 26,
   "id": "fe4a8b0f",
   "metadata": {
    "id": "fe4a8b0f",
    "trusted": false
   },
   "outputs": [
    {
     "data": {
      "text/plain": [
       "1258"
      ]
     },
     "execution_count": 26,
     "metadata": {},
     "output_type": "execute_result"
    }
   ],
   "source": [
    "# Encuentra los valores ausentes en la columna 'product_name'\n",
    "nan_product_name = products[\"product_name\"].isna().sum()\n",
    "nan_product_name"
   ]
  },
  {
   "cell_type": "markdown",
   "id": "-A6x1AbJhjkp",
   "metadata": {
    "id": "-A6x1AbJhjkp"
   },
   "source": [
    "Describe brevemente cuáles son tus hallazgos.\n",
    "\n",
    "La columna product_name del data frame products contiene 1258 valores nulos. Se tiene que revisar por qué tiene valores ausentes. "
   ]
  },
  {
   "cell_type": "code",
   "execution_count": 27,
   "id": "e96167bc",
   "metadata": {
    "id": "e96167bc",
    "trusted": false
   },
   "outputs": [
    {
     "data": {
      "text/html": [
       "<div>\n",
       "<style scoped>\n",
       "    .dataframe tbody tr th:only-of-type {\n",
       "        vertical-align: middle;\n",
       "    }\n",
       "\n",
       "    .dataframe tbody tr th {\n",
       "        vertical-align: top;\n",
       "    }\n",
       "\n",
       "    .dataframe thead th {\n",
       "        text-align: right;\n",
       "    }\n",
       "</style>\n",
       "<table border=\"1\" class=\"dataframe\">\n",
       "  <thead>\n",
       "    <tr style=\"text-align: right;\">\n",
       "      <th></th>\n",
       "      <th>product_id</th>\n",
       "      <th>product_name</th>\n",
       "      <th>aisle_id</th>\n",
       "      <th>department_id</th>\n",
       "    </tr>\n",
       "  </thead>\n",
       "  <tbody>\n",
       "    <tr>\n",
       "      <th>37</th>\n",
       "      <td>38</td>\n",
       "      <td>NaN</td>\n",
       "      <td>100</td>\n",
       "      <td>21</td>\n",
       "    </tr>\n",
       "    <tr>\n",
       "      <th>71</th>\n",
       "      <td>72</td>\n",
       "      <td>NaN</td>\n",
       "      <td>100</td>\n",
       "      <td>21</td>\n",
       "    </tr>\n",
       "    <tr>\n",
       "      <th>109</th>\n",
       "      <td>110</td>\n",
       "      <td>NaN</td>\n",
       "      <td>100</td>\n",
       "      <td>21</td>\n",
       "    </tr>\n",
       "    <tr>\n",
       "      <th>296</th>\n",
       "      <td>297</td>\n",
       "      <td>NaN</td>\n",
       "      <td>100</td>\n",
       "      <td>21</td>\n",
       "    </tr>\n",
       "    <tr>\n",
       "      <th>416</th>\n",
       "      <td>417</td>\n",
       "      <td>NaN</td>\n",
       "      <td>100</td>\n",
       "      <td>21</td>\n",
       "    </tr>\n",
       "    <tr>\n",
       "      <th>...</th>\n",
       "      <td>...</td>\n",
       "      <td>...</td>\n",
       "      <td>...</td>\n",
       "      <td>...</td>\n",
       "    </tr>\n",
       "    <tr>\n",
       "      <th>49552</th>\n",
       "      <td>49553</td>\n",
       "      <td>NaN</td>\n",
       "      <td>100</td>\n",
       "      <td>21</td>\n",
       "    </tr>\n",
       "    <tr>\n",
       "      <th>49574</th>\n",
       "      <td>49575</td>\n",
       "      <td>NaN</td>\n",
       "      <td>100</td>\n",
       "      <td>21</td>\n",
       "    </tr>\n",
       "    <tr>\n",
       "      <th>49640</th>\n",
       "      <td>49641</td>\n",
       "      <td>NaN</td>\n",
       "      <td>100</td>\n",
       "      <td>21</td>\n",
       "    </tr>\n",
       "    <tr>\n",
       "      <th>49663</th>\n",
       "      <td>49664</td>\n",
       "      <td>NaN</td>\n",
       "      <td>100</td>\n",
       "      <td>21</td>\n",
       "    </tr>\n",
       "    <tr>\n",
       "      <th>49668</th>\n",
       "      <td>49669</td>\n",
       "      <td>NaN</td>\n",
       "      <td>100</td>\n",
       "      <td>21</td>\n",
       "    </tr>\n",
       "  </tbody>\n",
       "</table>\n",
       "<p>1258 rows × 4 columns</p>\n",
       "</div>"
      ],
      "text/plain": [
       "       product_id product_name  aisle_id  department_id\n",
       "37             38          NaN       100             21\n",
       "71             72          NaN       100             21\n",
       "109           110          NaN       100             21\n",
       "296           297          NaN       100             21\n",
       "416           417          NaN       100             21\n",
       "...           ...          ...       ...            ...\n",
       "49552       49553          NaN       100             21\n",
       "49574       49575          NaN       100             21\n",
       "49640       49641          NaN       100             21\n",
       "49663       49664          NaN       100             21\n",
       "49668       49669          NaN       100             21\n",
       "\n",
       "[1258 rows x 4 columns]"
      ]
     },
     "execution_count": 27,
     "metadata": {},
     "output_type": "execute_result"
    }
   ],
   "source": [
    "#  ¿Todos los nombres de productos ausentes están relacionados con el pasillo con ID 100?\n",
    "products_id100 = products[products[\"aisle_id\"] == 100]\n",
    "products_id100\n",
    "                          \n"
   ]
  },
  {
   "cell_type": "markdown",
   "id": "WRpIfXRphpSL",
   "metadata": {
    "id": "WRpIfXRphpSL"
   },
   "source": [
    "Describe brevemente cuáles son tus hallazgos.\n",
    "\n",
    "Al revisar los datos ausentes de product name y al filtrar por el aisle_id con valor a 100, nos arroja que ahí están los valores ausentes. Por lo que el aisle_id con valor a 100 nos indidca que no tiene una asignación de información que nos ayude a identiticar el producto. "
   ]
  },
  {
   "cell_type": "code",
   "execution_count": 28,
   "id": "8fd0a541",
   "metadata": {
    "id": "8fd0a541",
    "trusted": false
   },
   "outputs": [
    {
     "data": {
      "text/html": [
       "<div>\n",
       "<style scoped>\n",
       "    .dataframe tbody tr th:only-of-type {\n",
       "        vertical-align: middle;\n",
       "    }\n",
       "\n",
       "    .dataframe tbody tr th {\n",
       "        vertical-align: top;\n",
       "    }\n",
       "\n",
       "    .dataframe thead th {\n",
       "        text-align: right;\n",
       "    }\n",
       "</style>\n",
       "<table border=\"1\" class=\"dataframe\">\n",
       "  <thead>\n",
       "    <tr style=\"text-align: right;\">\n",
       "      <th></th>\n",
       "      <th>product_id</th>\n",
       "      <th>product_name</th>\n",
       "      <th>aisle_id</th>\n",
       "      <th>department_id</th>\n",
       "    </tr>\n",
       "  </thead>\n",
       "  <tbody>\n",
       "    <tr>\n",
       "      <th>37</th>\n",
       "      <td>38</td>\n",
       "      <td>NaN</td>\n",
       "      <td>100</td>\n",
       "      <td>21</td>\n",
       "    </tr>\n",
       "    <tr>\n",
       "      <th>71</th>\n",
       "      <td>72</td>\n",
       "      <td>NaN</td>\n",
       "      <td>100</td>\n",
       "      <td>21</td>\n",
       "    </tr>\n",
       "    <tr>\n",
       "      <th>109</th>\n",
       "      <td>110</td>\n",
       "      <td>NaN</td>\n",
       "      <td>100</td>\n",
       "      <td>21</td>\n",
       "    </tr>\n",
       "    <tr>\n",
       "      <th>296</th>\n",
       "      <td>297</td>\n",
       "      <td>NaN</td>\n",
       "      <td>100</td>\n",
       "      <td>21</td>\n",
       "    </tr>\n",
       "    <tr>\n",
       "      <th>416</th>\n",
       "      <td>417</td>\n",
       "      <td>NaN</td>\n",
       "      <td>100</td>\n",
       "      <td>21</td>\n",
       "    </tr>\n",
       "    <tr>\n",
       "      <th>...</th>\n",
       "      <td>...</td>\n",
       "      <td>...</td>\n",
       "      <td>...</td>\n",
       "      <td>...</td>\n",
       "    </tr>\n",
       "    <tr>\n",
       "      <th>49552</th>\n",
       "      <td>49553</td>\n",
       "      <td>NaN</td>\n",
       "      <td>100</td>\n",
       "      <td>21</td>\n",
       "    </tr>\n",
       "    <tr>\n",
       "      <th>49574</th>\n",
       "      <td>49575</td>\n",
       "      <td>NaN</td>\n",
       "      <td>100</td>\n",
       "      <td>21</td>\n",
       "    </tr>\n",
       "    <tr>\n",
       "      <th>49640</th>\n",
       "      <td>49641</td>\n",
       "      <td>NaN</td>\n",
       "      <td>100</td>\n",
       "      <td>21</td>\n",
       "    </tr>\n",
       "    <tr>\n",
       "      <th>49663</th>\n",
       "      <td>49664</td>\n",
       "      <td>NaN</td>\n",
       "      <td>100</td>\n",
       "      <td>21</td>\n",
       "    </tr>\n",
       "    <tr>\n",
       "      <th>49668</th>\n",
       "      <td>49669</td>\n",
       "      <td>NaN</td>\n",
       "      <td>100</td>\n",
       "      <td>21</td>\n",
       "    </tr>\n",
       "  </tbody>\n",
       "</table>\n",
       "<p>1258 rows × 4 columns</p>\n",
       "</div>"
      ],
      "text/plain": [
       "       product_id product_name  aisle_id  department_id\n",
       "37             38          NaN       100             21\n",
       "71             72          NaN       100             21\n",
       "109           110          NaN       100             21\n",
       "296           297          NaN       100             21\n",
       "416           417          NaN       100             21\n",
       "...           ...          ...       ...            ...\n",
       "49552       49553          NaN       100             21\n",
       "49574       49575          NaN       100             21\n",
       "49640       49641          NaN       100             21\n",
       "49663       49664          NaN       100             21\n",
       "49668       49669          NaN       100             21\n",
       "\n",
       "[1258 rows x 4 columns]"
      ]
     },
     "execution_count": 28,
     "metadata": {},
     "output_type": "execute_result"
    }
   ],
   "source": [
    "# ¿Todos los nombres de productos ausentes están relacionados con el departamento con ID 21?\n",
    "products_id21 = products[products[\"department_id\"] == 21]\n",
    "products_id21\n"
   ]
  },
  {
   "cell_type": "markdown",
   "id": "qDpdYn1Fht_I",
   "metadata": {
    "id": "qDpdYn1Fht_I"
   },
   "source": [
    "Describe brevemente cuáles son tus hallazgos.\n",
    "\n",
    "Al revisar los datos ausentes de product name y al filtrar por el department_id con valor a 21, nos arroja que ahí están los valores ausentes. Por lo que el department_id con valor a 21 nos indidca que no tiene una asignación de información que nos ayude a identiticar el producto. "
   ]
  },
  {
   "cell_type": "code",
   "execution_count": 29,
   "id": "325c3464",
   "metadata": {
    "id": "325c3464",
    "trusted": false
   },
   "outputs": [
    {
     "data": {
      "text/html": [
       "<div>\n",
       "<style scoped>\n",
       "    .dataframe tbody tr th:only-of-type {\n",
       "        vertical-align: middle;\n",
       "    }\n",
       "\n",
       "    .dataframe tbody tr th {\n",
       "        vertical-align: top;\n",
       "    }\n",
       "\n",
       "    .dataframe thead th {\n",
       "        text-align: right;\n",
       "    }\n",
       "</style>\n",
       "<table border=\"1\" class=\"dataframe\">\n",
       "  <thead>\n",
       "    <tr style=\"text-align: right;\">\n",
       "      <th></th>\n",
       "      <th>aisle_id</th>\n",
       "      <th>aisle</th>\n",
       "    </tr>\n",
       "  </thead>\n",
       "  <tbody>\n",
       "    <tr>\n",
       "      <th>99</th>\n",
       "      <td>100</td>\n",
       "      <td>missing</td>\n",
       "    </tr>\n",
       "  </tbody>\n",
       "</table>\n",
       "</div>"
      ],
      "text/plain": [
       "    aisle_id    aisle\n",
       "99       100  missing"
      ]
     },
     "execution_count": 29,
     "metadata": {},
     "output_type": "execute_result"
    }
   ],
   "source": [
    "# Usa las tablas department y aisle para revisar los datos del pasillo con ID 100 y el departamento con ID 21.\n",
    "aisles_100= aisles[aisles[\"aisle_id\"] == 100]\n",
    "aisles_100"
   ]
  },
  {
   "cell_type": "code",
   "execution_count": 30,
   "id": "b5e9d77e",
   "metadata": {
    "trusted": false
   },
   "outputs": [
    {
     "data": {
      "text/html": [
       "<div>\n",
       "<style scoped>\n",
       "    .dataframe tbody tr th:only-of-type {\n",
       "        vertical-align: middle;\n",
       "    }\n",
       "\n",
       "    .dataframe tbody tr th {\n",
       "        vertical-align: top;\n",
       "    }\n",
       "\n",
       "    .dataframe thead th {\n",
       "        text-align: right;\n",
       "    }\n",
       "</style>\n",
       "<table border=\"1\" class=\"dataframe\">\n",
       "  <thead>\n",
       "    <tr style=\"text-align: right;\">\n",
       "      <th></th>\n",
       "      <th>department_id</th>\n",
       "      <th>department</th>\n",
       "    </tr>\n",
       "  </thead>\n",
       "  <tbody>\n",
       "    <tr>\n",
       "      <th>20</th>\n",
       "      <td>21</td>\n",
       "      <td>missing</td>\n",
       "    </tr>\n",
       "  </tbody>\n",
       "</table>\n",
       "</div>"
      ],
      "text/plain": [
       "    department_id department\n",
       "20             21    missing"
      ]
     },
     "execution_count": 30,
     "metadata": {},
     "output_type": "execute_result"
    }
   ],
   "source": [
    "departments_21 = departments[departments[\"department_id\"] == 21]\n",
    "departments_21"
   ]
  },
  {
   "cell_type": "markdown",
   "id": "nqhSTUPhhvEJ",
   "metadata": {
    "id": "nqhSTUPhhvEJ"
   },
   "source": [
    "Describe brevemente cuáles son tus hallazgos.\n",
    "\n",
    "Podemos filtrar nuevamente las columnas para verificar el contenido de aisle y department. Ambos nos indican que tienen como valor missing. Esto nos ayuda a determinar a que no es un error en los datos y que el supermercado lo ha definido de esta manera. "
   ]
  },
  {
   "cell_type": "code",
   "execution_count": 31,
   "id": "6b295120",
   "metadata": {
    "id": "6b295120",
    "trusted": false
   },
   "outputs": [],
   "source": [
    "# Completa los nombres de productos ausentes con 'Unknown'\n",
    "products[\"product_name\"] = products[\"product_name\"].fillna(\"Unknown\")\n"
   ]
  },
  {
   "cell_type": "markdown",
   "id": "fc70e5ad",
   "metadata": {
    "id": "fc70e5ad"
   },
   "source": [
    "Describe brevemente tus hallazgos y lo que hiciste con ellos.\n",
    "\n",
    "En caso revisamos que hay productos que no tienen nombre debido a que el id del pasillo y del departamento están como ausentes por el mismo dataframe. Al filtrar los datos para revisar datos ausentes podemos completar el nombre con base en lo que revisamos en el filtrado de datos ausentes. Al ser una cantidad de 1258 entradas, podemos completar el product name como Unknown debido a que no tenemos la información necesaria para suponer de qué se trata. Siempre se debe de procurar llenar la información ausente con algún valor que sea significativo y no borralo del dataframe. \n"
   ]
  },
  {
   "cell_type": "markdown",
   "id": "7eb45c86",
   "metadata": {
    "id": "7eb45c86"
   },
   "source": [
    "### `orders` data frame"
   ]
  },
  {
   "cell_type": "code",
   "execution_count": 32,
   "id": "93e41d96",
   "metadata": {
    "id": "93e41d96",
    "trusted": false
   },
   "outputs": [
    {
     "data": {
      "text/plain": [
       "28817"
      ]
     },
     "execution_count": 32,
     "metadata": {},
     "output_type": "execute_result"
    }
   ],
   "source": [
    "# Encuentra los valores ausentes\n",
    "instacart_orders[\"days_since_prior_order\"].isna().sum()"
   ]
  },
  {
   "cell_type": "code",
   "execution_count": 33,
   "id": "166e5a86",
   "metadata": {
    "id": "166e5a86",
    "trusted": false
   },
   "outputs": [
    {
     "data": {
      "text/plain": [
       "order_id                      0\n",
       "user_id                       0\n",
       "order_number                  0\n",
       "order_dow                     0\n",
       "order_hour_of_day             0\n",
       "days_since_prior_order    28817\n",
       "dtype: int64"
      ]
     },
     "execution_count": 33,
     "metadata": {},
     "output_type": "execute_result"
    }
   ],
   "source": [
    "# ¿Hay algún valor ausente que no sea el primer pedido del cliente?\n",
    "instacart_orders[instacart_orders[\"days_since_prior_order\"] != 1].isna().sum()  \n"
   ]
  },
  {
   "cell_type": "markdown",
   "id": "4e23d089",
   "metadata": {
    "id": "4e23d089"
   },
   "source": [
    "Describe brevemente tus hallazgos y lo que hiciste con ellos.\n",
    "\n",
    "Se revisan los datos ausentes de la última vez que un cliente realizó un pedido. No obstante, se puede concluir que hay pedidos en donde el valor nulo representa que es la primera vez que un cliente realiza un pedido. \n",
    "Al filtrar los datos en donde el primer valor no sea el primero, nos permite permite verificar si existen valores ausentes en cualquier columna del dataFrame. En este caso solo se encuentra en la columna \"days_since_prior_oder\"."
   ]
  },
  {
   "cell_type": "markdown",
   "id": "69dc9ca4",
   "metadata": {
    "id": "69dc9ca4"
   },
   "source": [
    "### `order_products` data frame"
   ]
  },
  {
   "cell_type": "code",
   "execution_count": 34,
   "id": "b8240253",
   "metadata": {
    "id": "b8240253",
    "trusted": false
   },
   "outputs": [
    {
     "data": {
      "text/plain": [
       "836"
      ]
     },
     "execution_count": 34,
     "metadata": {},
     "output_type": "execute_result"
    }
   ],
   "source": [
    "# Encuentra los valores ausentes\n",
    "order_products[\"add_to_cart_order\"].isna().sum()"
   ]
  },
  {
   "cell_type": "code",
   "execution_count": 35,
   "id": "9a78e5ee",
   "metadata": {
    "id": "9a78e5ee",
    "trusted": false
   },
   "outputs": [
    {
     "name": "stdout",
     "output_type": "stream",
     "text": [
      "1.0\n",
      "64.0\n"
     ]
    }
   ],
   "source": [
    "# ¿Cuáles son los valores mínimos y máximos en esta columna?\n",
    "print(order_products[\"add_to_cart_order\"].min())\n",
    "print(order_products[\"add_to_cart_order\"].max())"
   ]
  },
  {
   "cell_type": "markdown",
   "id": "-Z2Ja215jW78",
   "metadata": {
    "id": "-Z2Ja215jW78"
   },
   "source": [
    "Describe brevemente cuáles son tus hallazgos.\n",
    "\n",
    "Corroboramos que la columna \"add_to_cart_order\" del dataframe order_products no tiene valores ausentes. Gracias a los datos de esta columna, podemos valorar el rango de cantidad de productos se llevan los clientes en cada compra. "
   ]
  },
  {
   "cell_type": "code",
   "execution_count": 36,
   "id": "ab9d0c2b",
   "metadata": {
    "id": "ab9d0c2b",
    "trusted": false
   },
   "outputs": [
    {
     "name": "stdout",
     "output_type": "stream",
     "text": [
      "[2449164 1968313 2926893 1717990 1959075  844733   61355  936852  264710\n",
      " 1564093  129627  293169 2849370 1386261 3308010  903110 2136777 3347453\n",
      " 1888628  165801 2094761 1038146 2997021  813364 2256933  171934 2409109\n",
      " 1730767 1169835  733526  404157 3125735  747668 1800005 1961723  871281\n",
      "  388234 1648217 1477139  102236 1021563 1832957 2721963  678116 1220886\n",
      " 1673227 2999801 1633337 2470674 2625444 1677118 2479011 3383594 1183255\n",
      " 1713430 2652650 1598369 1916118  854647 1302315  888470  180546 2621907\n",
      " 1308785 2729254    9310 2170451 2979697 1625713 1529171]\n"
     ]
    }
   ],
   "source": [
    "# Guarda todas las IDs de pedidos que tengan un valor ausente en 'add_to_cart_order'\n",
    "id_null_value = order_products[order_products[\"add_to_cart_order\"].isna()][\"order_id\"].unique()\n",
    "print(id_null_value)\n"
   ]
  },
  {
   "cell_type": "code",
   "execution_count": 37,
   "id": "54c31695",
   "metadata": {
    "id": "54c31695",
    "trusted": false
   },
   "outputs": [
    {
     "data": {
      "text/plain": [
       "65"
      ]
     },
     "execution_count": 37,
     "metadata": {},
     "output_type": "execute_result"
    }
   ],
   "source": [
    "#¿Todos los pedidos con valores ausentes tienen más de 64 productos?\n",
    "# Cuenta el número de 'product_id' en cada pedido y revisa el valor mínimo del conteo.\n",
    "# Agrupa todos los pedidos con datos ausentes por su ID de pedido.\n",
    "more_than_64_orders = order_products[order_products[\"order_id\"].isin(id_null_value)]  \n",
    "more_than_64_orders[\"order_id\"].value_counts().min()\n"
   ]
  },
  {
   "cell_type": "markdown",
   "id": "p9V6pddtjglj",
   "metadata": {
    "id": "p9V6pddtjglj"
   },
   "source": [
    "Describe brevemente cuáles son tus hallazgos.\n",
    "\n",
    "Solo algunos de los pedidos con valores tienen más de 64 pedidos, por lo que es necesario corroborar la relación de datos ausentes de una columna tomando en cuenta los valores de otra columna del dataframe. "
   ]
  },
  {
   "cell_type": "code",
   "execution_count": 38,
   "id": "7a987d08",
   "metadata": {
    "id": "7a987d08",
    "trusted": false
   },
   "outputs": [],
   "source": [
    "# Remplaza los valores ausentes en la columna 'add_to_cart con 999 y convierte la columna al tipo entero.\n",
    "order_products[\"add_to_cart_order\"] = order_products[\"add_to_cart_order\"].fillna(999).astype(int)\n",
    "                                "
   ]
  },
  {
   "cell_type": "markdown",
   "id": "fea4bcc7",
   "metadata": {
    "id": "fea4bcc7"
   },
   "source": [
    "Describe brevemente tus hallazgos y lo que hiciste con ellos.\n",
    "\n",
    "Al rellenar con 999 se brinda un valor aleatorio a una columna cuyos valores no podemos asumir con cálculos o al observar los datos: no sabemos en qué orden se agregaron los artículos con valores nulos en \"add_to_cart_order\". "
   ]
  },
  {
   "cell_type": "markdown",
   "id": "RnplPFY1gSrb",
   "metadata": {
    "id": "RnplPFY1gSrb"
   },
   "source": [
    "## Conclusiones\n",
    "\n",
    "Escribe aquí tus conclusiones intermedias sobre el Paso 2. Preprocesamiento de los datos\n",
    "\n",
    "Es necesario seguir cada paso del análisis de datos, desde llamar a nfo para ver qupé tipos de datos contiene el df, borrar los duplicados y llenar los datos ausentes. Sin embargo, es necesario revisar la razón detrás de que alguna columna nos arroje algún ausente o duplicado, ya que puede que no represente necesariamente algún error en los datos. Es necesario interpretar la información y tomar en cuenta la relación que existe entre varibles. "
   ]
  },
  {
   "cell_type": "markdown",
   "id": "UjrOIwTcz3ri",
   "metadata": {
    "id": "UjrOIwTcz3ri"
   },
   "source": [
    "# Paso 3. Análisis de los datos\n",
    "\n",
    "Una vez los datos estén procesados y listos, haz el siguiente análisis:"
   ]
  },
  {
   "cell_type": "markdown",
   "id": "turkish-kidney",
   "metadata": {
    "id": "turkish-kidney"
   },
   "source": [
    "# [A] Fácil (deben completarse todos para aprobar)\n",
    "\n",
    "1. Verifica que los valores en las columnas `'order_hour_of_day'` y `'order_dow'` en la tabla orders sean razonables (es decir, `'order_hour_of_day'` oscile entre 0 y 23 y `'order_dow'` oscile entre 0 y 6).\n",
    "2. Crea un gráfico que muestre el número de personas que hacen pedidos dependiendo de la hora del día.\n",
    "3. Crea un gráfico que muestre qué día de la semana la gente hace sus compras.\n",
    "4. Crea un gráfico que muestre el tiempo que la gente espera hasta hacer su siguiente pedido, y comenta sobre los valores mínimos y máximos."
   ]
  },
  {
   "cell_type": "markdown",
   "id": "short-capability",
   "metadata": {
    "id": "short-capability"
   },
   "source": [
    "### [A1] Verifica que los valores sean sensibles"
   ]
  },
  {
   "cell_type": "code",
   "execution_count": 54,
   "id": "growing-fruit",
   "metadata": {
    "id": "growing-fruit",
    "trusted": false
   },
   "outputs": [
    {
     "name": "stdout",
     "output_type": "stream",
     "text": [
      "0\n",
      "23\n",
      "[13 12 19 20 11  8 18 15 16  9 22 10  0 14 17  1  7  6  2 21  3 23  5  4]\n"
     ]
    }
   ],
   "source": [
    "print(instacart_orders[\"order_hour_of_day\"].min())\n",
    "print(instacart_orders[\"order_hour_of_day\"].max())\n",
    "\n",
    "print(instacart_orders[\"order_hour_of_day\"].unique())"
   ]
  },
  {
   "cell_type": "code",
   "execution_count": 57,
   "id": "accessory-malaysia",
   "metadata": {
    "id": "accessory-malaysia",
    "trusted": false
   },
   "outputs": [
    {
     "name": "stdout",
     "output_type": "stream",
     "text": [
      "0\n",
      "6\n",
      "[6 5 0 4 3 1 2]\n"
     ]
    }
   ],
   "source": [
    "print(instacart_orders[\"order_dow\"].min())\n",
    "print(instacart_orders[\"order_dow\"].max())\n",
    "\n",
    "print(instacart_orders[\"order_dow\"].unique())"
   ]
  },
  {
   "cell_type": "markdown",
   "id": "hmR2GNQ6lCsX",
   "metadata": {
    "id": "hmR2GNQ6lCsX"
   },
   "source": [
    "Escribe aquí tus conclusiones\n",
    "\n",
    "En esta verificación se corroborar los límites de los ejes que tendremos en las siguientes tablas, así como también de que los valores coincidan con lo que representan (días de la semana y timepo del día)"
   ]
  },
  {
   "cell_type": "markdown",
   "id": "a6743a70",
   "metadata": {
    "id": "a6743a70"
   },
   "source": [
    "### [A2] Para cada hora del día, ¿cuántas personas hacen órdenes?"
   ]
  },
  {
   "cell_type": "code",
   "execution_count": 41,
   "id": "a36cca27",
   "metadata": {
    "id": "a36cca27",
    "trusted": false
   },
   "outputs": [
    {
     "data": {
      "image/png": "[encoded data removed]",
      "text/plain": [
       "<Figure size 640x480 with 1 Axes>"
      ]
     },
     "metadata": {},
     "output_type": "display_data"
    }
   ],
   "source": [
    "#Gráfico número de personas que hacen pedidos dependiendo de la hora del día\n",
    "df_hours = instacart_orders[\"order_hour_of_day\"].value_counts().sort_index()\n",
    "df_hours.plot(xlabel=\"Time of the Day\", ylabel=\"Number of Orders\", kind=\"bar\", title=\"Orders per hour\", color=\"darkblue\")\n",
    "plt.show()"
   ]
  },
  {
   "cell_type": "markdown",
   "id": "11270eed",
   "metadata": {
    "id": "11270eed"
   },
   "source": [
    "Escribe aquí tus conclusiones\n",
    "\n",
    "Gran parte de los pedidos son colocados entre las 9 a 16 horas. Por lo tanto, hay una gran cantidad de clientes que realizan sus compras en ese horario. Este disminuye en la noche desde las 17 hasta las 23 horas, siendo las horas de la madrugada las que  reflejan menos pedidos. Podemos concluir que el horario de 9 a 16 horas puede ser un enfoque para recalcar al supermercado la eficiencia en el proceso de compras, estrategias de atracción de clientes, presentación de productos, etc. "
   ]
  },
  {
   "cell_type": "markdown",
   "id": "documented-command",
   "metadata": {
    "id": "documented-command"
   },
   "source": [
    "### [A3] ¿Qué día de la semana compran víveres las personas?"
   ]
  },
  {
   "cell_type": "code",
   "execution_count": 42,
   "id": "chief-digit",
   "metadata": {
    "id": "chief-digit",
    "trusted": false
   },
   "outputs": [
    {
     "data": {
      "image/png": "[encoded data removed]",
      "text/plain": [
       "<Figure size 640x480 with 1 Axes>"
      ]
     },
     "metadata": {},
     "output_type": "display_data"
    }
   ],
   "source": [
    "#Gráfico día de la semana la gente hace sus compras\n",
    "df_day = instacart_orders[\"order_dow\"].value_counts().sort_index()\n",
    "df_day.plot(xlabel=\"Day of the week\", ylabel=\"Number of orders\",title=\"Orders per day\", kind=\"bar\", color=\"darkblue\")\n",
    "plt.show()"
   ]
  },
  {
   "cell_type": "markdown",
   "id": "dominant-lightning",
   "metadata": {
    "id": "dominant-lightning"
   },
   "source": [
    "Escribe aquí tus conclusiones\n",
    "\n",
    "Se puede observar que el número de compras esta distribuido en cada uno de los días de la semana. Ninguno de los días presenta algún pico o valle significativo. Solo caben destacar los domingos y lunes que presentan un mayor número de compras, con un total de 80,000 pedidos para cada día. Por lo tanto, el supermercado debe de enfocar la creación de estrategias para distintos días de la semana. "
   ]
  },
  {
   "cell_type": "markdown",
   "id": "cutting-concert",
   "metadata": {
    "id": "cutting-concert"
   },
   "source": [
    "### [A4] ¿Cuánto tiempo esperan las personas hasta hacer otro pedido? Comenta sobre los valores mínimos y máximos."
   ]
  },
  {
   "cell_type": "code",
   "execution_count": 43,
   "id": "c231f523",
   "metadata": {
    "id": "c231f523",
    "trusted": false
   },
   "outputs": [
    {
     "data": {
      "text/plain": [
       "<AxesSubplot:title={'center':'Time betweeen orders'}, xlabel='Amount of days', ylabel='Order numbers'>"
      ]
     },
     "execution_count": 43,
     "metadata": {},
     "output_type": "execute_result"
    },
    {
     "data": {
      "image/png": "[encoded data removed]",
      "text/plain": [
       "<Figure size 640x480 with 1 Axes>"
      ]
     },
     "metadata": {},
     "output_type": "display_data"
    }
   ],
   "source": [
    "#Gráfico que muestre el tiempo que la gente espera hasta hacer su siguiente pedido,\n",
    "df_prior_order = instacart_orders[\"days_since_prior_order\"].value_counts().sort_index()\n",
    "df_prior_order.plot(xlabel=\"Amount of days\", ylabel= \"Order numbers\", y=\"days_since_prior_order\", kind=\"bar\", title= \"Time betweeen orders\", color=\"darkblue\")"
   ]
  },
  {
   "cell_type": "markdown",
   "id": "discrete-vertex",
   "metadata": {
    "id": "discrete-vertex"
   },
   "source": [
    "Escribe aquí tus conclusiones\n",
    "Se observan los días transcurridos de espera para que el cliente coloque un nuevo pedido. Los datos reflejan que la mayoría de los clientes realizan su próxima compra después de dos tiempos: 7 y 30 días. Sin embargo, una proporción importante del tiempo transcurrido toma lugar entre 1 a 8 días transcurridos. Por lo tanto, gran parte de los pedidos se realizan a pocos días de su última compra. Con esta información podemos interpretar los comportamientos de los clientes y buscar las razones detrás de dicho patrón. El resto de los días transcurrido del 9 al 29, no alcanzan la cantidad de pedidos colocados en los primeros días transcurridos. Solo hay un ligero aumento con casi 15,000 pedidos el día 14. \n",
    "    \n",
    "Se podría interpretar que las personas van de compras a los pocos días de su última visita, ya sea por haber olvidado un artículo o comprar una oferta inesperada y/o van de compras cuando se deposita sus nóminas a fin de mes. \n"
   ]
  },
  {
   "cell_type": "markdown",
   "id": "tight-staff",
   "metadata": {
    "id": "tight-staff"
   },
   "source": [
    "# [B] Intermedio (deben completarse todos para aprobar)\n",
    "\n",
    "1. ¿Existe alguna diferencia entre las distribuciones `'order_hour_of_day'` de los miércoles y los sábados? Traza gráficos de barra de `'order_hour_of_day'` para ambos días en la misma figura y describe las diferencias que observes.\n",
    "2. Grafica la distribución para el número de órdenes que hacen los clientes (es decir, cuántos clientes hicieron solo 1 pedido, cuántos hicieron 2, cuántos 3, y así sucesivamente...).\n",
    "3. ¿Cuáles son los 20 principales productos que se piden con más frecuencia (muestra su identificación y nombre)?"
   ]
  },
  {
   "cell_type": "markdown",
   "id": "packed-classic",
   "metadata": {
    "id": "packed-classic"
   },
   "source": [
    "### [B1] Diferencia entre miércoles y sábados para  `'order_hour_of_day'`. Traza gráficos de barra para los dos días y describe las diferencias que veas."
   ]
  },
  {
   "cell_type": "code",
   "execution_count": 44,
   "id": "d89b8403",
   "metadata": {
    "id": "d89b8403",
    "trusted": false
   },
   "outputs": [
    {
     "data": {
      "text/plain": [
       "<AxesSubplot:title={'center':'Wednesday vs Saturday amount of orders'}, xlabel='Time of the day', ylabel='Amount of orders'>"
      ]
     },
     "execution_count": 44,
     "metadata": {},
     "output_type": "execute_result"
    },
    {
     "data": {
      "image/png": "[encoded data removed]",
      "text/plain": [
       "<Figure size 640x480 with 1 Axes>"
      ]
     },
     "metadata": {},
     "output_type": "display_data"
    }
   ],
   "source": [
    "wednesday = instacart_orders[instacart_orders[\"order_dow\"] == 3][\"order_hour_of_day\"].value_counts().sort_index()\n",
    "saturday = instacart_orders[instacart_orders[\"order_dow\"] == 6][\"order_hour_of_day\"].value_counts().sort_index()\n",
    "df_concat = pd.concat([wednesday, saturday], axis=1)\n",
    "df_concat.columns = [\"Wednesday\", \"Saturday\"]\n",
    "df_concat.plot(kind=\"bar\", xlabel=\"Time of the day\", ylabel=\"Amount of orders\", title=\"Wednesday vs Saturday amount of orders\", color=[\"tomato\", \"royalblue\"])"
   ]
  },
  {
   "cell_type": "markdown",
   "id": "charitable-congo",
   "metadata": {
    "id": "charitable-congo"
   },
   "source": [
    "Escribe aquí tus conclusiones\n",
    "\n",
    "En la comprativa del total de compras realizadas durante los miércoles y sábado, nos muestran que tienen un comportamiento muy similar dependiendo de la hora de compra. Aunque el sábado tiene una diferencia pequeña mayor al miércoles. Con esta información podemos corroborar la información arrojada en la gráfica de \"Orders per day\" en donde la cantidad de pedidos es casi la misma en cualquier día de la semana. De igual manera, corroboramos que esta gráfica se comparta igual que la gráfica \"Orders per hour\", siendo el horario de 9 a 16 con mayor cantidad de pedidos. "
   ]
  },
  {
   "cell_type": "markdown",
   "id": "e3891143",
   "metadata": {
    "id": "e3891143"
   },
   "source": [
    "### [B2] ¿Cuál es la distribución para el número de pedidos por cliente?"
   ]
  },
  {
   "cell_type": "code",
   "execution_count": 45,
   "id": "d8c26c23",
   "metadata": {
    "id": "d8c26c23",
    "trusted": false
   },
   "outputs": [
    {
     "data": {
      "image/png": "[encoded data removed]",
      "text/plain": [
       "<Figure size 640x480 with 1 Axes>"
      ]
     },
     "metadata": {},
     "output_type": "display_data"
    }
   ],
   "source": [
    "order_distribution = instacart_orders[\"order_number\"].value_counts().sort_index()\n",
    "order_distribution.plot(kind=\"hist\", title=\"Order Distribution by Customer\", color=\"darkblue\")\n",
    "plt.xlabel(\"Number of Customers\")\n",
    "plt.ylabel(\"Number of Orders\")\n",
    "plt.show()"
   ]
  },
  {
   "cell_type": "markdown",
   "id": "d2eff7d5",
   "metadata": {
    "id": "d2eff7d5"
   },
   "source": [
    "Escribe aquí tus conclusiones\n",
    "\n",
    "Esta gráfico muestra que la mayoría de los clientes, menos de 5000 usuarios, realizan hasta 60 compras el cual es la cantidad más representativa para la gráfica. Sin embargo, para el resto de los contenedores se puede revisar que los usuarios realizan pedidos constantes entre 1 a 5 pedidos. Por lo que nos demuestra que los usuarios realizan compras frecuentes. "
   ]
  },
  {
   "cell_type": "markdown",
   "id": "54a0319c",
   "metadata": {
    "id": "54a0319c"
   },
   "source": [
    "### [B3] ¿Cuáles son los 20 productos más populares (muestra su ID y nombre)?"
   ]
  },
  {
   "cell_type": "code",
   "execution_count": 46,
   "id": "exterior-arizona",
   "metadata": {
    "id": "exterior-arizona",
    "scrolled": true,
    "trusted": false
   },
   "outputs": [
    {
     "data": {
      "text/html": [
       "<div>\n",
       "<style scoped>\n",
       "    .dataframe tbody tr th:only-of-type {\n",
       "        vertical-align: middle;\n",
       "    }\n",
       "\n",
       "    .dataframe tbody tr th {\n",
       "        vertical-align: top;\n",
       "    }\n",
       "\n",
       "    .dataframe thead th {\n",
       "        text-align: right;\n",
       "    }\n",
       "</style>\n",
       "<table border=\"1\" class=\"dataframe\">\n",
       "  <thead>\n",
       "    <tr style=\"text-align: right;\">\n",
       "      <th></th>\n",
       "      <th>product_id</th>\n",
       "      <th>order_id</th>\n",
       "      <th>product_name</th>\n",
       "    </tr>\n",
       "  </thead>\n",
       "  <tbody>\n",
       "    <tr>\n",
       "      <th>0</th>\n",
       "      <td>24852</td>\n",
       "      <td>66050</td>\n",
       "      <td>BANANA</td>\n",
       "    </tr>\n",
       "    <tr>\n",
       "      <th>1</th>\n",
       "      <td>13176</td>\n",
       "      <td>53297</td>\n",
       "      <td>BAG OF ORGANIC BANANAS</td>\n",
       "    </tr>\n",
       "    <tr>\n",
       "      <th>2</th>\n",
       "      <td>21137</td>\n",
       "      <td>37039</td>\n",
       "      <td>ORGANIC STRAWBERRIES</td>\n",
       "    </tr>\n",
       "    <tr>\n",
       "      <th>3</th>\n",
       "      <td>21903</td>\n",
       "      <td>33971</td>\n",
       "      <td>ORGANIC BABY SPINACH</td>\n",
       "    </tr>\n",
       "    <tr>\n",
       "      <th>4</th>\n",
       "      <td>47209</td>\n",
       "      <td>29773</td>\n",
       "      <td>ORGANIC HASS AVOCADO</td>\n",
       "    </tr>\n",
       "    <tr>\n",
       "      <th>5</th>\n",
       "      <td>47766</td>\n",
       "      <td>24689</td>\n",
       "      <td>ORGANIC AVOCADO</td>\n",
       "    </tr>\n",
       "    <tr>\n",
       "      <th>6</th>\n",
       "      <td>47626</td>\n",
       "      <td>21495</td>\n",
       "      <td>LARGE LEMON</td>\n",
       "    </tr>\n",
       "    <tr>\n",
       "      <th>7</th>\n",
       "      <td>16797</td>\n",
       "      <td>20018</td>\n",
       "      <td>STRAWBERRIES</td>\n",
       "    </tr>\n",
       "    <tr>\n",
       "      <th>8</th>\n",
       "      <td>26209</td>\n",
       "      <td>19690</td>\n",
       "      <td>LIMES</td>\n",
       "    </tr>\n",
       "    <tr>\n",
       "      <th>9</th>\n",
       "      <td>27845</td>\n",
       "      <td>19600</td>\n",
       "      <td>ORGANIC WHOLE MILK</td>\n",
       "    </tr>\n",
       "    <tr>\n",
       "      <th>10</th>\n",
       "      <td>27966</td>\n",
       "      <td>19197</td>\n",
       "      <td>ORGANIC RASPBERRIES</td>\n",
       "    </tr>\n",
       "    <tr>\n",
       "      <th>11</th>\n",
       "      <td>22935</td>\n",
       "      <td>15898</td>\n",
       "      <td>ORGANIC YELLOW ONION</td>\n",
       "    </tr>\n",
       "    <tr>\n",
       "      <th>12</th>\n",
       "      <td>24964</td>\n",
       "      <td>15292</td>\n",
       "      <td>ORGANIC GARLIC</td>\n",
       "    </tr>\n",
       "    <tr>\n",
       "      <th>13</th>\n",
       "      <td>45007</td>\n",
       "      <td>14584</td>\n",
       "      <td>ORGANIC ZUCCHINI</td>\n",
       "    </tr>\n",
       "    <tr>\n",
       "      <th>14</th>\n",
       "      <td>39275</td>\n",
       "      <td>13879</td>\n",
       "      <td>ORGANIC BLUEBERRIES</td>\n",
       "    </tr>\n",
       "    <tr>\n",
       "      <th>15</th>\n",
       "      <td>49683</td>\n",
       "      <td>13675</td>\n",
       "      <td>CUCUMBER KIRBY</td>\n",
       "    </tr>\n",
       "    <tr>\n",
       "      <th>16</th>\n",
       "      <td>28204</td>\n",
       "      <td>12544</td>\n",
       "      <td>ORGANIC FUJI APPLE</td>\n",
       "    </tr>\n",
       "    <tr>\n",
       "      <th>17</th>\n",
       "      <td>5876</td>\n",
       "      <td>12232</td>\n",
       "      <td>ORGANIC LEMON</td>\n",
       "    </tr>\n",
       "    <tr>\n",
       "      <th>18</th>\n",
       "      <td>8277</td>\n",
       "      <td>11993</td>\n",
       "      <td>APPLE HONEYCRISP ORGANIC</td>\n",
       "    </tr>\n",
       "    <tr>\n",
       "      <th>19</th>\n",
       "      <td>40706</td>\n",
       "      <td>11781</td>\n",
       "      <td>ORGANIC GRAPE TOMATOES</td>\n",
       "    </tr>\n",
       "  </tbody>\n",
       "</table>\n",
       "</div>"
      ],
      "text/plain": [
       "    product_id  order_id              product_name\n",
       "0        24852     66050                    BANANA\n",
       "1        13176     53297    BAG OF ORGANIC BANANAS\n",
       "2        21137     37039      ORGANIC STRAWBERRIES\n",
       "3        21903     33971      ORGANIC BABY SPINACH\n",
       "4        47209     29773      ORGANIC HASS AVOCADO\n",
       "5        47766     24689           ORGANIC AVOCADO\n",
       "6        47626     21495               LARGE LEMON\n",
       "7        16797     20018              STRAWBERRIES\n",
       "8        26209     19690                     LIMES\n",
       "9        27845     19600        ORGANIC WHOLE MILK\n",
       "10       27966     19197       ORGANIC RASPBERRIES\n",
       "11       22935     15898      ORGANIC YELLOW ONION\n",
       "12       24964     15292            ORGANIC GARLIC\n",
       "13       45007     14584          ORGANIC ZUCCHINI\n",
       "14       39275     13879       ORGANIC BLUEBERRIES\n",
       "15       49683     13675            CUCUMBER KIRBY\n",
       "16       28204     12544        ORGANIC FUJI APPLE\n",
       "17        5876     12232             ORGANIC LEMON\n",
       "18        8277     11993  APPLE HONEYCRISP ORGANIC\n",
       "19       40706     11781    ORGANIC GRAPE TOMATOES"
      ]
     },
     "execution_count": 46,
     "metadata": {},
     "output_type": "execute_result"
    }
   ],
   "source": [
    "product_counts = order_products.groupby(\"product_id\")[\"order_id\"].count()\n",
    "product_counts = product_counts.reset_index()\n",
    "product_counts = product_counts.sort_values(by=\"order_id\", ascending=False)\n",
    "top_20_products = product_counts.head(20)\n",
    "top_20_products_info = pd.merge(top_20_products, products[[\"product_id\", \"product_name\"]], on=\"product_id\", how=\"left\")\n",
    "top_20_products_info"
   ]
  },
  {
   "cell_type": "markdown",
   "id": "7df00f47",
   "metadata": {
    "id": "7df00f47"
   },
   "source": [
    "Escribe aquí tus conclusiones\n",
    "\n",
    "Al revisar la tabla de los artículos más comprados, podemos notar que se tratan de artículos relacionados con la alimentación. Hay una variedad de frutas y verduras. Esto puede deberse a que la sección de frutas y verduras es la que se ubica en la entrada de los supermercados. Igualmente porque estos ítems son los que más se requieren de manera básica. Gracias a este breve análisis podemos identificar los ítems que el supermercado debe de considerar en stock y con buena calidad. "
   ]
  },
  {
   "cell_type": "markdown",
   "id": "gross-theme",
   "metadata": {
    "id": "gross-theme"
   },
   "source": [
    "# [C] Difícil (deben completarse todos para aprobar)\n",
    "\n",
    "1. ¿Cuántos artículos suelen comprar las personas en un pedido? ¿Cómo es la distribución?\n",
    "2. ¿Cuáles son los 20 principales artículos que vuelven a pedirse con mayor frecuencia (muestra sus nombres e IDs de los productos)?\n",
    "3. Para cada producto, ¿cuál es la tasa de repetición del pedido (número de repeticiones de pedido/total de pedidos?\n",
    "4. Para cada cliente, ¿qué proporción de los productos que pidió ya los había pedido? Calcula la tasa de repetición de pedido para cada usuario en lugar de para cada producto.\n",
    "5. ¿Cuáles son los 20 principales artículos que la gente pone primero en sus carritos (muestra las IDs de los productos, sus nombres, y el número de veces en que fueron el primer artículo en añadirse al carrito)?"
   ]
  },
  {
   "cell_type": "markdown",
   "id": "romantic-deposit",
   "metadata": {
    "id": "romantic-deposit"
   },
   "source": [
    "### [C1] ¿Cuántos artículos compran normalmente las personas en un pedido? ¿Cómo es la distribución?"
   ]
  },
  {
   "cell_type": "code",
   "execution_count": 47,
   "id": "virtual-punch",
   "metadata": {
    "id": "virtual-punch",
    "trusted": false
   },
   "outputs": [
    {
     "name": "stdout",
     "output_type": "stream",
     "text": [
      "El promedio de artículos por pedido es: 10\n"
     ]
    },
    {
     "data": {
      "image/png": "[encoded data removed]",
      "text/plain": [
       "<Figure size 640x480 with 1 Axes>"
      ]
     },
     "metadata": {},
     "output_type": "display_data"
    }
   ],
   "source": [
    "items_per_order = order_products.groupby(\"order_id\")[\"product_id\"].count()\n",
    "avg_items_per_order = items_per_order.mean()\n",
    "print(\"El promedio de artículos por pedido es:\", int(avg_items_per_order))\n",
    "plt.hist(items_per_order, bins=20, color=\"darkblue\")\n",
    "plt.xlabel(\"Number of Products per Order\")\n",
    "plt.ylabel(\"Number of Orders\")\n",
    "plt.title(\"Product Distribution per Order\")\n",
    "plt.show()"
   ]
  },
  {
   "cell_type": "markdown",
   "id": "designed-mortality",
   "metadata": {
    "id": "designed-mortality"
   },
   "source": [
    "Escribe aquí tus conclusiones\n",
    "\n",
    "En esta gráfica hay un sesgo hacia la izquierda, la cual refleja que para la mayoría de los pedidos, entre 150,000 y 200,000 pedidos, contienen en promedio 10 artículos. Igualmente notamos que la distribución refleja que hata 25,000 pedidos se llevan entre 15 a 25 artículos. Hay solo pocos pedidos en donde se pueden solicitar desde 60 hasta 120 artículos. Se podría estudiar estos pedidos para revisar de qué artículos se tratan para que pasen a esas grandes cantidades. "
   ]
  },
  {
   "cell_type": "markdown",
   "id": "5e6b5537",
   "metadata": {
    "id": "5e6b5537"
   },
   "source": [
    "### [C2] ¿Cuáles son los 20 principales artículos que vuelven a pedirse con mayor frecuencia (muestra sus nombres e IDs de los productos)?"
   ]
  },
  {
   "cell_type": "code",
   "execution_count": 48,
   "id": "9374e55a",
   "metadata": {
    "id": "9374e55a",
    "trusted": false
   },
   "outputs": [
    {
     "data": {
      "text/html": [
       "<div>\n",
       "<style scoped>\n",
       "    .dataframe tbody tr th:only-of-type {\n",
       "        vertical-align: middle;\n",
       "    }\n",
       "\n",
       "    .dataframe tbody tr th {\n",
       "        vertical-align: top;\n",
       "    }\n",
       "\n",
       "    .dataframe thead th {\n",
       "        text-align: right;\n",
       "    }\n",
       "</style>\n",
       "<table border=\"1\" class=\"dataframe\">\n",
       "  <thead>\n",
       "    <tr style=\"text-align: right;\">\n",
       "      <th></th>\n",
       "      <th>product_id</th>\n",
       "      <th>count</th>\n",
       "      <th>product_name</th>\n",
       "    </tr>\n",
       "  </thead>\n",
       "  <tbody>\n",
       "    <tr>\n",
       "      <th>0</th>\n",
       "      <td>24852</td>\n",
       "      <td>55763</td>\n",
       "      <td>BANANA</td>\n",
       "    </tr>\n",
       "    <tr>\n",
       "      <th>1</th>\n",
       "      <td>13176</td>\n",
       "      <td>44450</td>\n",
       "      <td>BAG OF ORGANIC BANANAS</td>\n",
       "    </tr>\n",
       "    <tr>\n",
       "      <th>2</th>\n",
       "      <td>21137</td>\n",
       "      <td>28639</td>\n",
       "      <td>ORGANIC STRAWBERRIES</td>\n",
       "    </tr>\n",
       "    <tr>\n",
       "      <th>3</th>\n",
       "      <td>21903</td>\n",
       "      <td>26233</td>\n",
       "      <td>ORGANIC BABY SPINACH</td>\n",
       "    </tr>\n",
       "    <tr>\n",
       "      <th>4</th>\n",
       "      <td>47209</td>\n",
       "      <td>23629</td>\n",
       "      <td>ORGANIC HASS AVOCADO</td>\n",
       "    </tr>\n",
       "    <tr>\n",
       "      <th>5</th>\n",
       "      <td>47766</td>\n",
       "      <td>18743</td>\n",
       "      <td>ORGANIC AVOCADO</td>\n",
       "    </tr>\n",
       "    <tr>\n",
       "      <th>6</th>\n",
       "      <td>27845</td>\n",
       "      <td>16251</td>\n",
       "      <td>ORGANIC WHOLE MILK</td>\n",
       "    </tr>\n",
       "    <tr>\n",
       "      <th>7</th>\n",
       "      <td>47626</td>\n",
       "      <td>15044</td>\n",
       "      <td>LARGE LEMON</td>\n",
       "    </tr>\n",
       "    <tr>\n",
       "      <th>8</th>\n",
       "      <td>27966</td>\n",
       "      <td>14748</td>\n",
       "      <td>ORGANIC RASPBERRIES</td>\n",
       "    </tr>\n",
       "    <tr>\n",
       "      <th>9</th>\n",
       "      <td>16797</td>\n",
       "      <td>13945</td>\n",
       "      <td>STRAWBERRIES</td>\n",
       "    </tr>\n",
       "    <tr>\n",
       "      <th>10</th>\n",
       "      <td>26209</td>\n",
       "      <td>13327</td>\n",
       "      <td>LIMES</td>\n",
       "    </tr>\n",
       "    <tr>\n",
       "      <th>11</th>\n",
       "      <td>22935</td>\n",
       "      <td>11145</td>\n",
       "      <td>ORGANIC YELLOW ONION</td>\n",
       "    </tr>\n",
       "    <tr>\n",
       "      <th>12</th>\n",
       "      <td>24964</td>\n",
       "      <td>10411</td>\n",
       "      <td>ORGANIC GARLIC</td>\n",
       "    </tr>\n",
       "    <tr>\n",
       "      <th>13</th>\n",
       "      <td>45007</td>\n",
       "      <td>10076</td>\n",
       "      <td>ORGANIC ZUCCHINI</td>\n",
       "    </tr>\n",
       "    <tr>\n",
       "      <th>14</th>\n",
       "      <td>49683</td>\n",
       "      <td>9538</td>\n",
       "      <td>CUCUMBER KIRBY</td>\n",
       "    </tr>\n",
       "    <tr>\n",
       "      <th>15</th>\n",
       "      <td>28204</td>\n",
       "      <td>8989</td>\n",
       "      <td>ORGANIC FUJI APPLE</td>\n",
       "    </tr>\n",
       "    <tr>\n",
       "      <th>16</th>\n",
       "      <td>8277</td>\n",
       "      <td>8836</td>\n",
       "      <td>APPLE HONEYCRISP ORGANIC</td>\n",
       "    </tr>\n",
       "    <tr>\n",
       "      <th>17</th>\n",
       "      <td>39275</td>\n",
       "      <td>8799</td>\n",
       "      <td>ORGANIC BLUEBERRIES</td>\n",
       "    </tr>\n",
       "    <tr>\n",
       "      <th>18</th>\n",
       "      <td>5876</td>\n",
       "      <td>8412</td>\n",
       "      <td>ORGANIC LEMON</td>\n",
       "    </tr>\n",
       "    <tr>\n",
       "      <th>19</th>\n",
       "      <td>49235</td>\n",
       "      <td>8389</td>\n",
       "      <td>ORGANIC HALF &amp; HALF</td>\n",
       "    </tr>\n",
       "  </tbody>\n",
       "</table>\n",
       "</div>"
      ],
      "text/plain": [
       "    product_id  count              product_name\n",
       "0        24852  55763                    BANANA\n",
       "1        13176  44450    BAG OF ORGANIC BANANAS\n",
       "2        21137  28639      ORGANIC STRAWBERRIES\n",
       "3        21903  26233      ORGANIC BABY SPINACH\n",
       "4        47209  23629      ORGANIC HASS AVOCADO\n",
       "5        47766  18743           ORGANIC AVOCADO\n",
       "6        27845  16251        ORGANIC WHOLE MILK\n",
       "7        47626  15044               LARGE LEMON\n",
       "8        27966  14748       ORGANIC RASPBERRIES\n",
       "9        16797  13945              STRAWBERRIES\n",
       "10       26209  13327                     LIMES\n",
       "11       22935  11145      ORGANIC YELLOW ONION\n",
       "12       24964  10411            ORGANIC GARLIC\n",
       "13       45007  10076          ORGANIC ZUCCHINI\n",
       "14       49683   9538            CUCUMBER KIRBY\n",
       "15       28204   8989        ORGANIC FUJI APPLE\n",
       "16        8277   8836  APPLE HONEYCRISP ORGANIC\n",
       "17       39275   8799       ORGANIC BLUEBERRIES\n",
       "18        5876   8412             ORGANIC LEMON\n",
       "19       49235   8389       ORGANIC HALF & HALF"
      ]
     },
     "execution_count": 48,
     "metadata": {},
     "output_type": "execute_result"
    }
   ],
   "source": [
    "reordered_products = order_products[order_products[\"reordered\"] == 1]\n",
    "reordered_counting = reordered_products[\"product_id\"].value_counts()\n",
    "reordered_counting_df = reordered_counting.reset_index(name=\"count\")\n",
    "reordered_counting_df.columns = [\"product_id\", \"count\"]  \n",
    "top_20_reordered_products = reordered_counting_df.sort_values(by=\"count\", ascending=False).head(20)\n",
    "top_20_reordered_products_info = pd.merge(top_20_reordered_products, products[[\"product_id\", \"product_name\"]], on=\"product_id\", how=\"left\")\n",
    "top_20_reordered_products_info"
   ]
  },
  {
   "cell_type": "markdown",
   "id": "80e70c74",
   "metadata": {
    "id": "80e70c74"
   },
   "source": [
    "Escribe aquí tus conclusiones\n",
    "\n",
    "En esta tabla se demuetra que los productos más reordenados con frutas y verduras. Los resultados de esta tabla coinciden con varios de la tabla de los \"20 productos más comprados\". Por lo que los clientes, por obvias razones, vuelven a comprar artículos relacionados con la alimentación. Igualmente podemos concluir que el supermercado puede enfocarse en mantener un stock de buena calidad para estos artículos para asegurar las compras y satisfacción de sus clientes. También puede enfocar sus estrategias de ofertas en los artículos del departamento de frutas y verduras. "
   ]
  },
  {
   "cell_type": "markdown",
   "id": "9d312b14",
   "metadata": {
    "id": "9d312b14"
   },
   "source": [
    "### [C3] Para cada producto, ¿cuál es la proporción de las veces que se pide y que se vuelve a pedir?"
   ]
  },
  {
   "cell_type": "code",
   "execution_count": 49,
   "id": "8ae9f4b1",
   "metadata": {
    "id": "8ae9f4b1",
    "trusted": false
   },
   "outputs": [
    {
     "data": {
      "text/plain": [
       "product_id  product_name                                                     \n",
       "1           CHOCOLATE SANDWICH COOKIES                                           56.428571\n",
       "2           ALL-SEASONS SALT                                                           NaN\n",
       "3           ROBUST GOLDEN UNSWEETENED OOLONG TEA                                 73.809524\n",
       "4           SMART ONES CLASSIC FAVORITES MINI RIGATONI WITH VODKA CREAM SAUCE    51.020408\n",
       "7           PURE COCONUT WATER WITH ORANGE                                       50.000000\n",
       "                                                                                   ...    \n",
       "49690       HIGH PERFORMANCE ENERGY DRINK                                        80.000000\n",
       "49691       ORIGINAL PANCAKE & WAFFLE MIX                                        43.055556\n",
       "49692       ORGANIC INSTANT OATMEAL LIGHT MAPLE BROWN SUGAR                      41.666667\n",
       "49693       SPRING WATER BODY WASH                                               44.000000\n",
       "49694       BURRITO- STEAK & CHEESE                                              33.333333\n",
       "Name: order_id, Length: 45573, dtype: float64"
      ]
     },
     "execution_count": 49,
     "metadata": {},
     "output_type": "execute_result"
    }
   ],
   "source": [
    "df_merged = pd.merge(order_products, products[[\"product_id\", \"product_name\"]], on=\"product_id\", how=\"left\")\n",
    "total_products = df_merged.groupby([\"product_id\", \"product_name\"])[\"order_id\"].nunique()\n",
    "reordered_products = df_merged[df_merged[\"reordered\"] == 1]\n",
    "total_reorder = reordered_products.groupby([\"product_id\", \"product_name\"])[\"order_id\"].nunique()\n",
    "repeat_rate = (total_reorder / total_products) * 100\n",
    "repeat_rate"
   ]
  },
  {
   "cell_type": "markdown",
   "id": "I10dEIAyldcO",
   "metadata": {
    "id": "I10dEIAyldcO"
   },
   "source": [
    "Escribe aquí tus conclusiones\n",
    "En esta tabla nos ayuda a revisar la proporción de veces que se solicitó un artículos. Puedo servir como punto de referencia para los proveedores del supermercado, creación de estrategias, artículos que pueden ser potenciales para que vuelvan a ser solicitados, así como también revisar las preferencias de los clientes. "
   ]
  },
  {
   "cell_type": "markdown",
   "id": "subject-boxing",
   "metadata": {
    "id": "subject-boxing"
   },
   "source": [
    "### [C4] Para cada cliente, ¿qué proporción de sus productos ya los había pedido?"
   ]
  },
  {
   "cell_type": "code",
   "execution_count": 50,
   "id": "medical-couple",
   "metadata": {
    "id": "medical-couple",
    "scrolled": true,
    "trusted": false
   },
   "outputs": [
    {
     "data": {
      "text/html": [
       "<div>\n",
       "<style scoped>\n",
       "    .dataframe tbody tr th:only-of-type {\n",
       "        vertical-align: middle;\n",
       "    }\n",
       "\n",
       "    .dataframe tbody tr th {\n",
       "        vertical-align: top;\n",
       "    }\n",
       "\n",
       "    .dataframe thead th {\n",
       "        text-align: right;\n",
       "    }\n",
       "</style>\n",
       "<table border=\"1\" class=\"dataframe\">\n",
       "  <thead>\n",
       "    <tr style=\"text-align: right;\">\n",
       "      <th></th>\n",
       "      <th>total_products</th>\n",
       "      <th>repeated_products</th>\n",
       "      <th>ordered_again_distribution</th>\n",
       "    </tr>\n",
       "    <tr>\n",
       "      <th>user_id</th>\n",
       "      <th></th>\n",
       "      <th></th>\n",
       "      <th></th>\n",
       "    </tr>\n",
       "  </thead>\n",
       "  <tbody>\n",
       "    <tr>\n",
       "      <th>2</th>\n",
       "      <td>26</td>\n",
       "      <td>1</td>\n",
       "      <td>0.038462</td>\n",
       "    </tr>\n",
       "    <tr>\n",
       "      <th>4</th>\n",
       "      <td>2</td>\n",
       "      <td>0</td>\n",
       "      <td>0.000000</td>\n",
       "    </tr>\n",
       "    <tr>\n",
       "      <th>5</th>\n",
       "      <td>12</td>\n",
       "      <td>8</td>\n",
       "      <td>0.666667</td>\n",
       "    </tr>\n",
       "    <tr>\n",
       "      <th>6</th>\n",
       "      <td>4</td>\n",
       "      <td>0</td>\n",
       "      <td>0.000000</td>\n",
       "    </tr>\n",
       "    <tr>\n",
       "      <th>7</th>\n",
       "      <td>14</td>\n",
       "      <td>13</td>\n",
       "      <td>0.928571</td>\n",
       "    </tr>\n",
       "    <tr>\n",
       "      <th>...</th>\n",
       "      <td>...</td>\n",
       "      <td>...</td>\n",
       "      <td>...</td>\n",
       "    </tr>\n",
       "    <tr>\n",
       "      <th>206203</th>\n",
       "      <td>27</td>\n",
       "      <td>6</td>\n",
       "      <td>0.222222</td>\n",
       "    </tr>\n",
       "    <tr>\n",
       "      <th>206206</th>\n",
       "      <td>21</td>\n",
       "      <td>15</td>\n",
       "      <td>0.714286</td>\n",
       "    </tr>\n",
       "    <tr>\n",
       "      <th>206207</th>\n",
       "      <td>46</td>\n",
       "      <td>41</td>\n",
       "      <td>0.891304</td>\n",
       "    </tr>\n",
       "    <tr>\n",
       "      <th>206208</th>\n",
       "      <td>125</td>\n",
       "      <td>87</td>\n",
       "      <td>0.696000</td>\n",
       "    </tr>\n",
       "    <tr>\n",
       "      <th>206209</th>\n",
       "      <td>25</td>\n",
       "      <td>8</td>\n",
       "      <td>0.320000</td>\n",
       "    </tr>\n",
       "  </tbody>\n",
       "</table>\n",
       "<p>149626 rows × 3 columns</p>\n",
       "</div>"
      ],
      "text/plain": [
       "         total_products  repeated_products  ordered_again_distribution\n",
       "user_id                                                               \n",
       "2                    26                  1                    0.038462\n",
       "4                     2                  0                    0.000000\n",
       "5                    12                  8                    0.666667\n",
       "6                     4                  0                    0.000000\n",
       "7                    14                 13                    0.928571\n",
       "...                 ...                ...                         ...\n",
       "206203               27                  6                    0.222222\n",
       "206206               21                 15                    0.714286\n",
       "206207               46                 41                    0.891304\n",
       "206208              125                 87                    0.696000\n",
       "206209               25                  8                    0.320000\n",
       "\n",
       "[149626 rows x 3 columns]"
      ]
     },
     "execution_count": 50,
     "metadata": {},
     "output_type": "execute_result"
    }
   ],
   "source": [
    "merged_data = pd.merge(order_products, instacart_orders[[\"order_id\", \"user_id\"]], on=\"order_id\", how=\"left\")\n",
    "\n",
    "ordered_again = merged_data.groupby(\"user_id\").agg(total_products=(\"product_id\", \"count\"),repeated_products=(\"reordered\", \"sum\"))\n",
    "ordered_again[\"ordered_again_distribution\"] = ordered_again[\"repeated_products\"] / ordered_again[\"total_products\"]\n",
    "ordered_again[[\"total_products\", \"repeated_products\", \"ordered_again_distribution\"]]"
   ]
  },
  {
   "cell_type": "markdown",
   "id": "BgJSvXDsleXz",
   "metadata": {
    "id": "BgJSvXDsleXz"
   },
   "source": [
    "Escribe aquí tus conclusiones\n",
    "\n",
    "Este análisis sirve para ver el comportamiento de cada usuario. Con esta información, el supermercado puede tener una vista general del comportameinto de los usuarios a partir de la proporcion de pedidos que se volvieron a colocar. Con esta información se puede decidir estrategias de retención de clientes u ofertas personalizadas. "
   ]
  },
  {
   "cell_type": "markdown",
   "id": "92d35137",
   "metadata": {
    "id": "92d35137"
   },
   "source": [
    "### [C5] ¿Cuáles son los 20 principales artículos que las personas ponen primero en sus carritos?"
   ]
  },
  {
   "cell_type": "code",
   "execution_count": 51,
   "id": "0ae57274",
   "metadata": {
    "id": "0ae57274",
    "scrolled": true,
    "trusted": false
   },
   "outputs": [
    {
     "data": {
      "text/html": [
       "<div>\n",
       "<style scoped>\n",
       "    .dataframe tbody tr th:only-of-type {\n",
       "        vertical-align: middle;\n",
       "    }\n",
       "\n",
       "    .dataframe tbody tr th {\n",
       "        vertical-align: top;\n",
       "    }\n",
       "\n",
       "    .dataframe thead th {\n",
       "        text-align: right;\n",
       "    }\n",
       "</style>\n",
       "<table border=\"1\" class=\"dataframe\">\n",
       "  <thead>\n",
       "    <tr style=\"text-align: right;\">\n",
       "      <th></th>\n",
       "      <th>product_id</th>\n",
       "      <th>product_name</th>\n",
       "      <th>count</th>\n",
       "    </tr>\n",
       "  </thead>\n",
       "  <tbody>\n",
       "    <tr>\n",
       "      <th>0</th>\n",
       "      <td>24852</td>\n",
       "      <td>BANANA</td>\n",
       "      <td>15562</td>\n",
       "    </tr>\n",
       "    <tr>\n",
       "      <th>1</th>\n",
       "      <td>13176</td>\n",
       "      <td>BAG OF ORGANIC BANANAS</td>\n",
       "      <td>11026</td>\n",
       "    </tr>\n",
       "    <tr>\n",
       "      <th>2</th>\n",
       "      <td>27845</td>\n",
       "      <td>ORGANIC WHOLE MILK</td>\n",
       "      <td>4363</td>\n",
       "    </tr>\n",
       "    <tr>\n",
       "      <th>3</th>\n",
       "      <td>21137</td>\n",
       "      <td>ORGANIC STRAWBERRIES</td>\n",
       "      <td>3946</td>\n",
       "    </tr>\n",
       "    <tr>\n",
       "      <th>4</th>\n",
       "      <td>47209</td>\n",
       "      <td>ORGANIC HASS AVOCADO</td>\n",
       "      <td>3390</td>\n",
       "    </tr>\n",
       "    <tr>\n",
       "      <th>5</th>\n",
       "      <td>21903</td>\n",
       "      <td>ORGANIC BABY SPINACH</td>\n",
       "      <td>3336</td>\n",
       "    </tr>\n",
       "    <tr>\n",
       "      <th>6</th>\n",
       "      <td>47766</td>\n",
       "      <td>ORGANIC AVOCADO</td>\n",
       "      <td>3044</td>\n",
       "    </tr>\n",
       "    <tr>\n",
       "      <th>7</th>\n",
       "      <td>19660</td>\n",
       "      <td>SPRING WATER</td>\n",
       "      <td>2336</td>\n",
       "    </tr>\n",
       "    <tr>\n",
       "      <th>8</th>\n",
       "      <td>16797</td>\n",
       "      <td>STRAWBERRIES</td>\n",
       "      <td>2308</td>\n",
       "    </tr>\n",
       "    <tr>\n",
       "      <th>9</th>\n",
       "      <td>27966</td>\n",
       "      <td>ORGANIC RASPBERRIES</td>\n",
       "      <td>2024</td>\n",
       "    </tr>\n",
       "    <tr>\n",
       "      <th>10</th>\n",
       "      <td>44632</td>\n",
       "      <td>SPARKLING WATER GRAPEFRUIT</td>\n",
       "      <td>1914</td>\n",
       "    </tr>\n",
       "    <tr>\n",
       "      <th>11</th>\n",
       "      <td>49235</td>\n",
       "      <td>ORGANIC HALF &amp; HALF</td>\n",
       "      <td>1797</td>\n",
       "    </tr>\n",
       "    <tr>\n",
       "      <th>12</th>\n",
       "      <td>47626</td>\n",
       "      <td>LARGE LEMON</td>\n",
       "      <td>1737</td>\n",
       "    </tr>\n",
       "    <tr>\n",
       "      <th>13</th>\n",
       "      <td>196</td>\n",
       "      <td>SODA</td>\n",
       "      <td>1733</td>\n",
       "    </tr>\n",
       "    <tr>\n",
       "      <th>14</th>\n",
       "      <td>38689</td>\n",
       "      <td>ORGANIC REDUCED FAT MILK</td>\n",
       "      <td>1397</td>\n",
       "    </tr>\n",
       "    <tr>\n",
       "      <th>15</th>\n",
       "      <td>26209</td>\n",
       "      <td>LIMES</td>\n",
       "      <td>1370</td>\n",
       "    </tr>\n",
       "    <tr>\n",
       "      <th>16</th>\n",
       "      <td>12341</td>\n",
       "      <td>HASS AVOCADOS</td>\n",
       "      <td>1340</td>\n",
       "    </tr>\n",
       "    <tr>\n",
       "      <th>17</th>\n",
       "      <td>5785</td>\n",
       "      <td>ORGANIC REDUCED FAT 2% MILK</td>\n",
       "      <td>1310</td>\n",
       "    </tr>\n",
       "    <tr>\n",
       "      <th>18</th>\n",
       "      <td>27086</td>\n",
       "      <td>HALF &amp; HALF</td>\n",
       "      <td>1309</td>\n",
       "    </tr>\n",
       "    <tr>\n",
       "      <th>19</th>\n",
       "      <td>43352</td>\n",
       "      <td>RASPBERRIES</td>\n",
       "      <td>1246</td>\n",
       "    </tr>\n",
       "  </tbody>\n",
       "</table>\n",
       "</div>"
      ],
      "text/plain": [
       "    product_id                 product_name  count\n",
       "0        24852                       BANANA  15562\n",
       "1        13176       BAG OF ORGANIC BANANAS  11026\n",
       "2        27845           ORGANIC WHOLE MILK   4363\n",
       "3        21137         ORGANIC STRAWBERRIES   3946\n",
       "4        47209         ORGANIC HASS AVOCADO   3390\n",
       "5        21903         ORGANIC BABY SPINACH   3336\n",
       "6        47766              ORGANIC AVOCADO   3044\n",
       "7        19660                 SPRING WATER   2336\n",
       "8        16797                 STRAWBERRIES   2308\n",
       "9        27966          ORGANIC RASPBERRIES   2024\n",
       "10       44632   SPARKLING WATER GRAPEFRUIT   1914\n",
       "11       49235          ORGANIC HALF & HALF   1797\n",
       "12       47626                  LARGE LEMON   1737\n",
       "13         196                         SODA   1733\n",
       "14       38689     ORGANIC REDUCED FAT MILK   1397\n",
       "15       26209                        LIMES   1370\n",
       "16       12341                HASS AVOCADOS   1340\n",
       "17        5785  ORGANIC REDUCED FAT 2% MILK   1310\n",
       "18       27086                  HALF & HALF   1309\n",
       "19       43352                  RASPBERRIES   1246"
      ]
     },
     "execution_count": 51,
     "metadata": {},
     "output_type": "execute_result"
    }
   ],
   "source": [
    "first_items = order_products[order_products[\"add_to_cart_order\"] == 1]\n",
    "first_item_counts = first_items.groupby(\"product_id\")[\"add_to_cart_order\"].count()\n",
    "top_20_first_items = first_item_counts.sort_values(ascending=False).head(20)\n",
    "top_20_first_items = top_20_first_items.reset_index(name=\"count\") \n",
    "top_20_first_items = pd.merge(top_20_first_items, products[[\"product_id\", \"product_name\"]], on=\"product_id\", how=\"left\")\n",
    "top_20_first_items[[\"product_id\", \"product_name\", \"count\"]]"
   ]
  },
  {
   "cell_type": "markdown",
   "id": "28ce9872",
   "metadata": {
    "id": "28ce9872"
   },
   "source": [
    "Escribe aquí tus conclusiones\n",
    " \n",
    "En esta última tabla se corrobora que los clientes toman la decisión de ir al supermercado a partir de la necesidad de reabastecer sus víveres. Igualmente varios de estos ítems coinciden con las tablas de los artículos más populares y que se vuelven a comprar con más frecuencia. "
   ]
  },
  {
   "cell_type": "markdown",
   "id": "uITbFCEoDosC",
   "metadata": {
    "id": "uITbFCEoDosC"
   },
   "source": [
    "### Conclusion general del proyecto:"
   ]
  },
  {
   "cell_type": "markdown",
   "id": "437e95c9",
   "metadata": {
    "id": "Nk-4GS7mDwqY"
   },
   "source": [
    "Cada vez que empezamos con un proyecto es importante inciar con la información de cada dataframe para tener un panorama general de la información. Después procedemos con la limpieza de datos, al identificar los duplicados y datos ausentes que, si no tratan de manera adecuada, puede distorsionar los resultados. Es importtante que comprendamos la relación entre cada columna y los datos que desea expresar, ya que a veces nos arroja resultados que no necesariamente significa que estén erróneos o que no tengan un porqué detrás de su estructura. \n",
    "\n",
    "Varios datos parecían ser duplicados de acuerdo a su coincidencia de valor en algunas columnas, pero nunca debemos dar por sentado que todos los datos con esos valores son duplicados o ausentes. Por lo tanto, es importante comprender los datos y siempre debemos de verificar los datos a partir de la creación de filtros. \n",
    "\n",
    "En la parte de visualización de datos no solo nos ayuda a presentar en una gráfica los resultados, sino que también es una corroboración de que los datos fueron limpiados de manera correcta. En este paso, al filtrar la información, nuestros datos reflejan los patrones que sigue el dataframe. La visualización de datos nos permite comparar, priorizar y calcular las preguntas que deseamos resolver. A partir de un vistazo a las tablas y gráficos podemos inferir y analizar la información para el cliente, así como también sugerir propuestas que el supermercado puede diseñar para sus clientes y artículos. \n"
   ]
  }
 ],
 "metadata": {
  "ExecuteTimeLog": [
   {
    "duration": 278,
    "start_time": "2024-11-17T18:16:04.062Z"
   },
   {
    "duration": 2,
    "start_time": "2024-11-17T18:21:39.499Z"
   },
   {
    "duration": 1026,
    "start_time": "2024-11-17T18:21:42.951Z"
   },
   {
    "duration": 9,
    "start_time": "2024-11-17T18:21:56.779Z"
   },
   {
    "duration": 7,
    "start_time": "2024-11-17T18:22:29.354Z"
   },
   {
    "duration": 6,
    "start_time": "2024-11-17T18:22:54.618Z"
   },
   {
    "duration": 5,
    "start_time": "2024-11-17T18:23:11.854Z"
   },
   {
    "duration": 7,
    "start_time": "2024-11-17T18:23:39.140Z"
   },
   {
    "duration": 7,
    "start_time": "2024-11-17T18:24:27.119Z"
   },
   {
    "duration": 306,
    "start_time": "2024-11-17T18:24:51.992Z"
   },
   {
    "duration": 878,
    "start_time": "2024-11-17T18:24:52.300Z"
   },
   {
    "duration": 12,
    "start_time": "2024-11-17T18:24:53.180Z"
   },
   {
    "duration": 10,
    "start_time": "2024-11-17T18:24:53.193Z"
   },
   {
    "duration": 8,
    "start_time": "2024-11-17T18:24:53.207Z"
   },
   {
    "duration": 8,
    "start_time": "2024-11-17T18:24:53.216Z"
   },
   {
    "duration": 6,
    "start_time": "2024-11-17T18:24:53.226Z"
   },
   {
    "duration": 2,
    "start_time": "2024-11-17T18:24:53.234Z"
   },
   {
    "duration": 2,
    "start_time": "2024-11-17T18:24:53.238Z"
   },
   {
    "duration": 2,
    "start_time": "2024-11-17T18:24:53.242Z"
   },
   {
    "duration": 2,
    "start_time": "2024-11-17T18:24:53.287Z"
   },
   {
    "duration": 6,
    "start_time": "2024-11-17T18:24:53.291Z"
   },
   {
    "duration": 2,
    "start_time": "2024-11-17T18:24:53.300Z"
   },
   {
    "duration": 2,
    "start_time": "2024-11-17T18:24:53.307Z"
   },
   {
    "duration": 2,
    "start_time": "2024-11-17T18:24:53.311Z"
   },
   {
    "duration": 2,
    "start_time": "2024-11-17T18:24:53.316Z"
   },
   {
    "duration": 2,
    "start_time": "2024-11-17T18:24:53.320Z"
   },
   {
    "duration": 3,
    "start_time": "2024-11-17T18:24:53.324Z"
   },
   {
    "duration": 3,
    "start_time": "2024-11-17T18:24:53.328Z"
   },
   {
    "duration": 2,
    "start_time": "2024-11-17T18:24:53.333Z"
   },
   {
    "duration": 3,
    "start_time": "2024-11-17T18:24:53.337Z"
   },
   {
    "duration": 48,
    "start_time": "2024-11-17T18:24:53.341Z"
   },
   {
    "duration": 4,
    "start_time": "2024-11-17T18:24:53.391Z"
   },
   {
    "duration": 3,
    "start_time": "2024-11-17T18:24:53.396Z"
   },
   {
    "duration": 3,
    "start_time": "2024-11-17T18:24:53.400Z"
   },
   {
    "duration": 2,
    "start_time": "2024-11-17T18:24:53.405Z"
   },
   {
    "duration": 2,
    "start_time": "2024-11-17T18:24:53.409Z"
   },
   {
    "duration": 2,
    "start_time": "2024-11-17T18:24:53.413Z"
   },
   {
    "duration": 2,
    "start_time": "2024-11-17T18:24:53.417Z"
   },
   {
    "duration": 2,
    "start_time": "2024-11-17T18:24:53.421Z"
   },
   {
    "duration": 2,
    "start_time": "2024-11-17T18:24:53.425Z"
   },
   {
    "duration": 2,
    "start_time": "2024-11-17T18:24:53.429Z"
   },
   {
    "duration": 54,
    "start_time": "2024-11-17T18:24:53.433Z"
   },
   {
    "duration": 5,
    "start_time": "2024-11-17T18:24:53.488Z"
   },
   {
    "duration": 318,
    "start_time": "2024-11-17T18:37:43.710Z"
   },
   {
    "duration": 854,
    "start_time": "2024-11-17T18:37:44.030Z"
   },
   {
    "duration": 11,
    "start_time": "2024-11-17T18:37:44.886Z"
   },
   {
    "duration": 9,
    "start_time": "2024-11-17T18:37:44.900Z"
   },
   {
    "duration": 7,
    "start_time": "2024-11-17T18:37:44.911Z"
   },
   {
    "duration": 8,
    "start_time": "2024-11-17T18:37:44.920Z"
   },
   {
    "duration": 6,
    "start_time": "2024-11-17T18:37:44.930Z"
   },
   {
    "duration": 2,
    "start_time": "2024-11-17T18:37:44.938Z"
   },
   {
    "duration": 2,
    "start_time": "2024-11-17T18:37:44.942Z"
   },
   {
    "duration": 2,
    "start_time": "2024-11-17T18:37:44.988Z"
   },
   {
    "duration": 2,
    "start_time": "2024-11-17T18:37:44.991Z"
   },
   {
    "duration": 2,
    "start_time": "2024-11-17T18:37:44.996Z"
   },
   {
    "duration": 2,
    "start_time": "2024-11-17T18:37:45.000Z"
   },
   {
    "duration": 2,
    "start_time": "2024-11-17T18:37:45.004Z"
   },
   {
    "duration": 3,
    "start_time": "2024-11-17T18:37:45.009Z"
   },
   {
    "duration": 2,
    "start_time": "2024-11-17T18:37:45.014Z"
   },
   {
    "duration": 2,
    "start_time": "2024-11-17T18:37:45.018Z"
   },
   {
    "duration": 2,
    "start_time": "2024-11-17T18:37:45.021Z"
   },
   {
    "duration": 2,
    "start_time": "2024-11-17T18:37:45.026Z"
   },
   {
    "duration": 3,
    "start_time": "2024-11-17T18:37:45.029Z"
   },
   {
    "duration": 2,
    "start_time": "2024-11-17T18:37:45.034Z"
   },
   {
    "duration": 49,
    "start_time": "2024-11-17T18:37:45.037Z"
   },
   {
    "duration": 2,
    "start_time": "2024-11-17T18:37:45.088Z"
   },
   {
    "duration": 2,
    "start_time": "2024-11-17T18:37:45.092Z"
   },
   {
    "duration": 2,
    "start_time": "2024-11-17T18:37:45.096Z"
   },
   {
    "duration": 3,
    "start_time": "2024-11-17T18:37:45.100Z"
   },
   {
    "duration": 2,
    "start_time": "2024-11-17T18:37:45.105Z"
   },
   {
    "duration": 2,
    "start_time": "2024-11-17T18:37:45.112Z"
   },
   {
    "duration": 2,
    "start_time": "2024-11-17T18:37:45.116Z"
   },
   {
    "duration": 2,
    "start_time": "2024-11-17T18:37:45.120Z"
   },
   {
    "duration": 2,
    "start_time": "2024-11-17T18:37:45.124Z"
   },
   {
    "duration": 2,
    "start_time": "2024-11-17T18:37:45.128Z"
   },
   {
    "duration": 2,
    "start_time": "2024-11-17T18:37:45.132Z"
   },
   {
    "duration": 52,
    "start_time": "2024-11-17T18:37:45.136Z"
   },
   {
    "duration": 8,
    "start_time": "2024-11-17T18:39:29.404Z"
   },
   {
    "duration": 94,
    "start_time": "2024-11-17T18:39:54.161Z"
   },
   {
    "duration": 92,
    "start_time": "2024-11-17T18:41:48.808Z"
   },
   {
    "duration": 92,
    "start_time": "2024-11-17T18:42:00.479Z"
   },
   {
    "duration": 91,
    "start_time": "2024-11-17T18:44:54.106Z"
   },
   {
    "duration": 13,
    "start_time": "2024-11-17T18:55:42.030Z"
   },
   {
    "duration": 177,
    "start_time": "2024-11-17T18:58:34.880Z"
   },
   {
    "duration": 6,
    "start_time": "2024-11-17T18:58:46.785Z"
   },
   {
    "duration": 13,
    "start_time": "2024-11-17T18:59:32.218Z"
   },
   {
    "duration": 12,
    "start_time": "2024-11-17T19:01:03.350Z"
   },
   {
    "duration": 6,
    "start_time": "2024-11-17T19:01:14.180Z"
   },
   {
    "duration": 10,
    "start_time": "2024-11-17T19:01:31.293Z"
   },
   {
    "duration": 10,
    "start_time": "2024-11-17T19:02:32.296Z"
   },
   {
    "duration": 12,
    "start_time": "2024-11-17T19:05:18.697Z"
   },
   {
    "duration": 13,
    "start_time": "2024-11-17T19:05:43.466Z"
   },
   {
    "duration": 17,
    "start_time": "2024-11-17T19:06:16.651Z"
   },
   {
    "duration": 6,
    "start_time": "2024-11-17T19:07:13.304Z"
   },
   {
    "duration": 5,
    "start_time": "2024-11-17T19:07:19.838Z"
   },
   {
    "duration": 14,
    "start_time": "2024-11-17T19:11:02.338Z"
   },
   {
    "duration": 262,
    "start_time": "2024-11-17T19:12:39.414Z"
   },
   {
    "duration": 165,
    "start_time": "2024-11-18T03:24:48.041Z"
   },
   {
    "duration": 279,
    "start_time": "2024-11-18T03:25:09.653Z"
   },
   {
    "duration": 1012,
    "start_time": "2024-11-18T03:25:09.934Z"
   },
   {
    "duration": 12,
    "start_time": "2024-11-18T03:25:10.948Z"
   },
   {
    "duration": 10,
    "start_time": "2024-11-18T03:25:10.962Z"
   },
   {
    "duration": 7,
    "start_time": "2024-11-18T03:25:10.987Z"
   },
   {
    "duration": 8,
    "start_time": "2024-11-18T03:25:10.996Z"
   },
   {
    "duration": 7,
    "start_time": "2024-11-18T03:25:11.005Z"
   },
   {
    "duration": 122,
    "start_time": "2024-11-18T03:25:11.013Z"
   },
   {
    "duration": 11,
    "start_time": "2024-11-18T03:25:11.137Z"
   },
   {
    "duration": 2,
    "start_time": "2024-11-18T03:25:11.151Z"
   },
   {
    "duration": 3,
    "start_time": "2024-11-18T03:25:11.154Z"
   },
   {
    "duration": 3,
    "start_time": "2024-11-18T03:25:11.159Z"
   },
   {
    "duration": 41,
    "start_time": "2024-11-18T03:25:11.164Z"
   },
   {
    "duration": 6,
    "start_time": "2024-11-18T03:25:11.207Z"
   },
   {
    "duration": 19,
    "start_time": "2024-11-18T03:25:11.214Z"
   },
   {
    "duration": 2,
    "start_time": "2024-11-18T03:25:11.234Z"
   },
   {
    "duration": 2,
    "start_time": "2024-11-18T03:25:11.239Z"
   },
   {
    "duration": 3,
    "start_time": "2024-11-18T03:25:11.242Z"
   },
   {
    "duration": 3,
    "start_time": "2024-11-18T03:25:11.247Z"
   },
   {
    "duration": 34,
    "start_time": "2024-11-18T03:25:11.252Z"
   },
   {
    "duration": 2,
    "start_time": "2024-11-18T03:25:11.288Z"
   },
   {
    "duration": 3,
    "start_time": "2024-11-18T03:25:11.292Z"
   },
   {
    "duration": 2,
    "start_time": "2024-11-18T03:25:11.297Z"
   },
   {
    "duration": 4,
    "start_time": "2024-11-18T03:25:11.300Z"
   },
   {
    "duration": 3,
    "start_time": "2024-11-18T03:25:11.305Z"
   },
   {
    "duration": 3,
    "start_time": "2024-11-18T03:25:11.309Z"
   },
   {
    "duration": 3,
    "start_time": "2024-11-18T03:25:11.314Z"
   },
   {
    "duration": 2,
    "start_time": "2024-11-18T03:25:11.320Z"
   },
   {
    "duration": 3,
    "start_time": "2024-11-18T03:25:11.323Z"
   },
   {
    "duration": 3,
    "start_time": "2024-11-18T03:25:11.327Z"
   },
   {
    "duration": 4,
    "start_time": "2024-11-18T03:25:11.331Z"
   },
   {
    "duration": 51,
    "start_time": "2024-11-18T03:25:11.336Z"
   },
   {
    "duration": 4,
    "start_time": "2024-11-18T03:25:11.388Z"
   },
   {
    "duration": 3,
    "start_time": "2024-11-18T03:25:11.393Z"
   },
   {
    "duration": 20,
    "start_time": "2024-11-18T03:26:20.556Z"
   },
   {
    "duration": 177,
    "start_time": "2024-11-18T03:27:09.887Z"
   },
   {
    "duration": 6,
    "start_time": "2024-11-18T03:27:34.495Z"
   },
   {
    "duration": 21,
    "start_time": "2024-11-18T03:27:37.470Z"
   },
   {
    "duration": 4,
    "start_time": "2024-11-18T03:29:24.135Z"
   },
   {
    "duration": 7,
    "start_time": "2024-11-18T03:29:56.369Z"
   },
   {
    "duration": 4,
    "start_time": "2024-11-18T03:30:06.980Z"
   },
   {
    "duration": 6,
    "start_time": "2024-11-18T03:30:20.213Z"
   },
   {
    "duration": 4,
    "start_time": "2024-11-18T03:31:08.561Z"
   },
   {
    "duration": 13,
    "start_time": "2024-11-18T03:31:17.917Z"
   },
   {
    "duration": 7,
    "start_time": "2024-11-18T03:31:23.364Z"
   },
   {
    "duration": 795,
    "start_time": "2024-11-18T03:35:01.533Z"
   },
   {
    "duration": 102,
    "start_time": "2024-11-18T03:37:20.265Z"
   },
   {
    "duration": 367,
    "start_time": "2024-11-18T03:47:35.952Z"
   },
   {
    "duration": 3,
    "start_time": "2024-11-18T03:47:46.559Z"
   },
   {
    "duration": 3,
    "start_time": "2024-11-18T03:47:51.462Z"
   },
   {
    "duration": 102,
    "start_time": "2024-11-18T03:48:03.380Z"
   },
   {
    "duration": 9,
    "start_time": "2024-11-18T03:54:43.161Z"
   },
   {
    "duration": 10,
    "start_time": "2024-11-18T04:14:42.612Z"
   },
   {
    "duration": 7,
    "start_time": "2024-11-18T04:15:25.169Z"
   },
   {
    "duration": 6,
    "start_time": "2024-11-18T04:16:59.520Z"
   },
   {
    "duration": 7,
    "start_time": "2024-11-18T04:17:12.279Z"
   },
   {
    "duration": 8,
    "start_time": "2024-11-18T04:22:40.254Z"
   },
   {
    "duration": 9,
    "start_time": "2024-11-18T04:23:25.255Z"
   },
   {
    "duration": 11,
    "start_time": "2024-11-18T04:28:16.597Z"
   },
   {
    "duration": 5,
    "start_time": "2024-11-18T04:28:41.495Z"
   },
   {
    "duration": 6,
    "start_time": "2024-11-18T04:28:53.937Z"
   },
   {
    "duration": 13,
    "start_time": "2024-11-18T04:30:03.051Z"
   },
   {
    "duration": 12,
    "start_time": "2024-11-18T04:30:18.892Z"
   },
   {
    "duration": 4,
    "start_time": "2024-11-18T04:32:35.986Z"
   },
   {
    "duration": 5,
    "start_time": "2024-11-18T04:33:46.208Z"
   },
   {
    "duration": 6,
    "start_time": "2024-11-18T04:35:16.794Z"
   },
   {
    "duration": 8,
    "start_time": "2024-11-18T04:35:33.813Z"
   },
   {
    "duration": 226,
    "start_time": "2024-11-18T04:36:01.182Z"
   },
   {
    "duration": 8,
    "start_time": "2024-11-18T04:36:19.129Z"
   },
   {
    "duration": 7,
    "start_time": "2024-11-18T04:43:00.838Z"
   },
   {
    "duration": 298,
    "start_time": "2024-11-18T04:49:40.898Z"
   },
   {
    "duration": 62,
    "start_time": "2024-11-18T04:50:07.180Z"
   },
   {
    "duration": 13,
    "start_time": "2024-11-18T04:54:04.324Z"
   },
   {
    "duration": 2,
    "start_time": "2024-11-18T04:55:55.303Z"
   },
   {
    "duration": 8,
    "start_time": "2024-11-18T04:57:42.243Z"
   },
   {
    "duration": 43,
    "start_time": "2024-11-18T04:58:06.432Z"
   },
   {
    "duration": 9,
    "start_time": "2024-11-18T04:58:39.760Z"
   },
   {
    "duration": 8,
    "start_time": "2024-11-18T04:59:08.578Z"
   },
   {
    "duration": 9,
    "start_time": "2024-11-18T04:59:25.012Z"
   },
   {
    "duration": 8,
    "start_time": "2024-11-18T04:59:39.785Z"
   },
   {
    "duration": 2,
    "start_time": "2024-11-18T04:59:51.701Z"
   },
   {
    "duration": 8,
    "start_time": "2024-11-18T04:59:54.512Z"
   },
   {
    "duration": 159,
    "start_time": "2024-11-18T19:53:48.865Z"
   },
   {
    "duration": 289,
    "start_time": "2024-11-18T19:54:02.000Z"
   },
   {
    "duration": 989,
    "start_time": "2024-11-18T19:54:02.291Z"
   },
   {
    "duration": 11,
    "start_time": "2024-11-18T19:54:03.282Z"
   },
   {
    "duration": 10,
    "start_time": "2024-11-18T19:54:03.294Z"
   },
   {
    "duration": 28,
    "start_time": "2024-11-18T19:54:03.307Z"
   },
   {
    "duration": 8,
    "start_time": "2024-11-18T19:54:03.336Z"
   },
   {
    "duration": 6,
    "start_time": "2024-11-18T19:54:03.346Z"
   },
   {
    "duration": 121,
    "start_time": "2024-11-18T19:54:03.354Z"
   },
   {
    "duration": 11,
    "start_time": "2024-11-18T19:54:03.477Z"
   },
   {
    "duration": 5,
    "start_time": "2024-11-18T19:54:03.489Z"
   },
   {
    "duration": 2,
    "start_time": "2024-11-18T19:54:03.495Z"
   },
   {
    "duration": 2,
    "start_time": "2024-11-18T19:54:03.499Z"
   },
   {
    "duration": 44,
    "start_time": "2024-11-18T19:54:03.503Z"
   },
   {
    "duration": 6,
    "start_time": "2024-11-18T19:54:03.550Z"
   },
   {
    "duration": 22,
    "start_time": "2024-11-18T19:54:03.558Z"
   },
   {
    "duration": 2,
    "start_time": "2024-11-18T19:54:03.582Z"
   },
   {
    "duration": 7,
    "start_time": "2024-11-18T19:54:03.586Z"
   },
   {
    "duration": 3,
    "start_time": "2024-11-18T19:54:03.594Z"
   },
   {
    "duration": 38,
    "start_time": "2024-11-18T19:54:03.599Z"
   },
   {
    "duration": 3,
    "start_time": "2024-11-18T19:54:03.638Z"
   },
   {
    "duration": 820,
    "start_time": "2024-11-18T19:54:03.643Z"
   },
   {
    "duration": 148,
    "start_time": "2024-11-18T19:54:04.465Z"
   },
   {
    "duration": 6,
    "start_time": "2024-11-18T19:54:04.614Z"
   },
   {
    "duration": 15,
    "start_time": "2024-11-18T19:54:04.622Z"
   },
   {
    "duration": 5,
    "start_time": "2024-11-18T19:54:04.639Z"
   },
   {
    "duration": 2,
    "start_time": "2024-11-18T19:54:04.646Z"
   },
   {
    "duration": 8,
    "start_time": "2024-11-18T19:54:04.649Z"
   },
   {
    "duration": 203,
    "start_time": "2024-11-18T19:54:04.658Z"
   },
   {
    "duration": 0,
    "start_time": "2024-11-18T19:54:04.863Z"
   },
   {
    "duration": 0,
    "start_time": "2024-11-18T19:54:04.864Z"
   },
   {
    "duration": 0,
    "start_time": "2024-11-18T19:54:04.865Z"
   },
   {
    "duration": 0,
    "start_time": "2024-11-18T19:54:04.866Z"
   },
   {
    "duration": 0,
    "start_time": "2024-11-18T19:54:04.867Z"
   },
   {
    "duration": 0,
    "start_time": "2024-11-18T19:54:04.868Z"
   },
   {
    "duration": 3,
    "start_time": "2024-11-18T19:55:19.657Z"
   },
   {
    "duration": 804,
    "start_time": "2024-11-18T19:55:51.315Z"
   },
   {
    "duration": 51,
    "start_time": "2024-11-18T19:56:23.986Z"
   },
   {
    "duration": 7,
    "start_time": "2024-11-18T20:02:07.693Z"
   },
   {
    "duration": 38,
    "start_time": "2024-11-18T20:02:16.098Z"
   },
   {
    "duration": 30,
    "start_time": "2024-11-18T20:02:38.397Z"
   },
   {
    "duration": 7,
    "start_time": "2024-11-18T20:32:16.794Z"
   },
   {
    "duration": 13,
    "start_time": "2024-11-18T20:38:20.979Z"
   },
   {
    "duration": 5,
    "start_time": "2024-11-18T20:38:51.690Z"
   },
   {
    "duration": 77,
    "start_time": "2024-11-18T20:41:16.773Z"
   },
   {
    "duration": 15,
    "start_time": "2024-11-18T20:43:08.010Z"
   },
   {
    "duration": 7,
    "start_time": "2024-11-18T20:43:32.292Z"
   },
   {
    "duration": 12,
    "start_time": "2024-11-18T20:46:59.002Z"
   },
   {
    "duration": 3,
    "start_time": "2024-11-18T20:47:45.063Z"
   },
   {
    "duration": 5,
    "start_time": "2024-11-18T20:48:00.719Z"
   },
   {
    "duration": 14,
    "start_time": "2024-11-18T20:50:07.035Z"
   },
   {
    "duration": 24,
    "start_time": "2024-11-18T20:50:16.534Z"
   },
   {
    "duration": 18,
    "start_time": "2024-11-18T20:50:39.302Z"
   },
   {
    "duration": 410,
    "start_time": "2024-11-18T20:51:30.928Z"
   },
   {
    "duration": 9,
    "start_time": "2024-11-18T21:08:54.045Z"
   },
   {
    "duration": 10,
    "start_time": "2024-11-18T21:08:57.102Z"
   },
   {
    "duration": 14,
    "start_time": "2024-11-18T21:09:08.035Z"
   },
   {
    "duration": 9,
    "start_time": "2024-11-18T21:15:02.537Z"
   },
   {
    "duration": 8,
    "start_time": "2024-11-18T23:34:28.862Z"
   },
   {
    "duration": 174,
    "start_time": "2024-11-18T23:34:37.530Z"
   },
   {
    "duration": 315,
    "start_time": "2024-11-18T23:34:49.894Z"
   },
   {
    "duration": 1027,
    "start_time": "2024-11-18T23:34:50.211Z"
   },
   {
    "duration": 12,
    "start_time": "2024-11-18T23:34:51.240Z"
   },
   {
    "duration": 10,
    "start_time": "2024-11-18T23:34:51.254Z"
   },
   {
    "duration": 9,
    "start_time": "2024-11-18T23:34:51.266Z"
   },
   {
    "duration": 32,
    "start_time": "2024-11-18T23:34:51.278Z"
   },
   {
    "duration": 7,
    "start_time": "2024-11-18T23:34:51.312Z"
   },
   {
    "duration": 45,
    "start_time": "2024-11-18T23:34:51.320Z"
   },
   {
    "duration": 14,
    "start_time": "2024-11-18T23:34:51.367Z"
   },
   {
    "duration": 26,
    "start_time": "2024-11-18T23:34:51.383Z"
   },
   {
    "duration": 2,
    "start_time": "2024-11-18T23:34:51.411Z"
   },
   {
    "duration": 2,
    "start_time": "2024-11-18T23:34:51.415Z"
   },
   {
    "duration": 18,
    "start_time": "2024-11-18T23:34:51.419Z"
   },
   {
    "duration": 6,
    "start_time": "2024-11-18T23:34:51.441Z"
   },
   {
    "duration": 28,
    "start_time": "2024-11-18T23:34:51.448Z"
   },
   {
    "duration": 31,
    "start_time": "2024-11-18T23:34:51.478Z"
   },
   {
    "duration": 8,
    "start_time": "2024-11-18T23:34:51.511Z"
   },
   {
    "duration": 3,
    "start_time": "2024-11-18T23:34:51.520Z"
   },
   {
    "duration": 7,
    "start_time": "2024-11-18T23:34:51.525Z"
   },
   {
    "duration": 2,
    "start_time": "2024-11-18T23:34:51.534Z"
   },
   {
    "duration": 862,
    "start_time": "2024-11-18T23:34:51.538Z"
   },
   {
    "duration": 10,
    "start_time": "2024-11-18T23:34:52.402Z"
   },
   {
    "duration": 0,
    "start_time": "2024-11-18T23:34:52.414Z"
   },
   {
    "duration": 0,
    "start_time": "2024-11-18T23:34:52.415Z"
   },
   {
    "duration": 0,
    "start_time": "2024-11-18T23:34:52.416Z"
   },
   {
    "duration": 0,
    "start_time": "2024-11-18T23:34:52.417Z"
   },
   {
    "duration": 0,
    "start_time": "2024-11-18T23:34:52.418Z"
   },
   {
    "duration": 0,
    "start_time": "2024-11-18T23:34:52.420Z"
   },
   {
    "duration": 0,
    "start_time": "2024-11-18T23:34:52.422Z"
   },
   {
    "duration": 0,
    "start_time": "2024-11-18T23:34:52.423Z"
   },
   {
    "duration": 0,
    "start_time": "2024-11-18T23:34:52.423Z"
   },
   {
    "duration": 0,
    "start_time": "2024-11-18T23:34:52.425Z"
   },
   {
    "duration": 0,
    "start_time": "2024-11-18T23:34:52.426Z"
   },
   {
    "duration": 0,
    "start_time": "2024-11-18T23:34:52.427Z"
   },
   {
    "duration": 9,
    "start_time": "2024-11-18T23:36:22.315Z"
   },
   {
    "duration": 39,
    "start_time": "2024-11-18T23:36:46.315Z"
   },
   {
    "duration": 209,
    "start_time": "2024-11-18T23:37:01.280Z"
   },
   {
    "duration": 24,
    "start_time": "2024-11-18T23:37:08.167Z"
   },
   {
    "duration": 31,
    "start_time": "2024-11-18T23:37:10.506Z"
   },
   {
    "duration": 31,
    "start_time": "2024-11-18T23:37:15.827Z"
   },
   {
    "duration": 26,
    "start_time": "2024-11-18T23:37:21.710Z"
   },
   {
    "duration": 25,
    "start_time": "2024-11-18T23:38:59.669Z"
   },
   {
    "duration": 26,
    "start_time": "2024-11-18T23:39:23.895Z"
   },
   {
    "duration": 37,
    "start_time": "2024-11-18T23:39:43.121Z"
   },
   {
    "duration": 37,
    "start_time": "2024-11-18T23:39:49.201Z"
   },
   {
    "duration": 29,
    "start_time": "2024-11-18T23:39:56.686Z"
   },
   {
    "duration": 26,
    "start_time": "2024-11-18T23:39:59.723Z"
   },
   {
    "duration": 28,
    "start_time": "2024-11-18T23:40:05.807Z"
   },
   {
    "duration": 9,
    "start_time": "2024-11-18T23:42:20.793Z"
   },
   {
    "duration": 12,
    "start_time": "2024-11-18T23:44:46.837Z"
   },
   {
    "duration": 6,
    "start_time": "2024-11-18T23:47:22.995Z"
   },
   {
    "duration": 30,
    "start_time": "2024-11-18T23:48:12.949Z"
   },
   {
    "duration": 29,
    "start_time": "2024-11-18T23:49:01.835Z"
   },
   {
    "duration": 28,
    "start_time": "2024-11-18T23:49:05.217Z"
   },
   {
    "duration": 8,
    "start_time": "2024-11-18T23:57:03.601Z"
   },
   {
    "duration": 37,
    "start_time": "2024-11-18T23:58:10.914Z"
   },
   {
    "duration": 26,
    "start_time": "2024-11-18T23:58:16.221Z"
   },
   {
    "duration": 26,
    "start_time": "2024-11-18T23:58:23.454Z"
   },
   {
    "duration": 7,
    "start_time": "2024-11-18T23:58:53.680Z"
   },
   {
    "duration": 26,
    "start_time": "2024-11-18T23:59:29.710Z"
   },
   {
    "duration": 27,
    "start_time": "2024-11-18T23:59:45.645Z"
   },
   {
    "duration": 26,
    "start_time": "2024-11-19T00:00:09.800Z"
   },
   {
    "duration": 46,
    "start_time": "2024-11-19T00:05:21.121Z"
   },
   {
    "duration": 15,
    "start_time": "2024-11-19T00:13:59.404Z"
   },
   {
    "duration": 5,
    "start_time": "2024-11-19T00:14:27.351Z"
   },
   {
    "duration": 12,
    "start_time": "2024-11-19T00:26:04.620Z"
   },
   {
    "duration": 11,
    "start_time": "2024-11-19T00:30:47.748Z"
   },
   {
    "duration": 27,
    "start_time": "2024-11-19T00:30:51.877Z"
   },
   {
    "duration": 25,
    "start_time": "2024-11-19T00:30:54.109Z"
   },
   {
    "duration": 28,
    "start_time": "2024-11-19T00:35:15.402Z"
   },
   {
    "duration": 15,
    "start_time": "2024-11-19T00:35:17.091Z"
   },
   {
    "duration": 11,
    "start_time": "2024-11-19T00:36:21.990Z"
   },
   {
    "duration": 329,
    "start_time": "2024-11-19T00:36:46.805Z"
   },
   {
    "duration": 1033,
    "start_time": "2024-11-19T00:36:47.136Z"
   },
   {
    "duration": 11,
    "start_time": "2024-11-19T00:36:48.170Z"
   },
   {
    "duration": 10,
    "start_time": "2024-11-19T00:36:48.183Z"
   },
   {
    "duration": 22,
    "start_time": "2024-11-19T00:36:48.195Z"
   },
   {
    "duration": 10,
    "start_time": "2024-11-19T00:36:48.218Z"
   },
   {
    "duration": 9,
    "start_time": "2024-11-19T00:36:48.230Z"
   },
   {
    "duration": 77,
    "start_time": "2024-11-19T00:36:48.241Z"
   },
   {
    "duration": 16,
    "start_time": "2024-11-19T00:36:48.319Z"
   },
   {
    "duration": 40,
    "start_time": "2024-11-19T00:36:48.337Z"
   },
   {
    "duration": 201,
    "start_time": "2024-11-19T00:36:48.379Z"
   },
   {
    "duration": 0,
    "start_time": "2024-11-19T00:36:48.583Z"
   },
   {
    "duration": 0,
    "start_time": "2024-11-19T00:36:48.585Z"
   },
   {
    "duration": 0,
    "start_time": "2024-11-19T00:36:48.586Z"
   },
   {
    "duration": 0,
    "start_time": "2024-11-19T00:36:48.587Z"
   },
   {
    "duration": 0,
    "start_time": "2024-11-19T00:36:48.588Z"
   },
   {
    "duration": 0,
    "start_time": "2024-11-19T00:36:48.590Z"
   },
   {
    "duration": 0,
    "start_time": "2024-11-19T00:36:48.591Z"
   },
   {
    "duration": 0,
    "start_time": "2024-11-19T00:36:48.593Z"
   },
   {
    "duration": 0,
    "start_time": "2024-11-19T00:36:48.608Z"
   },
   {
    "duration": 0,
    "start_time": "2024-11-19T00:36:48.609Z"
   },
   {
    "duration": 0,
    "start_time": "2024-11-19T00:36:48.611Z"
   },
   {
    "duration": 0,
    "start_time": "2024-11-19T00:36:48.612Z"
   },
   {
    "duration": 0,
    "start_time": "2024-11-19T00:36:48.614Z"
   },
   {
    "duration": 0,
    "start_time": "2024-11-19T00:36:48.615Z"
   },
   {
    "duration": 0,
    "start_time": "2024-11-19T00:36:48.616Z"
   },
   {
    "duration": 0,
    "start_time": "2024-11-19T00:36:48.617Z"
   },
   {
    "duration": 0,
    "start_time": "2024-11-19T00:36:48.619Z"
   },
   {
    "duration": 0,
    "start_time": "2024-11-19T00:36:48.620Z"
   },
   {
    "duration": 0,
    "start_time": "2024-11-19T00:36:48.622Z"
   },
   {
    "duration": 0,
    "start_time": "2024-11-19T00:36:48.623Z"
   },
   {
    "duration": 0,
    "start_time": "2024-11-19T00:36:48.624Z"
   },
   {
    "duration": 0,
    "start_time": "2024-11-19T00:36:48.625Z"
   },
   {
    "duration": 0,
    "start_time": "2024-11-19T00:36:48.627Z"
   },
   {
    "duration": 16,
    "start_time": "2024-11-19T00:38:45.454Z"
   },
   {
    "duration": 16,
    "start_time": "2024-11-19T00:39:10.740Z"
   },
   {
    "duration": 13,
    "start_time": "2024-11-19T00:41:10.062Z"
   },
   {
    "duration": 12,
    "start_time": "2024-11-19T00:41:19.146Z"
   },
   {
    "duration": 13,
    "start_time": "2024-11-19T00:43:07.120Z"
   },
   {
    "duration": 13,
    "start_time": "2024-11-19T00:43:59.575Z"
   },
   {
    "duration": 322,
    "start_time": "2024-11-19T00:44:27.312Z"
   },
   {
    "duration": 887,
    "start_time": "2024-11-19T00:44:27.636Z"
   },
   {
    "duration": 11,
    "start_time": "2024-11-19T00:44:28.525Z"
   },
   {
    "duration": 10,
    "start_time": "2024-11-19T00:44:28.537Z"
   },
   {
    "duration": 7,
    "start_time": "2024-11-19T00:44:28.550Z"
   },
   {
    "duration": 8,
    "start_time": "2024-11-19T00:44:28.558Z"
   },
   {
    "duration": 6,
    "start_time": "2024-11-19T00:44:28.568Z"
   },
   {
    "duration": 33,
    "start_time": "2024-11-19T00:44:28.609Z"
   },
   {
    "duration": 112,
    "start_time": "2024-11-19T00:44:28.644Z"
   },
   {
    "duration": 11,
    "start_time": "2024-11-19T00:44:28.758Z"
   },
   {
    "duration": 124,
    "start_time": "2024-11-19T00:44:28.770Z"
   },
   {
    "duration": 95,
    "start_time": "2024-11-19T00:44:28.896Z"
   },
   {
    "duration": 3,
    "start_time": "2024-11-19T00:44:28.993Z"
   },
   {
    "duration": 11,
    "start_time": "2024-11-19T00:44:29.009Z"
   },
   {
    "duration": 4,
    "start_time": "2024-11-19T00:44:29.022Z"
   },
   {
    "duration": 20,
    "start_time": "2024-11-19T00:44:29.028Z"
   },
   {
    "duration": 3,
    "start_time": "2024-11-19T00:44:29.050Z"
   },
   {
    "duration": 6,
    "start_time": "2024-11-19T00:44:29.055Z"
   },
   {
    "duration": 5,
    "start_time": "2024-11-19T00:44:29.063Z"
   },
   {
    "duration": 40,
    "start_time": "2024-11-19T00:44:29.070Z"
   },
   {
    "duration": 3,
    "start_time": "2024-11-19T00:44:29.112Z"
   },
   {
    "duration": 816,
    "start_time": "2024-11-19T00:44:29.117Z"
   },
   {
    "duration": 4,
    "start_time": "2024-11-19T00:44:29.935Z"
   },
   {
    "duration": 0,
    "start_time": "2024-11-19T00:44:29.940Z"
   },
   {
    "duration": 0,
    "start_time": "2024-11-19T00:44:29.941Z"
   },
   {
    "duration": 0,
    "start_time": "2024-11-19T00:44:29.943Z"
   },
   {
    "duration": 0,
    "start_time": "2024-11-19T00:44:29.944Z"
   },
   {
    "duration": 0,
    "start_time": "2024-11-19T00:44:29.945Z"
   },
   {
    "duration": 0,
    "start_time": "2024-11-19T00:44:29.946Z"
   },
   {
    "duration": 0,
    "start_time": "2024-11-19T00:44:29.947Z"
   },
   {
    "duration": 0,
    "start_time": "2024-11-19T00:44:29.948Z"
   },
   {
    "duration": 0,
    "start_time": "2024-11-19T00:44:29.949Z"
   },
   {
    "duration": 0,
    "start_time": "2024-11-19T00:44:29.951Z"
   },
   {
    "duration": 0,
    "start_time": "2024-11-19T00:44:29.953Z"
   },
   {
    "duration": 0,
    "start_time": "2024-11-19T00:44:29.954Z"
   },
   {
    "duration": 91,
    "start_time": "2024-11-19T00:47:37.777Z"
   },
   {
    "duration": 30,
    "start_time": "2024-11-19T00:49:41.666Z"
   },
   {
    "duration": 15,
    "start_time": "2024-11-19T00:50:28.274Z"
   },
   {
    "duration": 20,
    "start_time": "2024-11-19T00:50:30.720Z"
   },
   {
    "duration": 19,
    "start_time": "2024-11-19T00:50:46.517Z"
   },
   {
    "duration": 21,
    "start_time": "2024-11-19T00:52:44.723Z"
   },
   {
    "duration": 20,
    "start_time": "2024-11-19T00:52:59.870Z"
   },
   {
    "duration": 5,
    "start_time": "2024-11-19T00:53:49.572Z"
   },
   {
    "duration": 8,
    "start_time": "2024-11-19T00:59:11.663Z"
   },
   {
    "duration": 22,
    "start_time": "2024-11-19T00:59:15.690Z"
   },
   {
    "duration": 5,
    "start_time": "2024-11-19T01:00:18.431Z"
   },
   {
    "duration": 4,
    "start_time": "2024-11-19T01:00:53.512Z"
   },
   {
    "duration": 110,
    "start_time": "2024-11-19T01:01:58.083Z"
   },
   {
    "duration": 126,
    "start_time": "2024-11-19T01:03:35.666Z"
   },
   {
    "duration": 236,
    "start_time": "2024-11-19T01:04:16.640Z"
   },
   {
    "duration": 17,
    "start_time": "2024-11-19T01:04:21.915Z"
   },
   {
    "duration": 8,
    "start_time": "2024-11-19T01:04:28.008Z"
   },
   {
    "duration": 30,
    "start_time": "2024-11-19T01:04:32.002Z"
   },
   {
    "duration": 171,
    "start_time": "2024-11-19T16:32:40.487Z"
   },
   {
    "duration": 328,
    "start_time": "2024-11-19T16:32:52.180Z"
   },
   {
    "duration": 974,
    "start_time": "2024-11-19T16:32:52.512Z"
   },
   {
    "duration": 12,
    "start_time": "2024-11-19T16:32:53.488Z"
   },
   {
    "duration": 11,
    "start_time": "2024-11-19T16:32:53.503Z"
   },
   {
    "duration": 29,
    "start_time": "2024-11-19T16:32:53.516Z"
   },
   {
    "duration": 7,
    "start_time": "2024-11-19T16:32:53.547Z"
   },
   {
    "duration": 6,
    "start_time": "2024-11-19T16:32:53.556Z"
   },
   {
    "duration": 31,
    "start_time": "2024-11-19T16:32:53.564Z"
   },
   {
    "duration": 120,
    "start_time": "2024-11-19T16:32:53.596Z"
   },
   {
    "duration": 11,
    "start_time": "2024-11-19T16:32:53.720Z"
   },
   {
    "duration": 110,
    "start_time": "2024-11-19T16:32:53.743Z"
   },
   {
    "duration": 94,
    "start_time": "2024-11-19T16:32:53.855Z"
   },
   {
    "duration": 28,
    "start_time": "2024-11-19T16:32:53.951Z"
   },
   {
    "duration": 12,
    "start_time": "2024-11-19T16:32:53.982Z"
   },
   {
    "duration": 4,
    "start_time": "2024-11-19T16:32:53.995Z"
   },
   {
    "duration": 43,
    "start_time": "2024-11-19T16:32:54.001Z"
   },
   {
    "duration": 3,
    "start_time": "2024-11-19T16:32:54.046Z"
   },
   {
    "duration": 4,
    "start_time": "2024-11-19T16:32:54.051Z"
   },
   {
    "duration": 5,
    "start_time": "2024-11-19T16:32:54.057Z"
   },
   {
    "duration": 7,
    "start_time": "2024-11-19T16:32:54.063Z"
   },
   {
    "duration": 4,
    "start_time": "2024-11-19T16:32:54.072Z"
   },
   {
    "duration": 796,
    "start_time": "2024-11-19T16:32:54.078Z"
   },
   {
    "duration": 129,
    "start_time": "2024-11-19T16:32:54.876Z"
   },
   {
    "duration": 6,
    "start_time": "2024-11-19T16:32:55.008Z"
   },
   {
    "duration": 8,
    "start_time": "2024-11-19T16:32:55.015Z"
   },
   {
    "duration": 20,
    "start_time": "2024-11-19T16:32:55.025Z"
   },
   {
    "duration": 13,
    "start_time": "2024-11-19T16:32:55.047Z"
   },
   {
    "duration": 7,
    "start_time": "2024-11-19T16:32:55.065Z"
   },
   {
    "duration": 5,
    "start_time": "2024-11-19T16:32:55.074Z"
   },
   {
    "duration": 2,
    "start_time": "2024-11-19T16:32:55.080Z"
   },
   {
    "duration": 8,
    "start_time": "2024-11-19T16:32:55.084Z"
   },
   {
    "duration": 67,
    "start_time": "2024-11-19T16:32:55.094Z"
   },
   {
    "duration": 258,
    "start_time": "2024-11-19T16:32:55.162Z"
   },
   {
    "duration": 0,
    "start_time": "2024-11-19T16:32:55.421Z"
   },
   {
    "duration": 0,
    "start_time": "2024-11-19T16:32:55.423Z"
   },
   {
    "duration": 8,
    "start_time": "2024-11-19T16:51:29.983Z"
   },
   {
    "duration": 18,
    "start_time": "2024-11-19T16:51:44.993Z"
   },
   {
    "duration": 15,
    "start_time": "2024-11-19T17:14:43.050Z"
   },
   {
    "duration": 19,
    "start_time": "2024-11-19T17:14:52.379Z"
   },
   {
    "duration": 17,
    "start_time": "2024-11-19T17:23:23.278Z"
   },
   {
    "duration": 379,
    "start_time": "2024-11-19T17:25:08.148Z"
   },
   {
    "duration": 40,
    "start_time": "2024-11-19T17:26:02.231Z"
   },
   {
    "duration": 8,
    "start_time": "2024-11-19T17:26:21.439Z"
   },
   {
    "duration": 38,
    "start_time": "2024-11-19T17:26:27.861Z"
   },
   {
    "duration": 9,
    "start_time": "2024-11-19T17:26:51.693Z"
   },
   {
    "duration": 12,
    "start_time": "2024-11-19T17:27:02.242Z"
   },
   {
    "duration": 12,
    "start_time": "2024-11-19T17:27:05.331Z"
   },
   {
    "duration": 8,
    "start_time": "2024-11-19T17:27:14.409Z"
   },
   {
    "duration": 14,
    "start_time": "2024-11-19T17:28:14.206Z"
   },
   {
    "duration": 5,
    "start_time": "2024-11-19T17:50:57.336Z"
   },
   {
    "duration": 6,
    "start_time": "2024-11-19T17:51:14.146Z"
   },
   {
    "duration": 7,
    "start_time": "2024-11-19T18:00:52.380Z"
   },
   {
    "duration": 8,
    "start_time": "2024-11-19T18:00:57.471Z"
   },
   {
    "duration": 7,
    "start_time": "2024-11-19T18:01:29.131Z"
   },
   {
    "duration": 9,
    "start_time": "2024-11-19T18:01:50.873Z"
   },
   {
    "duration": 19,
    "start_time": "2024-11-19T18:54:42.076Z"
   },
   {
    "duration": 13,
    "start_time": "2024-11-19T18:54:48.499Z"
   },
   {
    "duration": 1534,
    "start_time": "2024-11-19T19:22:25.536Z"
   },
   {
    "duration": 1448,
    "start_time": "2024-11-19T19:24:22.601Z"
   },
   {
    "duration": 162,
    "start_time": "2024-11-20T14:52:51.243Z"
   },
   {
    "duration": 309,
    "start_time": "2024-11-20T14:53:03.269Z"
   },
   {
    "duration": 991,
    "start_time": "2024-11-20T14:53:03.581Z"
   },
   {
    "duration": 11,
    "start_time": "2024-11-20T14:53:04.575Z"
   },
   {
    "duration": 10,
    "start_time": "2024-11-20T14:53:04.589Z"
   },
   {
    "duration": 9,
    "start_time": "2024-11-20T14:53:04.602Z"
   },
   {
    "duration": 8,
    "start_time": "2024-11-20T14:53:04.613Z"
   },
   {
    "duration": 6,
    "start_time": "2024-11-20T14:53:04.623Z"
   },
   {
    "duration": 65,
    "start_time": "2024-11-20T14:53:04.630Z"
   },
   {
    "duration": 109,
    "start_time": "2024-11-20T14:53:04.697Z"
   },
   {
    "duration": 18,
    "start_time": "2024-11-20T14:53:04.808Z"
   },
   {
    "duration": 117,
    "start_time": "2024-11-20T14:53:04.827Z"
   },
   {
    "duration": 91,
    "start_time": "2024-11-20T14:53:04.945Z"
   },
   {
    "duration": 36,
    "start_time": "2024-11-20T14:53:05.038Z"
   },
   {
    "duration": 12,
    "start_time": "2024-11-20T14:53:05.079Z"
   },
   {
    "duration": 4,
    "start_time": "2024-11-20T14:53:05.092Z"
   },
   {
    "duration": 18,
    "start_time": "2024-11-20T14:53:05.098Z"
   },
   {
    "duration": 8,
    "start_time": "2024-11-20T14:53:05.118Z"
   },
   {
    "duration": 4,
    "start_time": "2024-11-20T14:53:05.127Z"
   },
   {
    "duration": 39,
    "start_time": "2024-11-20T14:53:05.133Z"
   },
   {
    "duration": 6,
    "start_time": "2024-11-20T14:53:05.174Z"
   },
   {
    "duration": 4,
    "start_time": "2024-11-20T14:53:05.182Z"
   },
   {
    "duration": 777,
    "start_time": "2024-11-20T14:53:05.188Z"
   },
   {
    "duration": 132,
    "start_time": "2024-11-20T14:53:05.970Z"
   },
   {
    "duration": 5,
    "start_time": "2024-11-20T14:53:06.104Z"
   },
   {
    "duration": 6,
    "start_time": "2024-11-20T14:53:06.111Z"
   },
   {
    "duration": 4,
    "start_time": "2024-11-20T14:53:06.120Z"
   },
   {
    "duration": 5,
    "start_time": "2024-11-20T14:53:06.126Z"
   },
   {
    "duration": 37,
    "start_time": "2024-11-20T14:53:06.133Z"
   },
   {
    "duration": 16,
    "start_time": "2024-11-20T14:53:06.171Z"
   },
   {
    "duration": 13,
    "start_time": "2024-11-20T14:53:06.189Z"
   },
   {
    "duration": 8,
    "start_time": "2024-11-20T14:53:06.204Z"
   },
   {
    "duration": 31,
    "start_time": "2024-11-20T14:53:06.213Z"
   },
   {
    "duration": 6,
    "start_time": "2024-11-20T14:53:06.270Z"
   },
   {
    "duration": 1530,
    "start_time": "2024-11-20T14:53:06.278Z"
   },
   {
    "duration": 2,
    "start_time": "2024-11-20T14:53:07.810Z"
   },
   {
    "duration": 9,
    "start_time": "2024-11-20T14:53:33.727Z"
   },
   {
    "duration": 8,
    "start_time": "2024-11-20T14:53:59.335Z"
   },
   {
    "duration": 7,
    "start_time": "2024-11-20T14:54:17.861Z"
   },
   {
    "duration": 1362,
    "start_time": "2024-11-20T15:09:13.034Z"
   },
   {
    "duration": 1473,
    "start_time": "2024-11-20T15:10:26.450Z"
   },
   {
    "duration": 1495,
    "start_time": "2024-11-20T15:18:48.652Z"
   },
   {
    "duration": 279,
    "start_time": "2024-11-20T15:19:05.856Z"
   },
   {
    "duration": 917,
    "start_time": "2024-11-20T15:19:06.138Z"
   },
   {
    "duration": 20,
    "start_time": "2024-11-20T15:19:07.057Z"
   },
   {
    "duration": 10,
    "start_time": "2024-11-20T15:19:07.079Z"
   },
   {
    "duration": 7,
    "start_time": "2024-11-20T15:19:07.092Z"
   },
   {
    "duration": 7,
    "start_time": "2024-11-20T15:19:07.101Z"
   },
   {
    "duration": 7,
    "start_time": "2024-11-20T15:19:07.110Z"
   },
   {
    "duration": 69,
    "start_time": "2024-11-20T15:19:07.118Z"
   },
   {
    "duration": 114,
    "start_time": "2024-11-20T15:19:07.189Z"
   },
   {
    "duration": 11,
    "start_time": "2024-11-20T15:19:07.304Z"
   },
   {
    "duration": 121,
    "start_time": "2024-11-20T15:19:07.317Z"
   },
   {
    "duration": 97,
    "start_time": "2024-11-20T15:19:07.440Z"
   },
   {
    "duration": 38,
    "start_time": "2024-11-20T15:19:07.539Z"
   },
   {
    "duration": 12,
    "start_time": "2024-11-20T15:19:07.580Z"
   },
   {
    "duration": 4,
    "start_time": "2024-11-20T15:19:07.594Z"
   },
   {
    "duration": 19,
    "start_time": "2024-11-20T15:19:07.600Z"
   },
   {
    "duration": 8,
    "start_time": "2024-11-20T15:19:07.620Z"
   },
   {
    "duration": 4,
    "start_time": "2024-11-20T15:19:07.630Z"
   },
   {
    "duration": 35,
    "start_time": "2024-11-20T15:19:07.636Z"
   },
   {
    "duration": 8,
    "start_time": "2024-11-20T15:19:07.673Z"
   },
   {
    "duration": 4,
    "start_time": "2024-11-20T15:19:07.682Z"
   },
   {
    "duration": 785,
    "start_time": "2024-11-20T15:19:07.687Z"
   },
   {
    "duration": 145,
    "start_time": "2024-11-20T15:19:08.474Z"
   },
   {
    "duration": 6,
    "start_time": "2024-11-20T15:19:08.621Z"
   },
   {
    "duration": 7,
    "start_time": "2024-11-20T15:19:08.628Z"
   },
   {
    "duration": 4,
    "start_time": "2024-11-20T15:19:08.637Z"
   },
   {
    "duration": 5,
    "start_time": "2024-11-20T15:19:08.643Z"
   },
   {
    "duration": 7,
    "start_time": "2024-11-20T15:19:08.671Z"
   },
   {
    "duration": 16,
    "start_time": "2024-11-20T15:19:08.680Z"
   },
   {
    "duration": 13,
    "start_time": "2024-11-20T15:19:08.698Z"
   },
   {
    "duration": 8,
    "start_time": "2024-11-20T15:19:08.713Z"
   },
   {
    "duration": 64,
    "start_time": "2024-11-20T15:19:08.723Z"
   },
   {
    "duration": 6,
    "start_time": "2024-11-20T15:19:08.789Z"
   },
   {
    "duration": 1430,
    "start_time": "2024-11-20T15:19:08.797Z"
   },
   {
    "duration": 2,
    "start_time": "2024-11-20T15:19:10.230Z"
   },
   {
    "duration": 7,
    "start_time": "2024-11-20T15:41:06.782Z"
   },
   {
    "duration": 8,
    "start_time": "2024-11-20T15:41:18.622Z"
   },
   {
    "duration": 160,
    "start_time": "2024-11-20T16:04:07.307Z"
   },
   {
    "duration": 12,
    "start_time": "2024-11-20T16:04:19.867Z"
   },
   {
    "duration": 13,
    "start_time": "2024-11-20T16:04:25.143Z"
   },
   {
    "duration": 13,
    "start_time": "2024-11-20T16:04:38.998Z"
   },
   {
    "duration": 320,
    "start_time": "2024-11-20T16:04:48.562Z"
   },
   {
    "duration": 1023,
    "start_time": "2024-11-20T16:04:48.884Z"
   },
   {
    "duration": 11,
    "start_time": "2024-11-20T16:04:49.909Z"
   },
   {
    "duration": 20,
    "start_time": "2024-11-20T16:04:49.922Z"
   },
   {
    "duration": 7,
    "start_time": "2024-11-20T16:04:49.946Z"
   },
   {
    "duration": 9,
    "start_time": "2024-11-20T16:04:49.955Z"
   },
   {
    "duration": 8,
    "start_time": "2024-11-20T16:04:49.965Z"
   },
   {
    "duration": 33,
    "start_time": "2024-11-20T16:04:49.974Z"
   },
   {
    "duration": 125,
    "start_time": "2024-11-20T16:04:50.009Z"
   },
   {
    "duration": 16,
    "start_time": "2024-11-20T16:04:50.136Z"
   },
   {
    "duration": 117,
    "start_time": "2024-11-20T16:04:50.153Z"
   },
   {
    "duration": 96,
    "start_time": "2024-11-20T16:04:50.272Z"
   },
   {
    "duration": 29,
    "start_time": "2024-11-20T16:04:50.370Z"
   },
   {
    "duration": 12,
    "start_time": "2024-11-20T16:04:50.404Z"
   },
   {
    "duration": 25,
    "start_time": "2024-11-20T16:04:50.418Z"
   },
   {
    "duration": 21,
    "start_time": "2024-11-20T16:04:50.444Z"
   },
   {
    "duration": 9,
    "start_time": "2024-11-20T16:04:50.466Z"
   },
   {
    "duration": 10,
    "start_time": "2024-11-20T16:04:50.476Z"
   },
   {
    "duration": 6,
    "start_time": "2024-11-20T16:04:50.488Z"
   },
   {
    "duration": 14,
    "start_time": "2024-11-20T16:04:50.499Z"
   },
   {
    "duration": 5,
    "start_time": "2024-11-20T16:04:50.516Z"
   },
   {
    "duration": 820,
    "start_time": "2024-11-20T16:04:50.543Z"
   },
   {
    "duration": 151,
    "start_time": "2024-11-20T16:04:51.364Z"
   },
   {
    "duration": 5,
    "start_time": "2024-11-20T16:04:51.517Z"
   },
   {
    "duration": 20,
    "start_time": "2024-11-20T16:04:51.524Z"
   },
   {
    "duration": 5,
    "start_time": "2024-11-20T16:04:51.545Z"
   },
   {
    "duration": 6,
    "start_time": "2024-11-20T16:04:51.552Z"
   },
   {
    "duration": 8,
    "start_time": "2024-11-20T16:04:51.560Z"
   },
   {
    "duration": 20,
    "start_time": "2024-11-20T16:04:51.570Z"
   },
   {
    "duration": 15,
    "start_time": "2024-11-20T16:04:51.592Z"
   },
   {
    "duration": 8,
    "start_time": "2024-11-20T16:04:51.642Z"
   },
   {
    "duration": 31,
    "start_time": "2024-11-20T16:04:51.652Z"
   },
   {
    "duration": 6,
    "start_time": "2024-11-20T16:04:51.686Z"
   },
   {
    "duration": 273,
    "start_time": "2024-11-20T16:04:51.694Z"
   },
   {
    "duration": 0,
    "start_time": "2024-11-20T16:04:51.968Z"
   },
   {
    "duration": 17,
    "start_time": "2024-11-20T16:05:39.310Z"
   },
   {
    "duration": 1382,
    "start_time": "2024-11-20T16:05:48.688Z"
   },
   {
    "duration": 12,
    "start_time": "2024-11-20T16:23:15.248Z"
   },
   {
    "duration": 10,
    "start_time": "2024-11-20T18:59:36.172Z"
   },
   {
    "duration": 4,
    "start_time": "2024-11-20T18:59:40.647Z"
   },
   {
    "duration": 158,
    "start_time": "2024-11-20T18:59:51.629Z"
   },
   {
    "duration": 338,
    "start_time": "2024-11-20T19:00:00.144Z"
   },
   {
    "duration": 1020,
    "start_time": "2024-11-20T19:00:00.484Z"
   },
   {
    "duration": 12,
    "start_time": "2024-11-20T19:00:01.506Z"
   },
   {
    "duration": 10,
    "start_time": "2024-11-20T19:00:01.521Z"
   },
   {
    "duration": 10,
    "start_time": "2024-11-20T19:00:01.533Z"
   },
   {
    "duration": 8,
    "start_time": "2024-11-20T19:00:01.545Z"
   },
   {
    "duration": 8,
    "start_time": "2024-11-20T19:00:01.555Z"
   },
   {
    "duration": 73,
    "start_time": "2024-11-20T19:00:01.564Z"
   },
   {
    "duration": 120,
    "start_time": "2024-11-20T19:00:01.639Z"
   },
   {
    "duration": 14,
    "start_time": "2024-11-20T19:00:01.763Z"
   },
   {
    "duration": 155,
    "start_time": "2024-11-20T19:00:01.780Z"
   },
   {
    "duration": 104,
    "start_time": "2024-11-20T19:00:01.937Z"
   },
   {
    "duration": 39,
    "start_time": "2024-11-20T19:00:02.043Z"
   },
   {
    "duration": 31,
    "start_time": "2024-11-20T19:00:02.083Z"
   },
   {
    "duration": 4,
    "start_time": "2024-11-20T19:00:02.116Z"
   },
   {
    "duration": 22,
    "start_time": "2024-11-20T19:00:02.122Z"
   },
   {
    "duration": 9,
    "start_time": "2024-11-20T19:00:02.148Z"
   },
   {
    "duration": 5,
    "start_time": "2024-11-20T19:00:02.159Z"
   },
   {
    "duration": 4,
    "start_time": "2024-11-20T19:00:02.167Z"
   },
   {
    "duration": 45,
    "start_time": "2024-11-20T19:00:02.173Z"
   },
   {
    "duration": 4,
    "start_time": "2024-11-20T19:00:02.220Z"
   },
   {
    "duration": 964,
    "start_time": "2024-11-20T19:00:02.226Z"
   },
   {
    "duration": 176,
    "start_time": "2024-11-20T19:00:03.193Z"
   },
   {
    "duration": 5,
    "start_time": "2024-11-20T19:00:03.372Z"
   },
   {
    "duration": 8,
    "start_time": "2024-11-20T19:00:03.378Z"
   },
   {
    "duration": 21,
    "start_time": "2024-11-20T19:00:03.388Z"
   },
   {
    "duration": 6,
    "start_time": "2024-11-20T19:00:03.411Z"
   },
   {
    "duration": 9,
    "start_time": "2024-11-20T19:00:03.421Z"
   },
   {
    "duration": 20,
    "start_time": "2024-11-20T19:00:03.431Z"
   },
   {
    "duration": 14,
    "start_time": "2024-11-20T19:00:03.454Z"
   },
   {
    "duration": 43,
    "start_time": "2024-11-20T19:00:03.469Z"
   },
   {
    "duration": 33,
    "start_time": "2024-11-20T19:00:03.514Z"
   },
   {
    "duration": 7,
    "start_time": "2024-11-20T19:00:03.548Z"
   },
   {
    "duration": 1773,
    "start_time": "2024-11-20T19:00:03.557Z"
   },
   {
    "duration": 2,
    "start_time": "2024-11-20T19:00:05.333Z"
   },
   {
    "duration": 243,
    "start_time": "2024-11-20T19:05:25.244Z"
   },
   {
    "duration": 18,
    "start_time": "2024-11-20T19:06:11.325Z"
   },
   {
    "duration": 1556,
    "start_time": "2024-11-20T19:06:37.914Z"
   },
   {
    "duration": 758,
    "start_time": "2024-11-20T19:08:42.206Z"
   },
   {
    "duration": 4,
    "start_time": "2024-11-20T19:10:39.932Z"
   },
   {
    "duration": 31,
    "start_time": "2024-11-20T19:10:47.563Z"
   },
   {
    "duration": 27,
    "start_time": "2024-11-20T19:11:31.766Z"
   },
   {
    "duration": 24,
    "start_time": "2024-11-20T19:12:16.581Z"
   },
   {
    "duration": 28,
    "start_time": "2024-11-20T19:12:24.778Z"
   },
   {
    "duration": 22,
    "start_time": "2024-11-20T19:12:29.215Z"
   },
   {
    "duration": 18,
    "start_time": "2024-11-20T19:26:41.500Z"
   },
   {
    "duration": 17,
    "start_time": "2024-11-20T19:27:09.083Z"
   },
   {
    "duration": 1469,
    "start_time": "2024-11-20T19:33:18.593Z"
   },
   {
    "duration": 5,
    "start_time": "2024-11-20T19:36:33.328Z"
   },
   {
    "duration": 6,
    "start_time": "2024-11-20T19:37:24.225Z"
   },
   {
    "duration": 6,
    "start_time": "2024-11-20T19:37:28.492Z"
   },
   {
    "duration": 7,
    "start_time": "2024-11-20T19:37:42.858Z"
   },
   {
    "duration": 5,
    "start_time": "2024-11-20T19:38:03.018Z"
   },
   {
    "duration": 14,
    "start_time": "2024-11-20T19:47:25.075Z"
   },
   {
    "duration": 4169,
    "start_time": "2024-11-20T19:47:33.842Z"
   },
   {
    "duration": 1521,
    "start_time": "2024-11-20T19:47:45.058Z"
   },
   {
    "duration": 13,
    "start_time": "2024-11-20T19:48:31.308Z"
   },
   {
    "duration": 13,
    "start_time": "2024-11-20T19:49:54.576Z"
   },
   {
    "duration": 2,
    "start_time": "2024-11-20T19:52:02.225Z"
   },
   {
    "duration": 2,
    "start_time": "2024-11-20T19:52:03.571Z"
   },
   {
    "duration": 6,
    "start_time": "2024-11-20T19:53:34.530Z"
   },
   {
    "duration": 159,
    "start_time": "2024-11-20T22:38:13.638Z"
   },
   {
    "duration": 309,
    "start_time": "2024-11-20T22:38:23.918Z"
   },
   {
    "duration": 1036,
    "start_time": "2024-11-20T22:38:24.229Z"
   },
   {
    "duration": 11,
    "start_time": "2024-11-20T22:38:25.267Z"
   },
   {
    "duration": 10,
    "start_time": "2024-11-20T22:38:25.281Z"
   },
   {
    "duration": 7,
    "start_time": "2024-11-20T22:38:25.292Z"
   },
   {
    "duration": 7,
    "start_time": "2024-11-20T22:38:25.300Z"
   },
   {
    "duration": 7,
    "start_time": "2024-11-20T22:38:25.309Z"
   },
   {
    "duration": 62,
    "start_time": "2024-11-20T22:38:25.317Z"
   },
   {
    "duration": 110,
    "start_time": "2024-11-20T22:38:25.380Z"
   },
   {
    "duration": 10,
    "start_time": "2024-11-20T22:38:25.494Z"
   },
   {
    "duration": 126,
    "start_time": "2024-11-20T22:38:25.506Z"
   },
   {
    "duration": 97,
    "start_time": "2024-11-20T22:38:25.634Z"
   },
   {
    "duration": 37,
    "start_time": "2024-11-20T22:38:25.733Z"
   },
   {
    "duration": 14,
    "start_time": "2024-11-20T22:38:25.772Z"
   },
   {
    "duration": 16,
    "start_time": "2024-11-20T22:38:25.789Z"
   },
   {
    "duration": 33,
    "start_time": "2024-11-20T22:38:25.807Z"
   },
   {
    "duration": 9,
    "start_time": "2024-11-20T22:38:25.841Z"
   },
   {
    "duration": 5,
    "start_time": "2024-11-20T22:38:25.852Z"
   },
   {
    "duration": 4,
    "start_time": "2024-11-20T22:38:25.859Z"
   },
   {
    "duration": 7,
    "start_time": "2024-11-20T22:38:25.869Z"
   },
   {
    "duration": 4,
    "start_time": "2024-11-20T22:38:25.878Z"
   },
   {
    "duration": 801,
    "start_time": "2024-11-20T22:38:25.884Z"
   },
   {
    "duration": 146,
    "start_time": "2024-11-20T22:38:26.687Z"
   },
   {
    "duration": 6,
    "start_time": "2024-11-20T22:38:26.835Z"
   },
   {
    "duration": 7,
    "start_time": "2024-11-20T22:38:26.842Z"
   },
   {
    "duration": 22,
    "start_time": "2024-11-20T22:38:26.851Z"
   },
   {
    "duration": 7,
    "start_time": "2024-11-20T22:38:26.875Z"
   },
   {
    "duration": 7,
    "start_time": "2024-11-20T22:38:26.887Z"
   },
   {
    "duration": 16,
    "start_time": "2024-11-20T22:38:26.896Z"
   },
   {
    "duration": 14,
    "start_time": "2024-11-20T22:38:26.914Z"
   },
   {
    "duration": 44,
    "start_time": "2024-11-20T22:38:26.930Z"
   },
   {
    "duration": 31,
    "start_time": "2024-11-20T22:38:26.977Z"
   },
   {
    "duration": 7,
    "start_time": "2024-11-20T22:38:27.010Z"
   },
   {
    "duration": 1515,
    "start_time": "2024-11-20T22:38:27.018Z"
   },
   {
    "duration": 36,
    "start_time": "2024-11-20T22:38:28.535Z"
   },
   {
    "duration": 4,
    "start_time": "2024-11-20T22:38:28.572Z"
   },
   {
    "duration": 3,
    "start_time": "2024-11-20T22:38:28.578Z"
   },
   {
    "duration": 2,
    "start_time": "2024-11-20T22:38:28.583Z"
   },
   {
    "duration": 3,
    "start_time": "2024-11-20T22:38:28.586Z"
   },
   {
    "duration": 215,
    "start_time": "2024-11-20T22:38:28.591Z"
   },
   {
    "duration": 0,
    "start_time": "2024-11-20T22:38:28.808Z"
   },
   {
    "duration": 289,
    "start_time": "2024-11-21T14:30:31.102Z"
   },
   {
    "duration": 998,
    "start_time": "2024-11-21T14:30:31.393Z"
   },
   {
    "duration": 11,
    "start_time": "2024-11-21T14:30:32.393Z"
   },
   {
    "duration": 21,
    "start_time": "2024-11-21T14:30:32.405Z"
   },
   {
    "duration": 7,
    "start_time": "2024-11-21T14:30:32.429Z"
   },
   {
    "duration": 8,
    "start_time": "2024-11-21T14:30:32.438Z"
   },
   {
    "duration": 7,
    "start_time": "2024-11-21T14:30:32.447Z"
   },
   {
    "duration": 31,
    "start_time": "2024-11-21T14:30:32.456Z"
   },
   {
    "duration": 127,
    "start_time": "2024-11-21T14:30:32.489Z"
   },
   {
    "duration": 11,
    "start_time": "2024-11-21T14:30:32.624Z"
   },
   {
    "duration": 114,
    "start_time": "2024-11-21T14:30:32.636Z"
   },
   {
    "duration": 94,
    "start_time": "2024-11-21T14:30:32.752Z"
   },
   {
    "duration": 28,
    "start_time": "2024-11-21T14:30:32.848Z"
   },
   {
    "duration": 12,
    "start_time": "2024-11-21T14:30:32.880Z"
   },
   {
    "duration": 4,
    "start_time": "2024-11-21T14:30:32.893Z"
   },
   {
    "duration": 40,
    "start_time": "2024-11-21T14:30:32.899Z"
   },
   {
    "duration": 9,
    "start_time": "2024-11-21T14:30:32.941Z"
   },
   {
    "duration": 5,
    "start_time": "2024-11-21T14:30:32.951Z"
   },
   {
    "duration": 4,
    "start_time": "2024-11-21T14:30:32.957Z"
   },
   {
    "duration": 6,
    "start_time": "2024-11-21T14:30:32.963Z"
   },
   {
    "duration": 3,
    "start_time": "2024-11-21T14:30:32.971Z"
   },
   {
    "duration": 790,
    "start_time": "2024-11-21T14:30:32.977Z"
   },
   {
    "duration": 143,
    "start_time": "2024-11-21T14:30:33.769Z"
   },
   {
    "duration": 11,
    "start_time": "2024-11-21T14:30:33.914Z"
   },
   {
    "duration": 7,
    "start_time": "2024-11-21T14:30:33.926Z"
   },
   {
    "duration": 4,
    "start_time": "2024-11-21T14:30:33.934Z"
   },
   {
    "duration": 6,
    "start_time": "2024-11-21T14:30:33.939Z"
   },
   {
    "duration": 7,
    "start_time": "2024-11-21T14:30:33.947Z"
   },
   {
    "duration": 16,
    "start_time": "2024-11-21T14:30:33.956Z"
   },
   {
    "duration": 14,
    "start_time": "2024-11-21T14:30:33.974Z"
   },
   {
    "duration": 10,
    "start_time": "2024-11-21T14:30:34.024Z"
   },
   {
    "duration": 30,
    "start_time": "2024-11-21T14:30:34.036Z"
   },
   {
    "duration": 7,
    "start_time": "2024-11-21T14:30:34.068Z"
   },
   {
    "duration": 1448,
    "start_time": "2024-11-21T14:30:34.077Z"
   },
   {
    "duration": 27,
    "start_time": "2024-11-21T14:30:35.527Z"
   },
   {
    "duration": 4,
    "start_time": "2024-11-21T14:30:35.555Z"
   },
   {
    "duration": 4,
    "start_time": "2024-11-21T14:30:35.560Z"
   },
   {
    "duration": 2,
    "start_time": "2024-11-21T14:30:35.565Z"
   },
   {
    "duration": 3,
    "start_time": "2024-11-21T14:30:35.569Z"
   },
   {
    "duration": 209,
    "start_time": "2024-11-21T14:30:35.573Z"
   },
   {
    "duration": 0,
    "start_time": "2024-11-21T14:30:35.784Z"
   },
   {
    "duration": 49,
    "start_time": "2024-11-21T14:33:50.214Z"
   },
   {
    "duration": 13,
    "start_time": "2024-11-21T14:34:15.226Z"
   },
   {
    "duration": 4,
    "start_time": "2024-11-21T14:38:12.568Z"
   },
   {
    "duration": 236,
    "start_time": "2024-11-21T14:38:21.323Z"
   },
   {
    "duration": 18,
    "start_time": "2024-11-21T14:39:11.840Z"
   },
   {
    "duration": 13,
    "start_time": "2024-11-21T14:45:11.617Z"
   },
   {
    "duration": 280,
    "start_time": "2024-11-21T14:45:19.391Z"
   },
   {
    "duration": 869,
    "start_time": "2024-11-21T14:45:19.673Z"
   },
   {
    "duration": 11,
    "start_time": "2024-11-21T14:45:20.544Z"
   },
   {
    "duration": 9,
    "start_time": "2024-11-21T14:45:20.557Z"
   },
   {
    "duration": 9,
    "start_time": "2024-11-21T14:45:20.567Z"
   },
   {
    "duration": 8,
    "start_time": "2024-11-21T14:45:20.577Z"
   },
   {
    "duration": 6,
    "start_time": "2024-11-21T14:45:20.587Z"
   },
   {
    "duration": 58,
    "start_time": "2024-11-21T14:45:20.595Z"
   },
   {
    "duration": 115,
    "start_time": "2024-11-21T14:45:20.655Z"
   },
   {
    "duration": 10,
    "start_time": "2024-11-21T14:45:20.774Z"
   },
   {
    "duration": 111,
    "start_time": "2024-11-21T14:45:20.785Z"
   },
   {
    "duration": 94,
    "start_time": "2024-11-21T14:45:20.898Z"
   },
   {
    "duration": 38,
    "start_time": "2024-11-21T14:45:20.993Z"
   },
   {
    "duration": 12,
    "start_time": "2024-11-21T14:45:21.033Z"
   },
   {
    "duration": 4,
    "start_time": "2024-11-21T14:45:21.046Z"
   },
   {
    "duration": 20,
    "start_time": "2024-11-21T14:45:21.052Z"
   },
   {
    "duration": 8,
    "start_time": "2024-11-21T14:45:21.074Z"
   },
   {
    "duration": 4,
    "start_time": "2024-11-21T14:45:21.084Z"
   },
   {
    "duration": 36,
    "start_time": "2024-11-21T14:45:21.090Z"
   },
   {
    "duration": 6,
    "start_time": "2024-11-21T14:45:21.128Z"
   },
   {
    "duration": 4,
    "start_time": "2024-11-21T14:45:21.136Z"
   },
   {
    "duration": 791,
    "start_time": "2024-11-21T14:45:21.142Z"
   },
   {
    "duration": 133,
    "start_time": "2024-11-21T14:45:21.935Z"
   },
   {
    "duration": 6,
    "start_time": "2024-11-21T14:45:22.069Z"
   },
   {
    "duration": 7,
    "start_time": "2024-11-21T14:45:22.077Z"
   },
   {
    "duration": 5,
    "start_time": "2024-11-21T14:45:22.086Z"
   },
   {
    "duration": 6,
    "start_time": "2024-11-21T14:45:22.092Z"
   },
   {
    "duration": 7,
    "start_time": "2024-11-21T14:45:22.126Z"
   },
   {
    "duration": 16,
    "start_time": "2024-11-21T14:45:22.135Z"
   },
   {
    "duration": 14,
    "start_time": "2024-11-21T14:45:22.152Z"
   },
   {
    "duration": 10,
    "start_time": "2024-11-21T14:45:22.167Z"
   },
   {
    "duration": 59,
    "start_time": "2024-11-21T14:45:22.179Z"
   },
   {
    "duration": 8,
    "start_time": "2024-11-21T14:45:22.241Z"
   },
   {
    "duration": 191,
    "start_time": "2024-11-21T14:45:22.250Z"
   },
   {
    "duration": 0,
    "start_time": "2024-11-21T14:45:22.443Z"
   },
   {
    "duration": 0,
    "start_time": "2024-11-21T14:45:22.444Z"
   },
   {
    "duration": 0,
    "start_time": "2024-11-21T14:45:22.446Z"
   },
   {
    "duration": 0,
    "start_time": "2024-11-21T14:45:22.447Z"
   },
   {
    "duration": 0,
    "start_time": "2024-11-21T14:45:22.448Z"
   },
   {
    "duration": 0,
    "start_time": "2024-11-21T14:45:22.449Z"
   },
   {
    "duration": 0,
    "start_time": "2024-11-21T14:45:22.451Z"
   },
   {
    "duration": 1490,
    "start_time": "2024-11-21T14:45:34.321Z"
   },
   {
    "duration": 71,
    "start_time": "2024-11-21T14:47:29.402Z"
   },
   {
    "duration": 63,
    "start_time": "2024-11-21T14:47:39.407Z"
   },
   {
    "duration": 141,
    "start_time": "2024-11-21T14:54:56.991Z"
   },
   {
    "duration": 88,
    "start_time": "2024-11-21T14:55:06.531Z"
   },
   {
    "duration": 63,
    "start_time": "2024-11-21T15:02:00.481Z"
   },
   {
    "duration": 83,
    "start_time": "2024-11-21T15:02:03.961Z"
   },
   {
    "duration": 4142,
    "start_time": "2024-11-21T15:23:55.547Z"
   },
   {
    "duration": 85,
    "start_time": "2024-11-21T15:24:04.484Z"
   },
   {
    "duration": 321,
    "start_time": "2024-11-21T15:26:46.076Z"
   },
   {
    "duration": 12,
    "start_time": "2024-11-21T15:27:20.471Z"
   },
   {
    "duration": 4,
    "start_time": "2024-11-21T15:28:07.476Z"
   },
   {
    "duration": 7,
    "start_time": "2024-11-21T18:23:29.062Z"
   },
   {
    "duration": 4,
    "start_time": "2024-11-21T18:39:55.016Z"
   },
   {
    "duration": 12,
    "start_time": "2024-11-21T18:57:41.579Z"
   },
   {
    "duration": 11,
    "start_time": "2024-11-21T18:57:47.997Z"
   },
   {
    "duration": 4,
    "start_time": "2024-11-21T18:58:02.824Z"
   },
   {
    "duration": 2,
    "start_time": "2024-11-21T19:04:38.516Z"
   },
   {
    "duration": 553,
    "start_time": "2024-11-21T19:06:46.176Z"
   },
   {
    "duration": 74,
    "start_time": "2024-11-21T19:07:52.586Z"
   },
   {
    "duration": 18,
    "start_time": "2024-11-21T19:45:02.839Z"
   },
   {
    "duration": 587,
    "start_time": "2024-11-21T19:45:26.942Z"
   },
   {
    "duration": 647,
    "start_time": "2024-11-21T19:45:35.177Z"
   },
   {
    "duration": 755,
    "start_time": "2024-11-21T19:48:50.794Z"
   },
   {
    "duration": 634,
    "start_time": "2024-11-21T19:49:09.228Z"
   },
   {
    "duration": 653,
    "start_time": "2024-11-21T19:49:42.076Z"
   },
   {
    "duration": 658,
    "start_time": "2024-11-21T19:49:58.812Z"
   },
   {
    "duration": 16,
    "start_time": "2024-11-21T19:57:17.455Z"
   },
   {
    "duration": 656,
    "start_time": "2024-11-21T19:57:28.527Z"
   },
   {
    "duration": 1106,
    "start_time": "2024-11-21T20:01:26.009Z"
   },
   {
    "duration": 1031,
    "start_time": "2024-11-21T20:02:14.403Z"
   },
   {
    "duration": 898,
    "start_time": "2024-11-21T20:02:28.911Z"
   },
   {
    "duration": 877,
    "start_time": "2024-11-21T20:02:39.503Z"
   },
   {
    "duration": 883,
    "start_time": "2024-11-21T20:02:49.877Z"
   },
   {
    "duration": 696,
    "start_time": "2024-11-21T20:03:10.209Z"
   },
   {
    "duration": 704,
    "start_time": "2024-11-21T20:03:23.000Z"
   },
   {
    "duration": 700,
    "start_time": "2024-11-21T20:04:18.058Z"
   },
   {
    "duration": 691,
    "start_time": "2024-11-21T20:04:36.779Z"
   },
   {
    "duration": 702,
    "start_time": "2024-11-21T20:08:47.832Z"
   },
   {
    "duration": 6,
    "start_time": "2024-11-21T20:13:10.415Z"
   },
   {
    "duration": 730,
    "start_time": "2024-11-21T20:13:17.253Z"
   },
   {
    "duration": 4,
    "start_time": "2024-11-21T20:14:32.681Z"
   },
   {
    "duration": 702,
    "start_time": "2024-11-21T20:14:44.702Z"
   },
   {
    "duration": 692,
    "start_time": "2024-11-21T20:17:32.732Z"
   },
   {
    "duration": 12,
    "start_time": "2024-11-21T20:18:33.894Z"
   },
   {
    "duration": 12,
    "start_time": "2024-11-21T20:18:41.917Z"
   },
   {
    "duration": 208,
    "start_time": "2024-11-21T20:18:48.491Z"
   },
   {
    "duration": 1430,
    "start_time": "2024-11-21T20:19:09.709Z"
   },
   {
    "duration": 1055,
    "start_time": "2024-11-21T20:19:43.865Z"
   },
   {
    "duration": 935,
    "start_time": "2024-11-21T20:21:10.802Z"
   },
   {
    "duration": 307,
    "start_time": "2024-11-21T20:25:13.568Z"
   },
   {
    "duration": 884,
    "start_time": "2024-11-21T20:25:13.877Z"
   },
   {
    "duration": 12,
    "start_time": "2024-11-21T20:25:14.763Z"
   },
   {
    "duration": 8,
    "start_time": "2024-11-21T20:25:14.777Z"
   },
   {
    "duration": 7,
    "start_time": "2024-11-21T20:25:14.788Z"
   },
   {
    "duration": 29,
    "start_time": "2024-11-21T20:25:14.796Z"
   },
   {
    "duration": 6,
    "start_time": "2024-11-21T20:25:14.826Z"
   },
   {
    "duration": 32,
    "start_time": "2024-11-21T20:25:14.834Z"
   },
   {
    "duration": 120,
    "start_time": "2024-11-21T20:25:14.868Z"
   },
   {
    "duration": 11,
    "start_time": "2024-11-21T20:25:14.991Z"
   },
   {
    "duration": 114,
    "start_time": "2024-11-21T20:25:15.003Z"
   },
   {
    "duration": 87,
    "start_time": "2024-11-21T20:25:15.119Z"
   },
   {
    "duration": 41,
    "start_time": "2024-11-21T20:25:15.208Z"
   },
   {
    "duration": 12,
    "start_time": "2024-11-21T20:25:15.252Z"
   },
   {
    "duration": 4,
    "start_time": "2024-11-21T20:25:15.267Z"
   },
   {
    "duration": 20,
    "start_time": "2024-11-21T20:25:15.272Z"
   },
   {
    "duration": 30,
    "start_time": "2024-11-21T20:25:15.294Z"
   },
   {
    "duration": 4,
    "start_time": "2024-11-21T20:25:15.326Z"
   },
   {
    "duration": 4,
    "start_time": "2024-11-21T20:25:15.332Z"
   },
   {
    "duration": 7,
    "start_time": "2024-11-21T20:25:15.337Z"
   },
   {
    "duration": 3,
    "start_time": "2024-11-21T20:25:15.346Z"
   },
   {
    "duration": 809,
    "start_time": "2024-11-21T20:25:15.351Z"
   },
   {
    "duration": 134,
    "start_time": "2024-11-21T20:25:16.161Z"
   },
   {
    "duration": 5,
    "start_time": "2024-11-21T20:25:16.297Z"
   },
   {
    "duration": 24,
    "start_time": "2024-11-21T20:25:16.304Z"
   },
   {
    "duration": 4,
    "start_time": "2024-11-21T20:25:16.330Z"
   },
   {
    "duration": 5,
    "start_time": "2024-11-21T20:25:16.336Z"
   },
   {
    "duration": 8,
    "start_time": "2024-11-21T20:25:16.343Z"
   },
   {
    "duration": 16,
    "start_time": "2024-11-21T20:25:16.354Z"
   },
   {
    "duration": 13,
    "start_time": "2024-11-21T20:25:16.372Z"
   },
   {
    "duration": 39,
    "start_time": "2024-11-21T20:25:16.387Z"
   },
   {
    "duration": 30,
    "start_time": "2024-11-21T20:25:16.428Z"
   },
   {
    "duration": 7,
    "start_time": "2024-11-21T20:25:16.460Z"
   },
   {
    "duration": 83,
    "start_time": "2024-11-21T20:25:16.468Z"
   },
   {
    "duration": 3,
    "start_time": "2024-11-21T20:25:16.553Z"
   },
   {
    "duration": 0,
    "start_time": "2024-11-21T20:25:16.558Z"
   },
   {
    "duration": 0,
    "start_time": "2024-11-21T20:25:16.559Z"
   },
   {
    "duration": 0,
    "start_time": "2024-11-21T20:25:16.560Z"
   },
   {
    "duration": 0,
    "start_time": "2024-11-21T20:25:16.561Z"
   },
   {
    "duration": 0,
    "start_time": "2024-11-21T20:25:16.562Z"
   },
   {
    "duration": 0,
    "start_time": "2024-11-21T20:25:16.563Z"
   },
   {
    "duration": 0,
    "start_time": "2024-11-21T20:25:16.564Z"
   },
   {
    "duration": 0,
    "start_time": "2024-11-21T20:25:16.565Z"
   },
   {
    "duration": 0,
    "start_time": "2024-11-21T20:25:16.566Z"
   },
   {
    "duration": 0,
    "start_time": "2024-11-21T20:25:16.567Z"
   },
   {
    "duration": 0,
    "start_time": "2024-11-21T20:25:16.568Z"
   },
   {
    "duration": 327,
    "start_time": "2024-11-22T15:23:32.122Z"
   },
   {
    "duration": 1036,
    "start_time": "2024-11-22T15:23:32.451Z"
   },
   {
    "duration": 14,
    "start_time": "2024-11-22T15:23:33.489Z"
   },
   {
    "duration": 10,
    "start_time": "2024-11-22T15:23:33.505Z"
   },
   {
    "duration": 9,
    "start_time": "2024-11-22T15:23:33.516Z"
   },
   {
    "duration": 8,
    "start_time": "2024-11-22T15:23:33.527Z"
   },
   {
    "duration": 8,
    "start_time": "2024-11-22T15:23:33.537Z"
   },
   {
    "duration": 73,
    "start_time": "2024-11-22T15:23:33.547Z"
   },
   {
    "duration": 119,
    "start_time": "2024-11-22T15:23:33.621Z"
   },
   {
    "duration": 13,
    "start_time": "2024-11-22T15:23:33.744Z"
   },
   {
    "duration": 130,
    "start_time": "2024-11-22T15:23:33.758Z"
   },
   {
    "duration": 107,
    "start_time": "2024-11-22T15:23:33.890Z"
   },
   {
    "duration": 32,
    "start_time": "2024-11-22T15:23:34.000Z"
   },
   {
    "duration": 13,
    "start_time": "2024-11-22T15:23:34.034Z"
   },
   {
    "duration": 4,
    "start_time": "2024-11-22T15:23:34.049Z"
   },
   {
    "duration": 46,
    "start_time": "2024-11-22T15:23:34.055Z"
   },
   {
    "duration": 8,
    "start_time": "2024-11-22T15:23:34.103Z"
   },
   {
    "duration": 5,
    "start_time": "2024-11-22T15:23:34.113Z"
   },
   {
    "duration": 5,
    "start_time": "2024-11-22T15:23:34.120Z"
   },
   {
    "duration": 7,
    "start_time": "2024-11-22T15:23:34.126Z"
   },
   {
    "duration": 5,
    "start_time": "2024-11-22T15:23:34.135Z"
   },
   {
    "duration": 845,
    "start_time": "2024-11-22T15:23:34.142Z"
   },
   {
    "duration": 175,
    "start_time": "2024-11-22T15:23:34.989Z"
   },
   {
    "duration": 6,
    "start_time": "2024-11-22T15:23:35.166Z"
   },
   {
    "duration": 10,
    "start_time": "2024-11-22T15:23:35.187Z"
   },
   {
    "duration": 5,
    "start_time": "2024-11-22T15:23:35.199Z"
   },
   {
    "duration": 8,
    "start_time": "2024-11-22T15:23:35.206Z"
   },
   {
    "duration": 8,
    "start_time": "2024-11-22T15:23:35.218Z"
   },
   {
    "duration": 17,
    "start_time": "2024-11-22T15:23:35.228Z"
   },
   {
    "duration": 50,
    "start_time": "2024-11-22T15:23:35.247Z"
   },
   {
    "duration": 11,
    "start_time": "2024-11-22T15:23:35.298Z"
   },
   {
    "duration": 31,
    "start_time": "2024-11-22T15:23:35.310Z"
   },
   {
    "duration": 7,
    "start_time": "2024-11-22T15:23:35.344Z"
   },
   {
    "duration": 86,
    "start_time": "2024-11-22T15:23:35.353Z"
   },
   {
    "duration": 4,
    "start_time": "2024-11-22T15:23:35.441Z"
   },
   {
    "duration": 0,
    "start_time": "2024-11-22T15:23:35.448Z"
   },
   {
    "duration": 0,
    "start_time": "2024-11-22T15:23:35.449Z"
   },
   {
    "duration": 0,
    "start_time": "2024-11-22T15:23:35.450Z"
   },
   {
    "duration": 0,
    "start_time": "2024-11-22T15:23:35.452Z"
   },
   {
    "duration": 0,
    "start_time": "2024-11-22T15:23:35.454Z"
   },
   {
    "duration": 0,
    "start_time": "2024-11-22T15:23:35.455Z"
   },
   {
    "duration": 0,
    "start_time": "2024-11-22T15:23:35.457Z"
   },
   {
    "duration": 0,
    "start_time": "2024-11-22T15:23:35.458Z"
   },
   {
    "duration": 0,
    "start_time": "2024-11-22T15:23:35.487Z"
   },
   {
    "duration": 0,
    "start_time": "2024-11-22T15:23:35.489Z"
   },
   {
    "duration": 0,
    "start_time": "2024-11-22T15:23:35.490Z"
   },
   {
    "duration": 0,
    "start_time": "2024-11-22T15:23:35.491Z"
   },
   {
    "duration": 213,
    "start_time": "2024-11-22T15:39:39.792Z"
   },
   {
    "duration": 4029,
    "start_time": "2024-11-22T15:41:13.974Z"
   },
   {
    "duration": 184,
    "start_time": "2024-11-22T15:49:11.041Z"
   },
   {
    "duration": 175,
    "start_time": "2024-11-22T15:50:11.733Z"
   },
   {
    "duration": 111,
    "start_time": "2024-11-22T15:54:41.340Z"
   },
   {
    "duration": 124,
    "start_time": "2024-11-22T15:54:49.824Z"
   },
   {
    "duration": 114,
    "start_time": "2024-11-22T15:57:58.599Z"
   },
   {
    "duration": 178,
    "start_time": "2024-11-22T15:58:05.689Z"
   },
   {
    "duration": 172,
    "start_time": "2024-11-22T16:01:29.921Z"
   },
   {
    "duration": 174,
    "start_time": "2024-11-22T16:09:13.342Z"
   },
   {
    "duration": 12,
    "start_time": "2024-11-22T16:09:35.012Z"
   },
   {
    "duration": 431,
    "start_time": "2024-11-22T16:09:47.746Z"
   },
   {
    "duration": 1062,
    "start_time": "2024-11-22T16:09:48.179Z"
   },
   {
    "duration": 12,
    "start_time": "2024-11-22T16:09:49.243Z"
   },
   {
    "duration": 10,
    "start_time": "2024-11-22T16:09:49.257Z"
   },
   {
    "duration": 22,
    "start_time": "2024-11-22T16:09:49.269Z"
   },
   {
    "duration": 8,
    "start_time": "2024-11-22T16:09:49.292Z"
   },
   {
    "duration": 7,
    "start_time": "2024-11-22T16:09:49.302Z"
   },
   {
    "duration": 31,
    "start_time": "2024-11-22T16:09:49.311Z"
   },
   {
    "duration": 125,
    "start_time": "2024-11-22T16:09:49.344Z"
   },
   {
    "duration": 20,
    "start_time": "2024-11-22T16:09:49.473Z"
   },
   {
    "duration": 115,
    "start_time": "2024-11-22T16:09:49.495Z"
   },
   {
    "duration": 93,
    "start_time": "2024-11-22T16:09:49.612Z"
   },
   {
    "duration": 31,
    "start_time": "2024-11-22T16:09:49.707Z"
   },
   {
    "duration": 13,
    "start_time": "2024-11-22T16:09:49.740Z"
   },
   {
    "duration": 4,
    "start_time": "2024-11-22T16:09:49.755Z"
   },
   {
    "duration": 46,
    "start_time": "2024-11-22T16:09:49.760Z"
   },
   {
    "duration": 8,
    "start_time": "2024-11-22T16:09:49.808Z"
   },
   {
    "duration": 5,
    "start_time": "2024-11-22T16:09:49.818Z"
   },
   {
    "duration": 4,
    "start_time": "2024-11-22T16:09:49.825Z"
   },
   {
    "duration": 8,
    "start_time": "2024-11-22T16:09:49.830Z"
   },
   {
    "duration": 3,
    "start_time": "2024-11-22T16:09:49.840Z"
   },
   {
    "duration": 834,
    "start_time": "2024-11-22T16:09:49.844Z"
   },
   {
    "duration": 167,
    "start_time": "2024-11-22T16:09:50.679Z"
   },
   {
    "duration": 6,
    "start_time": "2024-11-22T16:09:50.848Z"
   },
   {
    "duration": 7,
    "start_time": "2024-11-22T16:09:50.856Z"
   },
   {
    "duration": 21,
    "start_time": "2024-11-22T16:09:50.865Z"
   },
   {
    "duration": 6,
    "start_time": "2024-11-22T16:09:50.888Z"
   },
   {
    "duration": 9,
    "start_time": "2024-11-22T16:09:50.899Z"
   },
   {
    "duration": 17,
    "start_time": "2024-11-22T16:09:50.909Z"
   },
   {
    "duration": 14,
    "start_time": "2024-11-22T16:09:50.928Z"
   },
   {
    "duration": 44,
    "start_time": "2024-11-22T16:09:50.944Z"
   },
   {
    "duration": 33,
    "start_time": "2024-11-22T16:09:50.989Z"
   },
   {
    "duration": 8,
    "start_time": "2024-11-22T16:09:51.024Z"
   },
   {
    "duration": 83,
    "start_time": "2024-11-22T16:09:51.034Z"
   },
   {
    "duration": 4,
    "start_time": "2024-11-22T16:09:51.119Z"
   },
   {
    "duration": 0,
    "start_time": "2024-11-22T16:09:51.125Z"
   },
   {
    "duration": 0,
    "start_time": "2024-11-22T16:09:51.127Z"
   },
   {
    "duration": 0,
    "start_time": "2024-11-22T16:09:51.128Z"
   },
   {
    "duration": 0,
    "start_time": "2024-11-22T16:09:51.129Z"
   },
   {
    "duration": 0,
    "start_time": "2024-11-22T16:09:51.130Z"
   },
   {
    "duration": 0,
    "start_time": "2024-11-22T16:09:51.131Z"
   },
   {
    "duration": 0,
    "start_time": "2024-11-22T16:09:51.132Z"
   },
   {
    "duration": 0,
    "start_time": "2024-11-22T16:09:51.133Z"
   },
   {
    "duration": 0,
    "start_time": "2024-11-22T16:09:51.134Z"
   },
   {
    "duration": 0,
    "start_time": "2024-11-22T16:09:51.135Z"
   },
   {
    "duration": 0,
    "start_time": "2024-11-22T16:09:51.136Z"
   },
   {
    "duration": 0,
    "start_time": "2024-11-22T16:09:51.137Z"
   },
   {
    "duration": 185,
    "start_time": "2024-11-22T16:09:59.887Z"
   },
   {
    "duration": 114,
    "start_time": "2024-11-22T16:10:02.628Z"
   },
   {
    "duration": 99,
    "start_time": "2024-11-22T16:10:05.660Z"
   },
   {
    "duration": 190,
    "start_time": "2024-11-22T16:10:20.241Z"
   },
   {
    "duration": 354,
    "start_time": "2024-11-22T16:11:48.634Z"
   },
   {
    "duration": 1784,
    "start_time": "2024-11-22T16:12:54.925Z"
   },
   {
    "duration": 159,
    "start_time": "2024-11-22T16:21:01.209Z"
   },
   {
    "duration": 471,
    "start_time": "2024-11-22T16:21:13.201Z"
   },
   {
    "duration": 1057,
    "start_time": "2024-11-22T16:21:13.674Z"
   },
   {
    "duration": 12,
    "start_time": "2024-11-22T16:21:14.732Z"
   },
   {
    "duration": 10,
    "start_time": "2024-11-22T16:21:14.747Z"
   },
   {
    "duration": 8,
    "start_time": "2024-11-22T16:21:14.760Z"
   },
   {
    "duration": 20,
    "start_time": "2024-11-22T16:21:14.769Z"
   },
   {
    "duration": 6,
    "start_time": "2024-11-22T16:21:14.791Z"
   },
   {
    "duration": 29,
    "start_time": "2024-11-22T16:21:14.798Z"
   },
   {
    "duration": 128,
    "start_time": "2024-11-22T16:21:14.829Z"
   },
   {
    "duration": 11,
    "start_time": "2024-11-22T16:21:14.961Z"
   },
   {
    "duration": 124,
    "start_time": "2024-11-22T16:21:14.973Z"
   },
   {
    "duration": 97,
    "start_time": "2024-11-22T16:21:15.098Z"
   },
   {
    "duration": 30,
    "start_time": "2024-11-22T16:21:15.197Z"
   },
   {
    "duration": 16,
    "start_time": "2024-11-22T16:21:15.229Z"
   },
   {
    "duration": 4,
    "start_time": "2024-11-22T16:21:15.247Z"
   },
   {
    "duration": 45,
    "start_time": "2024-11-22T16:21:15.253Z"
   },
   {
    "duration": 8,
    "start_time": "2024-11-22T16:21:15.300Z"
   },
   {
    "duration": 5,
    "start_time": "2024-11-22T16:21:15.309Z"
   },
   {
    "duration": 4,
    "start_time": "2024-11-22T16:21:15.315Z"
   },
   {
    "duration": 6,
    "start_time": "2024-11-22T16:21:15.320Z"
   },
   {
    "duration": 4,
    "start_time": "2024-11-22T16:21:15.328Z"
   },
   {
    "duration": 797,
    "start_time": "2024-11-22T16:21:15.333Z"
   },
   {
    "duration": 119,
    "start_time": "2024-11-22T16:21:16.131Z"
   },
   {
    "duration": 6,
    "start_time": "2024-11-22T16:21:16.251Z"
   },
   {
    "duration": 8,
    "start_time": "2024-11-22T16:21:16.259Z"
   },
   {
    "duration": 22,
    "start_time": "2024-11-22T16:21:16.269Z"
   },
   {
    "duration": 7,
    "start_time": "2024-11-22T16:21:16.292Z"
   },
   {
    "duration": 8,
    "start_time": "2024-11-22T16:21:16.304Z"
   },
   {
    "duration": 16,
    "start_time": "2024-11-22T16:21:16.314Z"
   },
   {
    "duration": 13,
    "start_time": "2024-11-22T16:21:16.332Z"
   },
   {
    "duration": 47,
    "start_time": "2024-11-22T16:21:16.347Z"
   },
   {
    "duration": 30,
    "start_time": "2024-11-22T16:21:16.395Z"
   },
   {
    "duration": 6,
    "start_time": "2024-11-22T16:21:16.427Z"
   },
   {
    "duration": 83,
    "start_time": "2024-11-22T16:21:16.435Z"
   },
   {
    "duration": 4,
    "start_time": "2024-11-22T16:21:16.519Z"
   },
   {
    "duration": 0,
    "start_time": "2024-11-22T16:21:16.525Z"
   },
   {
    "duration": 0,
    "start_time": "2024-11-22T16:21:16.526Z"
   },
   {
    "duration": 0,
    "start_time": "2024-11-22T16:21:16.528Z"
   },
   {
    "duration": 0,
    "start_time": "2024-11-22T16:21:16.529Z"
   },
   {
    "duration": 0,
    "start_time": "2024-11-22T16:21:16.530Z"
   },
   {
    "duration": 0,
    "start_time": "2024-11-22T16:21:16.531Z"
   },
   {
    "duration": 0,
    "start_time": "2024-11-22T16:21:16.532Z"
   },
   {
    "duration": 0,
    "start_time": "2024-11-22T16:21:16.533Z"
   },
   {
    "duration": 0,
    "start_time": "2024-11-22T16:21:16.534Z"
   },
   {
    "duration": 0,
    "start_time": "2024-11-22T16:21:16.535Z"
   },
   {
    "duration": 0,
    "start_time": "2024-11-22T16:21:16.536Z"
   },
   {
    "duration": 0,
    "start_time": "2024-11-22T16:21:16.537Z"
   },
   {
    "duration": 13,
    "start_time": "2024-11-22T16:21:20.128Z"
   },
   {
    "duration": 79,
    "start_time": "2024-11-22T16:22:36.252Z"
   },
   {
    "duration": 12,
    "start_time": "2024-11-22T16:25:54.966Z"
   },
   {
    "duration": 103,
    "start_time": "2024-11-22T16:27:12.524Z"
   },
   {
    "duration": 15,
    "start_time": "2024-11-22T16:29:56.769Z"
   },
   {
    "duration": 4,
    "start_time": "2024-11-22T16:30:55.756Z"
   },
   {
    "duration": 211,
    "start_time": "2024-11-22T16:31:01.153Z"
   },
   {
    "duration": 219,
    "start_time": "2024-11-22T16:31:08.884Z"
   },
   {
    "duration": 318,
    "start_time": "2024-11-22T16:32:03.547Z"
   },
   {
    "duration": 209,
    "start_time": "2024-11-22T16:33:23.430Z"
   },
   {
    "duration": 264,
    "start_time": "2024-11-22T16:34:43.884Z"
   },
   {
    "duration": 12,
    "start_time": "2024-11-22T16:35:46.973Z"
   },
   {
    "duration": 321,
    "start_time": "2024-11-22T16:35:53.704Z"
   },
   {
    "duration": 13,
    "start_time": "2024-11-22T16:36:29.468Z"
   },
   {
    "duration": 205,
    "start_time": "2024-11-22T16:36:56.004Z"
   },
   {
    "duration": 725,
    "start_time": "2024-11-22T16:40:58.101Z"
   },
   {
    "duration": 195,
    "start_time": "2024-11-22T16:59:11.173Z"
   },
   {
    "duration": 107,
    "start_time": "2024-11-22T16:59:14.928Z"
   },
   {
    "duration": 7,
    "start_time": "2024-11-22T17:21:41.781Z"
   },
   {
    "duration": 7,
    "start_time": "2024-11-22T17:22:05.611Z"
   },
   {
    "duration": 7,
    "start_time": "2024-11-22T17:22:38.319Z"
   },
   {
    "duration": 5,
    "start_time": "2024-11-22T17:24:23.279Z"
   },
   {
    "duration": 209,
    "start_time": "2024-11-22T17:24:55.859Z"
   },
   {
    "duration": 172,
    "start_time": "2024-11-22T17:25:15.024Z"
   },
   {
    "duration": 184,
    "start_time": "2024-11-22T17:25:25.968Z"
   },
   {
    "duration": 219,
    "start_time": "2024-11-22T17:25:36.790Z"
   },
   {
    "duration": 721,
    "start_time": "2024-11-22T17:26:20.211Z"
   },
   {
    "duration": 7,
    "start_time": "2024-11-23T20:10:19.325Z"
   },
   {
    "duration": 154,
    "start_time": "2024-11-23T20:10:25.985Z"
   },
   {
    "duration": 2160,
    "start_time": "2024-11-23T20:10:32.386Z"
   },
   {
    "duration": 1012,
    "start_time": "2024-11-23T20:10:34.548Z"
   },
   {
    "duration": 15,
    "start_time": "2024-11-23T20:10:35.561Z"
   },
   {
    "duration": 9,
    "start_time": "2024-11-23T20:10:35.579Z"
   },
   {
    "duration": 8,
    "start_time": "2024-11-23T20:10:35.589Z"
   },
   {
    "duration": 7,
    "start_time": "2024-11-23T20:10:35.599Z"
   },
   {
    "duration": 7,
    "start_time": "2024-11-23T20:10:35.607Z"
   },
   {
    "duration": 62,
    "start_time": "2024-11-23T20:10:35.615Z"
   },
   {
    "duration": 109,
    "start_time": "2024-11-23T20:10:35.678Z"
   },
   {
    "duration": 11,
    "start_time": "2024-11-23T20:10:35.791Z"
   },
   {
    "duration": 118,
    "start_time": "2024-11-23T20:10:35.804Z"
   },
   {
    "duration": 97,
    "start_time": "2024-11-23T20:10:35.926Z"
   },
   {
    "duration": 28,
    "start_time": "2024-11-23T20:10:36.025Z"
   },
   {
    "duration": 25,
    "start_time": "2024-11-23T20:10:36.055Z"
   },
   {
    "duration": 4,
    "start_time": "2024-11-23T20:10:36.081Z"
   },
   {
    "duration": 20,
    "start_time": "2024-11-23T20:10:36.087Z"
   },
   {
    "duration": 6,
    "start_time": "2024-11-23T20:10:36.108Z"
   },
   {
    "duration": 4,
    "start_time": "2024-11-23T20:10:36.116Z"
   },
   {
    "duration": 4,
    "start_time": "2024-11-23T20:10:36.121Z"
   },
   {
    "duration": 47,
    "start_time": "2024-11-23T20:10:36.126Z"
   },
   {
    "duration": 3,
    "start_time": "2024-11-23T20:10:36.175Z"
   },
   {
    "duration": 769,
    "start_time": "2024-11-23T20:10:36.180Z"
   },
   {
    "duration": 124,
    "start_time": "2024-11-23T20:10:36.951Z"
   },
   {
    "duration": 6,
    "start_time": "2024-11-23T20:10:37.078Z"
   },
   {
    "duration": 6,
    "start_time": "2024-11-23T20:10:37.086Z"
   },
   {
    "duration": 8,
    "start_time": "2024-11-23T20:10:37.094Z"
   },
   {
    "duration": 6,
    "start_time": "2024-11-23T20:10:37.104Z"
   },
   {
    "duration": 8,
    "start_time": "2024-11-23T20:10:37.114Z"
   },
   {
    "duration": 50,
    "start_time": "2024-11-23T20:10:37.123Z"
   },
   {
    "duration": 18,
    "start_time": "2024-11-23T20:10:37.175Z"
   },
   {
    "duration": 11,
    "start_time": "2024-11-23T20:10:37.195Z"
   },
   {
    "duration": 29,
    "start_time": "2024-11-23T20:10:37.208Z"
   },
   {
    "duration": 31,
    "start_time": "2024-11-23T20:10:37.239Z"
   },
   {
    "duration": 62,
    "start_time": "2024-11-23T20:10:37.272Z"
   },
   {
    "duration": 3,
    "start_time": "2024-11-23T20:10:37.336Z"
   },
   {
    "duration": 0,
    "start_time": "2024-11-23T20:10:37.341Z"
   },
   {
    "duration": 0,
    "start_time": "2024-11-23T20:10:37.342Z"
   },
   {
    "duration": 0,
    "start_time": "2024-11-23T20:10:37.343Z"
   },
   {
    "duration": 0,
    "start_time": "2024-11-23T20:10:37.344Z"
   },
   {
    "duration": 0,
    "start_time": "2024-11-23T20:10:37.370Z"
   },
   {
    "duration": 0,
    "start_time": "2024-11-23T20:10:37.371Z"
   },
   {
    "duration": 0,
    "start_time": "2024-11-23T20:10:37.372Z"
   },
   {
    "duration": 0,
    "start_time": "2024-11-23T20:10:37.374Z"
   },
   {
    "duration": 0,
    "start_time": "2024-11-23T20:10:37.375Z"
   },
   {
    "duration": 0,
    "start_time": "2024-11-23T20:10:37.377Z"
   },
   {
    "duration": 0,
    "start_time": "2024-11-23T20:10:37.378Z"
   },
   {
    "duration": 0,
    "start_time": "2024-11-23T20:10:37.379Z"
   },
   {
    "duration": 593,
    "start_time": "2024-11-23T20:10:39.701Z"
   },
   {
    "duration": 37,
    "start_time": "2024-11-23T20:11:21.208Z"
   },
   {
    "duration": 37,
    "start_time": "2024-11-23T20:12:17.630Z"
   },
   {
    "duration": 792,
    "start_time": "2024-11-23T20:12:50.747Z"
   },
   {
    "duration": 860,
    "start_time": "2024-11-23T20:13:08.293Z"
   },
   {
    "duration": 863,
    "start_time": "2024-11-23T20:13:15.762Z"
   },
   {
    "duration": 425,
    "start_time": "2024-11-23T20:15:30.722Z"
   },
   {
    "duration": 897,
    "start_time": "2024-11-23T20:15:31.150Z"
   },
   {
    "duration": 12,
    "start_time": "2024-11-23T20:15:32.049Z"
   },
   {
    "duration": 10,
    "start_time": "2024-11-23T20:15:32.069Z"
   },
   {
    "duration": 7,
    "start_time": "2024-11-23T20:15:32.080Z"
   },
   {
    "duration": 7,
    "start_time": "2024-11-23T20:15:32.089Z"
   },
   {
    "duration": 6,
    "start_time": "2024-11-23T20:15:32.098Z"
   },
   {
    "duration": 27,
    "start_time": "2024-11-23T20:15:32.105Z"
   },
   {
    "duration": 137,
    "start_time": "2024-11-23T20:15:32.134Z"
   },
   {
    "duration": 10,
    "start_time": "2024-11-23T20:15:32.274Z"
   },
   {
    "duration": 117,
    "start_time": "2024-11-23T20:15:32.286Z"
   },
   {
    "duration": 91,
    "start_time": "2024-11-23T20:15:32.405Z"
   },
   {
    "duration": 27,
    "start_time": "2024-11-23T20:15:32.498Z"
   },
   {
    "duration": 12,
    "start_time": "2024-11-23T20:15:32.527Z"
   },
   {
    "duration": 4,
    "start_time": "2024-11-23T20:15:32.541Z"
   },
   {
    "duration": 20,
    "start_time": "2024-11-23T20:15:32.570Z"
   },
   {
    "duration": 5,
    "start_time": "2024-11-23T20:15:32.592Z"
   },
   {
    "duration": 4,
    "start_time": "2024-11-23T20:15:32.599Z"
   },
   {
    "duration": 4,
    "start_time": "2024-11-23T20:15:32.604Z"
   },
   {
    "duration": 6,
    "start_time": "2024-11-23T20:15:32.610Z"
   },
   {
    "duration": 5,
    "start_time": "2024-11-23T20:15:32.618Z"
   },
   {
    "duration": 782,
    "start_time": "2024-11-23T20:15:32.625Z"
   },
   {
    "duration": 115,
    "start_time": "2024-11-23T20:15:33.409Z"
   },
   {
    "duration": 5,
    "start_time": "2024-11-23T20:15:33.526Z"
   },
   {
    "duration": 9,
    "start_time": "2024-11-23T20:15:33.532Z"
   },
   {
    "duration": 4,
    "start_time": "2024-11-23T20:15:33.542Z"
   },
   {
    "duration": 25,
    "start_time": "2024-11-23T20:15:33.548Z"
   },
   {
    "duration": 7,
    "start_time": "2024-11-23T20:15:33.577Z"
   },
   {
    "duration": 16,
    "start_time": "2024-11-23T20:15:33.586Z"
   },
   {
    "duration": 13,
    "start_time": "2024-11-23T20:15:33.604Z"
   },
   {
    "duration": 11,
    "start_time": "2024-11-23T20:15:33.619Z"
   },
   {
    "duration": 61,
    "start_time": "2024-11-23T20:15:33.631Z"
   },
   {
    "duration": 6,
    "start_time": "2024-11-23T20:15:33.694Z"
   },
   {
    "duration": 78,
    "start_time": "2024-11-23T20:15:33.702Z"
   },
   {
    "duration": 2,
    "start_time": "2024-11-23T20:15:33.782Z"
   },
   {
    "duration": 92,
    "start_time": "2024-11-23T20:15:33.786Z"
   },
   {
    "duration": 25,
    "start_time": "2024-11-23T20:15:33.880Z"
   },
   {
    "duration": 4,
    "start_time": "2024-11-23T20:15:33.906Z"
   },
   {
    "duration": 3,
    "start_time": "2024-11-23T20:15:33.912Z"
   },
   {
    "duration": 201,
    "start_time": "2024-11-23T20:15:33.916Z"
   },
   {
    "duration": 119,
    "start_time": "2024-11-23T20:15:34.119Z"
   },
   {
    "duration": 201,
    "start_time": "2024-11-23T20:15:34.240Z"
   },
   {
    "duration": 214,
    "start_time": "2024-11-23T20:15:34.443Z"
   },
   {
    "duration": 2,
    "start_time": "2024-11-23T20:15:34.659Z"
   },
   {
    "duration": 3,
    "start_time": "2024-11-23T20:15:34.670Z"
   },
   {
    "duration": 165,
    "start_time": "2024-11-23T20:26:36.851Z"
   },
   {
    "duration": 464,
    "start_time": "2024-11-23T20:27:03.383Z"
   },
   {
    "duration": 1067,
    "start_time": "2024-11-23T20:27:03.849Z"
   },
   {
    "duration": 11,
    "start_time": "2024-11-23T20:27:04.918Z"
   },
   {
    "duration": 9,
    "start_time": "2024-11-23T20:27:04.933Z"
   },
   {
    "duration": 26,
    "start_time": "2024-11-23T20:27:04.944Z"
   },
   {
    "duration": 7,
    "start_time": "2024-11-23T20:27:04.972Z"
   },
   {
    "duration": 6,
    "start_time": "2024-11-23T20:27:04.980Z"
   },
   {
    "duration": 27,
    "start_time": "2024-11-23T20:27:04.988Z"
   },
   {
    "duration": 126,
    "start_time": "2024-11-23T20:27:05.016Z"
   },
   {
    "duration": 11,
    "start_time": "2024-11-23T20:27:05.146Z"
   },
   {
    "duration": 117,
    "start_time": "2024-11-23T20:27:05.158Z"
   },
   {
    "duration": 95,
    "start_time": "2024-11-23T20:27:05.278Z"
   },
   {
    "duration": 30,
    "start_time": "2024-11-23T20:27:05.374Z"
   },
   {
    "duration": 12,
    "start_time": "2024-11-23T20:27:05.406Z"
   },
   {
    "duration": 5,
    "start_time": "2024-11-23T20:27:05.420Z"
   },
   {
    "duration": 20,
    "start_time": "2024-11-23T20:27:05.426Z"
   },
   {
    "duration": 25,
    "start_time": "2024-11-23T20:27:05.448Z"
   },
   {
    "duration": 5,
    "start_time": "2024-11-23T20:27:05.475Z"
   },
   {
    "duration": 4,
    "start_time": "2024-11-23T20:27:05.481Z"
   },
   {
    "duration": 6,
    "start_time": "2024-11-23T20:27:05.487Z"
   },
   {
    "duration": 4,
    "start_time": "2024-11-23T20:27:05.495Z"
   },
   {
    "duration": 780,
    "start_time": "2024-11-23T20:27:05.501Z"
   },
   {
    "duration": 123,
    "start_time": "2024-11-23T20:27:06.283Z"
   },
   {
    "duration": 6,
    "start_time": "2024-11-23T20:27:06.407Z"
   },
   {
    "duration": 8,
    "start_time": "2024-11-23T20:27:06.415Z"
   },
   {
    "duration": 4,
    "start_time": "2024-11-23T20:27:06.424Z"
   },
   {
    "duration": 6,
    "start_time": "2024-11-23T20:27:06.430Z"
   },
   {
    "duration": 8,
    "start_time": "2024-11-23T20:27:06.469Z"
   },
   {
    "duration": 16,
    "start_time": "2024-11-23T20:27:06.478Z"
   },
   {
    "duration": 13,
    "start_time": "2024-11-23T20:27:06.496Z"
   },
   {
    "duration": 11,
    "start_time": "2024-11-23T20:27:06.510Z"
   },
   {
    "duration": 68,
    "start_time": "2024-11-23T20:27:06.522Z"
   },
   {
    "duration": 6,
    "start_time": "2024-11-23T20:27:06.592Z"
   },
   {
    "duration": 75,
    "start_time": "2024-11-23T20:27:06.600Z"
   },
   {
    "duration": 4,
    "start_time": "2024-11-23T20:27:06.677Z"
   },
   {
    "duration": 90,
    "start_time": "2024-11-23T20:27:06.682Z"
   },
   {
    "duration": 28,
    "start_time": "2024-11-23T20:27:06.774Z"
   },
   {
    "duration": 4,
    "start_time": "2024-11-23T20:27:06.804Z"
   },
   {
    "duration": 3,
    "start_time": "2024-11-23T20:27:06.810Z"
   },
   {
    "duration": 212,
    "start_time": "2024-11-23T20:27:06.815Z"
   },
   {
    "duration": 120,
    "start_time": "2024-11-23T20:27:07.029Z"
   },
   {
    "duration": 210,
    "start_time": "2024-11-23T20:27:07.150Z"
   },
   {
    "duration": 215,
    "start_time": "2024-11-23T20:27:07.362Z"
   },
   {
    "duration": 2,
    "start_time": "2024-11-23T20:27:07.579Z"
   },
   {
    "duration": 4,
    "start_time": "2024-11-23T20:27:07.583Z"
   },
   {
    "duration": 0,
    "start_time": "2024-11-23T20:27:08.911Z"
   },
   {
    "duration": 0,
    "start_time": "2024-11-23T20:27:08.912Z"
   },
   {
    "duration": 870,
    "start_time": "2024-11-23T20:27:19.866Z"
   },
   {
    "duration": 816,
    "start_time": "2024-11-23T20:32:09.520Z"
   },
   {
    "duration": 46,
    "start_time": "2024-11-23T20:36:07.231Z"
   },
   {
    "duration": 155,
    "start_time": "2024-11-23T20:36:35.562Z"
   },
   {
    "duration": 205,
    "start_time": "2024-11-23T20:37:08.036Z"
   },
   {
    "duration": 270,
    "start_time": "2024-11-23T20:38:12.780Z"
   },
   {
    "duration": 189,
    "start_time": "2024-11-23T20:38:28.054Z"
   },
   {
    "duration": 12,
    "start_time": "2024-11-23T20:39:12.931Z"
   },
   {
    "duration": 7,
    "start_time": "2024-11-23T20:42:38.028Z"
   },
   {
    "duration": 96,
    "start_time": "2024-11-23T20:42:43.807Z"
   },
   {
    "duration": 105,
    "start_time": "2024-11-23T20:44:32.553Z"
   },
   {
    "duration": 105,
    "start_time": "2024-11-23T20:47:31.453Z"
   },
   {
    "duration": 107,
    "start_time": "2024-11-23T20:49:54.408Z"
   },
   {
    "duration": 117,
    "start_time": "2024-11-23T20:51:45.408Z"
   },
   {
    "duration": 141,
    "start_time": "2024-11-23T20:52:12.571Z"
   },
   {
    "duration": 448,
    "start_time": "2024-11-23T20:53:04.271Z"
   },
   {
    "duration": 275,
    "start_time": "2024-11-23T20:53:12.306Z"
   },
   {
    "duration": 125,
    "start_time": "2024-11-23T20:53:21.707Z"
   },
   {
    "duration": 114,
    "start_time": "2024-11-23T20:53:42.366Z"
   },
   {
    "duration": 108,
    "start_time": "2024-11-23T20:55:03.525Z"
   },
   {
    "duration": 116,
    "start_time": "2024-11-23T20:55:22.882Z"
   },
   {
    "duration": 115,
    "start_time": "2024-11-23T20:56:00.363Z"
   },
   {
    "duration": 114,
    "start_time": "2024-11-23T20:56:48.558Z"
   },
   {
    "duration": 282,
    "start_time": "2024-11-23T20:59:25.152Z"
   },
   {
    "duration": 206,
    "start_time": "2024-11-23T20:59:45.052Z"
   },
   {
    "duration": 208,
    "start_time": "2024-11-23T21:00:18.712Z"
   },
   {
    "duration": 205,
    "start_time": "2024-11-23T21:00:35.834Z"
   },
   {
    "duration": 194,
    "start_time": "2024-11-23T21:01:05.718Z"
   },
   {
    "duration": 149,
    "start_time": "2024-11-23T21:01:30.227Z"
   },
   {
    "duration": 206,
    "start_time": "2024-11-23T21:02:20.314Z"
   },
   {
    "duration": 205,
    "start_time": "2024-11-23T21:02:32.796Z"
   },
   {
    "duration": 222,
    "start_time": "2024-11-23T21:02:52.378Z"
   },
   {
    "duration": 312,
    "start_time": "2024-11-23T21:04:21.932Z"
   },
   {
    "duration": 880,
    "start_time": "2024-11-23T21:07:44.902Z"
   },
   {
    "duration": 3,
    "start_time": "2024-11-23T21:08:42.166Z"
   },
   {
    "duration": 870,
    "start_time": "2024-11-23T21:08:53.801Z"
   },
   {
    "duration": 711,
    "start_time": "2024-11-23T21:09:10.379Z"
   },
   {
    "duration": 730,
    "start_time": "2024-11-23T21:09:17.517Z"
   },
   {
    "duration": 276,
    "start_time": "2024-11-23T21:11:54.943Z"
   },
   {
    "duration": 139,
    "start_time": "2024-11-23T21:11:57.740Z"
   },
   {
    "duration": 170,
    "start_time": "2024-11-23T21:12:09.227Z"
   },
   {
    "duration": 715,
    "start_time": "2024-11-23T21:16:14.729Z"
   },
   {
    "duration": 1091,
    "start_time": "2024-11-23T21:16:28.798Z"
   },
   {
    "duration": 645,
    "start_time": "2024-11-23T21:17:02.512Z"
   },
   {
    "duration": 5,
    "start_time": "2024-11-23T21:18:57.304Z"
   },
   {
    "duration": 662,
    "start_time": "2024-11-23T21:19:05.999Z"
   },
   {
    "duration": 651,
    "start_time": "2024-11-23T21:23:11.212Z"
   },
   {
    "duration": 655,
    "start_time": "2024-11-23T21:24:37.741Z"
   },
   {
    "duration": 667,
    "start_time": "2024-11-23T21:26:01.367Z"
   },
   {
    "duration": 16,
    "start_time": "2024-11-23T21:30:58.529Z"
   },
   {
    "duration": 346,
    "start_time": "2024-11-23T21:31:23.261Z"
   },
   {
    "duration": 1854,
    "start_time": "2024-11-23T21:34:12.016Z"
   },
   {
    "duration": 1958,
    "start_time": "2024-11-23T21:34:26.339Z"
   },
   {
    "duration": 159,
    "start_time": "2024-11-24T03:09:21.646Z"
   },
   {
    "duration": 2384,
    "start_time": "2024-11-24T03:09:27.934Z"
   },
   {
    "duration": 1125,
    "start_time": "2024-11-24T03:09:30.320Z"
   },
   {
    "duration": 15,
    "start_time": "2024-11-24T03:09:31.449Z"
   },
   {
    "duration": 12,
    "start_time": "2024-11-24T03:09:31.466Z"
   },
   {
    "duration": 29,
    "start_time": "2024-11-24T03:09:31.480Z"
   },
   {
    "duration": 11,
    "start_time": "2024-11-24T03:09:31.511Z"
   },
   {
    "duration": 8,
    "start_time": "2024-11-24T03:09:31.526Z"
   },
   {
    "duration": 29,
    "start_time": "2024-11-24T03:09:31.536Z"
   },
   {
    "duration": 114,
    "start_time": "2024-11-24T03:09:31.566Z"
   },
   {
    "duration": 15,
    "start_time": "2024-11-24T03:09:31.682Z"
   },
   {
    "duration": 127,
    "start_time": "2024-11-24T03:09:31.699Z"
   },
   {
    "duration": 100,
    "start_time": "2024-11-24T03:09:31.828Z"
   },
   {
    "duration": 31,
    "start_time": "2024-11-24T03:09:31.931Z"
   },
   {
    "duration": 22,
    "start_time": "2024-11-24T03:09:31.965Z"
   },
   {
    "duration": 6,
    "start_time": "2024-11-24T03:09:31.989Z"
   },
   {
    "duration": 23,
    "start_time": "2024-11-24T03:09:31.997Z"
   },
   {
    "duration": 5,
    "start_time": "2024-11-24T03:09:32.023Z"
   },
   {
    "duration": 8,
    "start_time": "2024-11-24T03:09:32.030Z"
   },
   {
    "duration": 4,
    "start_time": "2024-11-24T03:09:32.040Z"
   },
   {
    "duration": 6,
    "start_time": "2024-11-24T03:09:32.045Z"
   },
   {
    "duration": 36,
    "start_time": "2024-11-24T03:09:32.053Z"
   },
   {
    "duration": 817,
    "start_time": "2024-11-24T03:09:32.091Z"
   },
   {
    "duration": 140,
    "start_time": "2024-11-24T03:09:32.910Z"
   },
   {
    "duration": 6,
    "start_time": "2024-11-24T03:09:33.051Z"
   },
   {
    "duration": 8,
    "start_time": "2024-11-24T03:09:33.059Z"
   },
   {
    "duration": 22,
    "start_time": "2024-11-24T03:09:33.069Z"
   },
   {
    "duration": 12,
    "start_time": "2024-11-24T03:09:33.093Z"
   },
   {
    "duration": 19,
    "start_time": "2024-11-24T03:09:33.115Z"
   },
   {
    "duration": 23,
    "start_time": "2024-11-24T03:09:33.136Z"
   },
   {
    "duration": 25,
    "start_time": "2024-11-24T03:09:33.161Z"
   },
   {
    "duration": 16,
    "start_time": "2024-11-24T03:09:33.191Z"
   },
   {
    "duration": 45,
    "start_time": "2024-11-24T03:09:33.219Z"
   },
   {
    "duration": 8,
    "start_time": "2024-11-24T03:09:33.266Z"
   },
   {
    "duration": 69,
    "start_time": "2024-11-24T03:09:33.275Z"
   },
   {
    "duration": 2,
    "start_time": "2024-11-24T03:09:33.346Z"
   },
   {
    "duration": 119,
    "start_time": "2024-11-24T03:09:33.350Z"
   },
   {
    "duration": 40,
    "start_time": "2024-11-24T03:09:33.471Z"
   },
   {
    "duration": 5,
    "start_time": "2024-11-24T03:09:33.513Z"
   },
   {
    "duration": 4,
    "start_time": "2024-11-24T03:09:33.521Z"
   },
   {
    "duration": 238,
    "start_time": "2024-11-24T03:09:33.527Z"
   },
   {
    "duration": 180,
    "start_time": "2024-11-24T03:09:33.769Z"
   },
   {
    "duration": 232,
    "start_time": "2024-11-24T03:09:33.951Z"
   },
   {
    "duration": 265,
    "start_time": "2024-11-24T03:09:34.185Z"
   },
   {
    "duration": 2,
    "start_time": "2024-11-24T03:09:34.452Z"
   },
   {
    "duration": 156,
    "start_time": "2024-11-24T03:09:34.456Z"
   },
   {
    "duration": 849,
    "start_time": "2024-11-24T03:09:34.614Z"
   },
   {
    "duration": 488,
    "start_time": "2024-11-24T03:09:35.465Z"
   },
   {
    "duration": 2334,
    "start_time": "2024-11-24T03:09:35.955Z"
   },
   {
    "duration": 832,
    "start_time": "2024-11-24T03:10:38.933Z"
   },
   {
    "duration": 791,
    "start_time": "2024-11-24T03:10:48.996Z"
   },
   {
    "duration": 1177,
    "start_time": "2024-11-24T03:12:04.536Z"
   },
   {
    "duration": 795,
    "start_time": "2024-11-24T03:17:53.704Z"
   },
   {
    "duration": 456,
    "start_time": "2024-11-24T03:18:44.540Z"
   },
   {
    "duration": 438,
    "start_time": "2024-11-24T03:21:27.651Z"
   },
   {
    "duration": 415,
    "start_time": "2024-11-24T03:21:49.185Z"
   },
   {
    "duration": 457,
    "start_time": "2024-11-24T03:22:06.009Z"
   },
   {
    "duration": 445,
    "start_time": "2024-11-24T03:29:14.844Z"
   },
   {
    "duration": 21,
    "start_time": "2024-11-24T03:47:59.701Z"
   },
   {
    "duration": 128,
    "start_time": "2024-11-24T03:48:06.036Z"
   },
   {
    "duration": 109,
    "start_time": "2024-11-24T03:48:23.786Z"
   },
   {
    "duration": 125,
    "start_time": "2024-11-24T03:51:06.412Z"
   },
   {
    "duration": 132,
    "start_time": "2024-11-24T03:51:33.341Z"
   },
   {
    "duration": 1566,
    "start_time": "2024-11-24T03:53:33.938Z"
   },
   {
    "duration": 21,
    "start_time": "2024-11-24T03:54:34.591Z"
   },
   {
    "duration": 14,
    "start_time": "2024-11-24T03:54:43.752Z"
   },
   {
    "duration": 195,
    "start_time": "2024-11-24T03:54:48.949Z"
   },
   {
    "duration": 103,
    "start_time": "2024-11-24T03:55:05.619Z"
   },
   {
    "duration": 211,
    "start_time": "2024-11-24T03:56:54.919Z"
   },
   {
    "duration": 271,
    "start_time": "2024-11-24T04:03:06.691Z"
   },
   {
    "duration": 545,
    "start_time": "2024-11-24T04:03:11.636Z"
   },
   {
    "duration": 42,
    "start_time": "2024-11-24T04:04:02.428Z"
   },
   {
    "duration": 175,
    "start_time": "2024-11-24T04:46:53.990Z"
   },
   {
    "duration": 51,
    "start_time": "2024-11-24T04:47:35.693Z"
   },
   {
    "duration": 45,
    "start_time": "2024-11-24T04:47:45.837Z"
   },
   {
    "duration": 261,
    "start_time": "2024-11-24T04:49:27.718Z"
   },
   {
    "duration": 111,
    "start_time": "2024-11-24T04:50:03.982Z"
   },
   {
    "duration": 546,
    "start_time": "2024-11-24T04:52:54.080Z"
   },
   {
    "duration": 692,
    "start_time": "2024-11-24T04:53:29.900Z"
   },
   {
    "duration": 553,
    "start_time": "2024-11-24T04:53:51.826Z"
   },
   {
    "duration": 233,
    "start_time": "2024-11-24T04:54:28.971Z"
   },
   {
    "duration": 241,
    "start_time": "2024-11-24T04:54:41.315Z"
   },
   {
    "duration": 108,
    "start_time": "2024-11-24T04:55:30.621Z"
   },
   {
    "duration": 5,
    "start_time": "2024-11-24T04:59:10.257Z"
   },
   {
    "duration": 623,
    "start_time": "2024-11-24T05:09:52.956Z"
   },
   {
    "duration": 9,
    "start_time": "2024-11-24T19:46:46.825Z"
   },
   {
    "duration": 158,
    "start_time": "2024-11-24T19:46:52.011Z"
   },
   {
    "duration": 2193,
    "start_time": "2024-11-24T19:46:59.380Z"
   },
   {
    "duration": 1012,
    "start_time": "2024-11-24T19:47:01.575Z"
   },
   {
    "duration": 11,
    "start_time": "2024-11-24T19:47:02.589Z"
   },
   {
    "duration": 9,
    "start_time": "2024-11-24T19:47:02.602Z"
   },
   {
    "duration": 21,
    "start_time": "2024-11-24T19:47:02.615Z"
   },
   {
    "duration": 7,
    "start_time": "2024-11-24T19:47:02.638Z"
   },
   {
    "duration": 7,
    "start_time": "2024-11-24T19:47:02.647Z"
   },
   {
    "duration": 29,
    "start_time": "2024-11-24T19:47:02.655Z"
   },
   {
    "duration": 127,
    "start_time": "2024-11-24T19:47:02.686Z"
   },
   {
    "duration": 17,
    "start_time": "2024-11-24T19:47:02.815Z"
   },
   {
    "duration": 122,
    "start_time": "2024-11-24T19:47:02.833Z"
   },
   {
    "duration": 93,
    "start_time": "2024-11-24T19:47:02.957Z"
   },
   {
    "duration": 29,
    "start_time": "2024-11-24T19:47:03.052Z"
   },
   {
    "duration": 13,
    "start_time": "2024-11-24T19:47:03.086Z"
   },
   {
    "duration": 4,
    "start_time": "2024-11-24T19:47:03.101Z"
   },
   {
    "duration": 43,
    "start_time": "2024-11-24T19:47:03.107Z"
   },
   {
    "duration": 5,
    "start_time": "2024-11-24T19:47:03.152Z"
   },
   {
    "duration": 4,
    "start_time": "2024-11-24T19:47:03.159Z"
   },
   {
    "duration": 4,
    "start_time": "2024-11-24T19:47:03.164Z"
   },
   {
    "duration": 10,
    "start_time": "2024-11-24T19:47:03.170Z"
   },
   {
    "duration": 3,
    "start_time": "2024-11-24T19:47:03.182Z"
   },
   {
    "duration": 806,
    "start_time": "2024-11-24T19:47:03.187Z"
   },
   {
    "duration": 128,
    "start_time": "2024-11-24T19:47:03.995Z"
   },
   {
    "duration": 11,
    "start_time": "2024-11-24T19:47:04.124Z"
   },
   {
    "duration": 10,
    "start_time": "2024-11-24T19:47:04.137Z"
   },
   {
    "duration": 5,
    "start_time": "2024-11-24T19:47:04.149Z"
   },
   {
    "duration": 7,
    "start_time": "2024-11-24T19:47:04.156Z"
   },
   {
    "duration": 6,
    "start_time": "2024-11-24T19:47:04.165Z"
   },
   {
    "duration": 17,
    "start_time": "2024-11-24T19:47:04.173Z"
   },
   {
    "duration": 46,
    "start_time": "2024-11-24T19:47:04.192Z"
   },
   {
    "duration": 10,
    "start_time": "2024-11-24T19:47:04.240Z"
   },
   {
    "duration": 29,
    "start_time": "2024-11-24T19:47:04.252Z"
   },
   {
    "duration": 7,
    "start_time": "2024-11-24T19:47:04.283Z"
   },
   {
    "duration": 91,
    "start_time": "2024-11-24T19:47:04.292Z"
   },
   {
    "duration": 2,
    "start_time": "2024-11-24T19:47:04.385Z"
   },
   {
    "duration": 93,
    "start_time": "2024-11-24T19:47:04.389Z"
   },
   {
    "duration": 26,
    "start_time": "2024-11-24T19:47:04.484Z"
   },
   {
    "duration": 3,
    "start_time": "2024-11-24T19:47:04.512Z"
   },
   {
    "duration": 4,
    "start_time": "2024-11-24T19:47:04.532Z"
   },
   {
    "duration": 200,
    "start_time": "2024-11-24T19:47:04.537Z"
   },
   {
    "duration": 124,
    "start_time": "2024-11-24T19:47:04.741Z"
   },
   {
    "duration": 244,
    "start_time": "2024-11-24T19:47:04.867Z"
   },
   {
    "duration": 249,
    "start_time": "2024-11-24T19:47:05.113Z"
   },
   {
    "duration": 3,
    "start_time": "2024-11-24T19:47:05.363Z"
   },
   {
    "duration": 125,
    "start_time": "2024-11-24T19:47:05.368Z"
   },
   {
    "duration": 122,
    "start_time": "2024-11-24T19:47:05.495Z"
   },
   {
    "duration": 438,
    "start_time": "2024-11-24T19:47:05.619Z"
   },
   {
    "duration": 185,
    "start_time": "2024-11-24T19:47:06.059Z"
   },
   {
    "duration": 245,
    "start_time": "2024-11-24T19:47:06.246Z"
   },
   {
    "duration": 605,
    "start_time": "2024-11-24T19:47:06.493Z"
   },
   {
    "duration": 51,
    "start_time": "2024-11-24T19:47:07.100Z"
   },
   {
    "duration": 3,
    "start_time": "2024-11-24T19:48:44.455Z"
   },
   {
    "duration": 211,
    "start_time": "2024-11-24T19:48:49.745Z"
   },
   {
    "duration": 5,
    "start_time": "2024-11-24T19:49:41.062Z"
   },
   {
    "duration": 195,
    "start_time": "2024-11-24T19:49:46.616Z"
   },
   {
    "duration": 204,
    "start_time": "2024-11-24T19:50:10.092Z"
   },
   {
    "duration": 2306,
    "start_time": "2024-11-25T23:07:02.543Z"
   },
   {
    "duration": 1135,
    "start_time": "2024-11-25T23:07:04.852Z"
   },
   {
    "duration": 20,
    "start_time": "2024-11-25T23:07:05.989Z"
   },
   {
    "duration": 10,
    "start_time": "2024-11-25T23:07:06.011Z"
   },
   {
    "duration": 9,
    "start_time": "2024-11-25T23:07:06.024Z"
   },
   {
    "duration": 8,
    "start_time": "2024-11-25T23:07:06.035Z"
   },
   {
    "duration": 8,
    "start_time": "2024-11-25T23:07:06.045Z"
   },
   {
    "duration": 65,
    "start_time": "2024-11-25T23:07:06.055Z"
   },
   {
    "duration": 98,
    "start_time": "2024-11-25T23:07:06.122Z"
   },
   {
    "duration": 12,
    "start_time": "2024-11-25T23:07:06.222Z"
   },
   {
    "duration": 126,
    "start_time": "2024-11-25T23:07:06.236Z"
   },
   {
    "duration": 94,
    "start_time": "2024-11-25T23:07:06.364Z"
   },
   {
    "duration": 45,
    "start_time": "2024-11-25T23:07:06.460Z"
   },
   {
    "duration": 18,
    "start_time": "2024-11-25T23:07:06.510Z"
   },
   {
    "duration": 4,
    "start_time": "2024-11-25T23:07:06.534Z"
   },
   {
    "duration": 30,
    "start_time": "2024-11-25T23:07:06.540Z"
   },
   {
    "duration": 7,
    "start_time": "2024-11-25T23:07:06.572Z"
   },
   {
    "duration": 23,
    "start_time": "2024-11-25T23:07:06.581Z"
   },
   {
    "duration": 5,
    "start_time": "2024-11-25T23:07:06.607Z"
   },
   {
    "duration": 9,
    "start_time": "2024-11-25T23:07:06.613Z"
   },
   {
    "duration": 4,
    "start_time": "2024-11-25T23:07:06.625Z"
   },
   {
    "duration": 824,
    "start_time": "2024-11-25T23:07:06.631Z"
   },
   {
    "duration": 149,
    "start_time": "2024-11-25T23:07:07.457Z"
   },
   {
    "duration": 6,
    "start_time": "2024-11-25T23:07:07.608Z"
   },
   {
    "duration": 12,
    "start_time": "2024-11-25T23:07:07.616Z"
   },
   {
    "duration": 5,
    "start_time": "2024-11-25T23:07:07.630Z"
   },
   {
    "duration": 7,
    "start_time": "2024-11-25T23:07:07.637Z"
   },
   {
    "duration": 5,
    "start_time": "2024-11-25T23:07:07.646Z"
   },
   {
    "duration": 17,
    "start_time": "2024-11-25T23:07:07.652Z"
   },
   {
    "duration": 45,
    "start_time": "2024-11-25T23:07:07.672Z"
   },
   {
    "duration": 11,
    "start_time": "2024-11-25T23:07:07.719Z"
   },
   {
    "duration": 29,
    "start_time": "2024-11-25T23:07:07.732Z"
   },
   {
    "duration": 8,
    "start_time": "2024-11-25T23:07:07.763Z"
   },
   {
    "duration": 99,
    "start_time": "2024-11-25T23:07:07.773Z"
   },
   {
    "duration": 2,
    "start_time": "2024-11-25T23:07:07.874Z"
   },
   {
    "duration": 97,
    "start_time": "2024-11-25T23:07:07.877Z"
   },
   {
    "duration": 37,
    "start_time": "2024-11-25T23:07:07.975Z"
   },
   {
    "duration": 4,
    "start_time": "2024-11-25T23:07:08.015Z"
   },
   {
    "duration": 5,
    "start_time": "2024-11-25T23:07:08.021Z"
   },
   {
    "duration": 229,
    "start_time": "2024-11-25T23:07:08.027Z"
   },
   {
    "duration": 122,
    "start_time": "2024-11-25T23:07:08.261Z"
   },
   {
    "duration": 275,
    "start_time": "2024-11-25T23:07:08.385Z"
   },
   {
    "duration": 220,
    "start_time": "2024-11-25T23:07:08.662Z"
   },
   {
    "duration": 5,
    "start_time": "2024-11-25T23:07:08.884Z"
   },
   {
    "duration": 130,
    "start_time": "2024-11-25T23:07:08.891Z"
   },
   {
    "duration": 111,
    "start_time": "2024-11-25T23:07:09.023Z"
   },
   {
    "duration": 458,
    "start_time": "2024-11-25T23:07:09.135Z"
   },
   {
    "duration": 196,
    "start_time": "2024-11-25T23:07:09.595Z"
   },
   {
    "duration": 244,
    "start_time": "2024-11-25T23:07:09.793Z"
   },
   {
    "duration": 647,
    "start_time": "2024-11-25T23:07:10.039Z"
   },
   {
    "duration": 63,
    "start_time": "2024-11-25T23:07:10.688Z"
   },
   {
    "duration": 673,
    "start_time": "2024-11-25T23:07:27.871Z"
   },
   {
    "duration": 575,
    "start_time": "2024-11-25T23:07:40.961Z"
   },
   {
    "duration": 303,
    "start_time": "2024-11-25T23:09:16.131Z"
   },
   {
    "duration": 123,
    "start_time": "2024-11-25T23:09:51.691Z"
   },
   {
    "duration": 5,
    "start_time": "2024-11-25T23:11:21.871Z"
   },
   {
    "duration": 5,
    "start_time": "2024-11-25T23:12:08.872Z"
   },
   {
    "duration": 8,
    "start_time": "2024-11-25T23:12:14.812Z"
   },
   {
    "duration": 79,
    "start_time": "2024-11-25T23:13:08.089Z"
   },
   {
    "duration": 2334,
    "start_time": "2024-11-26T18:38:29.363Z"
   },
   {
    "duration": 1046,
    "start_time": "2024-11-26T18:38:31.699Z"
   },
   {
    "duration": 10,
    "start_time": "2024-11-26T18:38:32.747Z"
   },
   {
    "duration": 9,
    "start_time": "2024-11-26T18:38:32.760Z"
   },
   {
    "duration": 7,
    "start_time": "2024-11-26T18:38:32.771Z"
   },
   {
    "duration": 8,
    "start_time": "2024-11-26T18:38:32.780Z"
   },
   {
    "duration": 6,
    "start_time": "2024-11-26T18:38:32.790Z"
   },
   {
    "duration": 66,
    "start_time": "2024-11-26T18:38:32.798Z"
   },
   {
    "duration": 116,
    "start_time": "2024-11-26T18:38:32.866Z"
   },
   {
    "duration": 11,
    "start_time": "2024-11-26T18:38:32.985Z"
   },
   {
    "duration": 130,
    "start_time": "2024-11-26T18:38:32.998Z"
   },
   {
    "duration": 96,
    "start_time": "2024-11-26T18:38:33.130Z"
   },
   {
    "duration": 38,
    "start_time": "2024-11-26T18:38:33.228Z"
   },
   {
    "duration": 14,
    "start_time": "2024-11-26T18:38:33.269Z"
   },
   {
    "duration": 5,
    "start_time": "2024-11-26T18:38:33.285Z"
   },
   {
    "duration": 22,
    "start_time": "2024-11-26T18:38:33.293Z"
   },
   {
    "duration": 30,
    "start_time": "2024-11-26T18:38:33.317Z"
   },
   {
    "duration": 4,
    "start_time": "2024-11-26T18:38:33.350Z"
   },
   {
    "duration": 4,
    "start_time": "2024-11-26T18:38:33.356Z"
   },
   {
    "duration": 4,
    "start_time": "2024-11-26T18:38:33.362Z"
   },
   {
    "duration": 4,
    "start_time": "2024-11-26T18:38:33.368Z"
   },
   {
    "duration": 798,
    "start_time": "2024-11-26T18:38:33.374Z"
   },
   {
    "duration": 110,
    "start_time": "2024-11-26T18:38:34.174Z"
   },
   {
    "duration": 0,
    "start_time": "2024-11-26T18:38:34.286Z"
   },
   {
    "duration": 0,
    "start_time": "2024-11-26T18:38:34.288Z"
   },
   {
    "duration": 1,
    "start_time": "2024-11-26T18:38:34.288Z"
   },
   {
    "duration": 0,
    "start_time": "2024-11-26T18:38:34.290Z"
   },
   {
    "duration": 0,
    "start_time": "2024-11-26T18:38:34.291Z"
   },
   {
    "duration": 0,
    "start_time": "2024-11-26T18:38:34.292Z"
   },
   {
    "duration": 1,
    "start_time": "2024-11-26T18:38:34.293Z"
   },
   {
    "duration": 0,
    "start_time": "2024-11-26T18:38:34.295Z"
   },
   {
    "duration": 0,
    "start_time": "2024-11-26T18:38:34.296Z"
   },
   {
    "duration": 0,
    "start_time": "2024-11-26T18:38:34.298Z"
   },
   {
    "duration": 1,
    "start_time": "2024-11-26T18:38:34.298Z"
   },
   {
    "duration": 0,
    "start_time": "2024-11-26T18:38:34.300Z"
   },
   {
    "duration": 0,
    "start_time": "2024-11-26T18:38:34.301Z"
   },
   {
    "duration": 0,
    "start_time": "2024-11-26T18:38:34.302Z"
   },
   {
    "duration": 0,
    "start_time": "2024-11-26T18:38:34.304Z"
   },
   {
    "duration": 0,
    "start_time": "2024-11-26T18:38:34.305Z"
   },
   {
    "duration": 0,
    "start_time": "2024-11-26T18:38:34.306Z"
   },
   {
    "duration": 0,
    "start_time": "2024-11-26T18:38:34.307Z"
   },
   {
    "duration": 0,
    "start_time": "2024-11-26T18:38:34.308Z"
   },
   {
    "duration": 0,
    "start_time": "2024-11-26T18:38:34.309Z"
   },
   {
    "duration": 0,
    "start_time": "2024-11-26T18:38:34.343Z"
   },
   {
    "duration": 0,
    "start_time": "2024-11-26T18:38:34.344Z"
   },
   {
    "duration": 0,
    "start_time": "2024-11-26T18:38:34.345Z"
   },
   {
    "duration": 0,
    "start_time": "2024-11-26T18:38:34.346Z"
   },
   {
    "duration": 0,
    "start_time": "2024-11-26T18:38:34.348Z"
   },
   {
    "duration": 0,
    "start_time": "2024-11-26T18:38:34.349Z"
   },
   {
    "duration": 0,
    "start_time": "2024-11-26T18:38:34.351Z"
   },
   {
    "duration": 0,
    "start_time": "2024-11-26T18:38:34.352Z"
   },
   {
    "duration": 106,
    "start_time": "2024-11-26T18:39:43.876Z"
   },
   {
    "duration": 14,
    "start_time": "2024-11-26T18:39:49.325Z"
   },
   {
    "duration": 5,
    "start_time": "2024-11-26T18:40:01.097Z"
   },
   {
    "duration": 1150,
    "start_time": "2024-11-26T18:44:49.847Z"
   },
   {
    "duration": 1130,
    "start_time": "2024-11-26T18:50:15.318Z"
   },
   {
    "duration": 423,
    "start_time": "2024-11-26T18:53:43.348Z"
   },
   {
    "duration": 415,
    "start_time": "2024-11-26T18:54:18.157Z"
   },
   {
    "duration": 447,
    "start_time": "2024-11-26T18:54:27.729Z"
   },
   {
    "duration": 430,
    "start_time": "2024-11-26T18:54:43.280Z"
   },
   {
    "duration": 15,
    "start_time": "2024-11-26T19:00:23.240Z"
   },
   {
    "duration": 114,
    "start_time": "2024-11-26T19:01:01.222Z"
   },
   {
    "duration": 99,
    "start_time": "2024-11-26T19:06:16.783Z"
   },
   {
    "duration": 115,
    "start_time": "2024-11-26T19:15:55.487Z"
   },
   {
    "duration": 143,
    "start_time": "2024-11-26T19:23:07.245Z"
   },
   {
    "duration": 111,
    "start_time": "2024-11-26T19:23:53.746Z"
   },
   {
    "duration": 213,
    "start_time": "2024-11-26T19:25:52.495Z"
   },
   {
    "duration": 230,
    "start_time": "2024-11-26T19:26:22.965Z"
   },
   {
    "duration": 566,
    "start_time": "2024-11-26T19:27:06.190Z"
   },
   {
    "duration": 621,
    "start_time": "2024-11-26T19:28:10.841Z"
   },
   {
    "duration": 43,
    "start_time": "2024-11-26T19:28:29.065Z"
   },
   {
    "duration": 45,
    "start_time": "2024-11-26T19:30:47.168Z"
   },
   {
    "duration": 116,
    "start_time": "2024-11-26T19:31:22.700Z"
   },
   {
    "duration": 139,
    "start_time": "2024-11-26T19:31:36.126Z"
   },
   {
    "duration": 131,
    "start_time": "2024-11-26T19:31:44.640Z"
   },
   {
    "duration": 110,
    "start_time": "2024-11-26T19:32:41.958Z"
   },
   {
    "duration": 119,
    "start_time": "2024-11-26T19:32:54.741Z"
   },
   {
    "duration": 211,
    "start_time": "2024-11-26T19:33:09.651Z"
   },
   {
    "duration": 103,
    "start_time": "2024-11-26T19:44:35.424Z"
   },
   {
    "duration": 115,
    "start_time": "2024-11-26T19:44:51.659Z"
   },
   {
    "duration": 172,
    "start_time": "2024-11-26T22:28:10.099Z"
   },
   {
    "duration": 2351,
    "start_time": "2024-11-26T22:28:18.608Z"
   },
   {
    "duration": 1033,
    "start_time": "2024-11-26T22:28:20.961Z"
   },
   {
    "duration": 12,
    "start_time": "2024-11-26T22:28:21.995Z"
   },
   {
    "duration": 10,
    "start_time": "2024-11-26T22:28:22.009Z"
   },
   {
    "duration": 29,
    "start_time": "2024-11-26T22:28:22.022Z"
   },
   {
    "duration": 10,
    "start_time": "2024-11-26T22:28:22.052Z"
   },
   {
    "duration": 7,
    "start_time": "2024-11-26T22:28:22.064Z"
   },
   {
    "duration": 33,
    "start_time": "2024-11-26T22:28:22.073Z"
   },
   {
    "duration": 139,
    "start_time": "2024-11-26T22:28:22.109Z"
   },
   {
    "duration": 13,
    "start_time": "2024-11-26T22:28:22.250Z"
   },
   {
    "duration": 132,
    "start_time": "2024-11-26T22:28:22.264Z"
   },
   {
    "duration": 101,
    "start_time": "2024-11-26T22:28:22.397Z"
   },
   {
    "duration": 34,
    "start_time": "2024-11-26T22:28:22.500Z"
   },
   {
    "duration": 13,
    "start_time": "2024-11-26T22:28:22.543Z"
   },
   {
    "duration": 5,
    "start_time": "2024-11-26T22:28:22.558Z"
   },
   {
    "duration": 25,
    "start_time": "2024-11-26T22:28:22.564Z"
   },
   {
    "duration": 6,
    "start_time": "2024-11-26T22:28:22.591Z"
   },
   {
    "duration": 5,
    "start_time": "2024-11-26T22:28:22.599Z"
   },
   {
    "duration": 41,
    "start_time": "2024-11-26T22:28:22.606Z"
   },
   {
    "duration": 4,
    "start_time": "2024-11-26T22:28:22.649Z"
   },
   {
    "duration": 6,
    "start_time": "2024-11-26T22:28:22.656Z"
   },
   {
    "duration": 867,
    "start_time": "2024-11-26T22:28:22.664Z"
   },
   {
    "duration": 1155,
    "start_time": "2024-11-26T22:28:23.533Z"
   },
   {
    "duration": 8,
    "start_time": "2024-11-26T22:28:24.690Z"
   },
   {
    "duration": 11,
    "start_time": "2024-11-26T22:28:24.700Z"
   },
   {
    "duration": 32,
    "start_time": "2024-11-26T22:28:24.713Z"
   },
   {
    "duration": 9,
    "start_time": "2024-11-26T22:28:24.748Z"
   },
   {
    "duration": 7,
    "start_time": "2024-11-26T22:28:24.759Z"
   },
   {
    "duration": 20,
    "start_time": "2024-11-26T22:28:24.768Z"
   },
   {
    "duration": 15,
    "start_time": "2024-11-26T22:28:24.790Z"
   },
   {
    "duration": 44,
    "start_time": "2024-11-26T22:28:24.807Z"
   },
   {
    "duration": 34,
    "start_time": "2024-11-26T22:28:24.853Z"
   },
   {
    "duration": 7,
    "start_time": "2024-11-26T22:28:24.889Z"
   },
   {
    "duration": 89,
    "start_time": "2024-11-26T22:28:24.897Z"
   },
   {
    "duration": 2,
    "start_time": "2024-11-26T22:28:24.988Z"
   },
   {
    "duration": 106,
    "start_time": "2024-11-26T22:28:24.992Z"
   },
   {
    "duration": 28,
    "start_time": "2024-11-26T22:28:25.101Z"
   },
   {
    "duration": 13,
    "start_time": "2024-11-26T22:28:25.131Z"
   },
   {
    "duration": 4,
    "start_time": "2024-11-26T22:28:25.147Z"
   },
   {
    "duration": 243,
    "start_time": "2024-11-26T22:28:25.153Z"
   },
   {
    "duration": 137,
    "start_time": "2024-11-26T22:28:25.401Z"
   },
   {
    "duration": 227,
    "start_time": "2024-11-26T22:28:25.543Z"
   },
   {
    "duration": 293,
    "start_time": "2024-11-26T22:28:25.772Z"
   },
   {
    "duration": 3,
    "start_time": "2024-11-26T22:28:26.067Z"
   },
   {
    "duration": 139,
    "start_time": "2024-11-26T22:28:26.071Z"
   },
   {
    "duration": 98,
    "start_time": "2024-11-26T22:28:26.212Z"
   },
   {
    "duration": 439,
    "start_time": "2024-11-26T22:28:26.312Z"
   },
   {
    "duration": 362,
    "start_time": "2024-11-26T22:28:26.753Z"
   },
   {
    "duration": 0,
    "start_time": "2024-11-26T22:28:27.116Z"
   },
   {
    "duration": 0,
    "start_time": "2024-11-26T22:28:27.118Z"
   },
   {
    "duration": 0,
    "start_time": "2024-11-26T22:28:27.119Z"
   },
   {
    "duration": 7,
    "start_time": "2024-11-26T22:28:58.009Z"
   },
   {
    "duration": 8,
    "start_time": "2024-11-26T22:29:01.713Z"
   },
   {
    "duration": 7,
    "start_time": "2024-11-26T22:29:11.191Z"
   },
   {
    "duration": 7,
    "start_time": "2024-11-26T22:29:13.133Z"
   },
   {
    "duration": 478,
    "start_time": "2024-11-26T22:31:26.849Z"
   },
   {
    "duration": 941,
    "start_time": "2024-11-26T22:31:27.330Z"
   },
   {
    "duration": 12,
    "start_time": "2024-11-26T22:31:28.272Z"
   },
   {
    "duration": 10,
    "start_time": "2024-11-26T22:31:28.287Z"
   },
   {
    "duration": 7,
    "start_time": "2024-11-26T22:31:28.299Z"
   },
   {
    "duration": 35,
    "start_time": "2024-11-26T22:31:28.308Z"
   },
   {
    "duration": 7,
    "start_time": "2024-11-26T22:31:28.345Z"
   },
   {
    "duration": 30,
    "start_time": "2024-11-26T22:31:28.354Z"
   },
   {
    "duration": 122,
    "start_time": "2024-11-26T22:31:28.387Z"
   },
   {
    "duration": 12,
    "start_time": "2024-11-26T22:31:28.513Z"
   },
   {
    "duration": 138,
    "start_time": "2024-11-26T22:31:28.527Z"
   },
   {
    "duration": 123,
    "start_time": "2024-11-26T22:31:28.666Z"
   },
   {
    "duration": 33,
    "start_time": "2024-11-26T22:31:28.791Z"
   },
   {
    "duration": 26,
    "start_time": "2024-11-26T22:31:28.826Z"
   },
   {
    "duration": 5,
    "start_time": "2024-11-26T22:31:28.854Z"
   },
   {
    "duration": 21,
    "start_time": "2024-11-26T22:31:28.861Z"
   },
   {
    "duration": 6,
    "start_time": "2024-11-26T22:31:28.884Z"
   },
   {
    "duration": 4,
    "start_time": "2024-11-26T22:31:28.892Z"
   },
   {
    "duration": 4,
    "start_time": "2024-11-26T22:31:28.898Z"
   },
   {
    "duration": 40,
    "start_time": "2024-11-26T22:31:28.903Z"
   },
   {
    "duration": 5,
    "start_time": "2024-11-26T22:31:28.945Z"
   },
   {
    "duration": 893,
    "start_time": "2024-11-26T22:31:28.952Z"
   },
   {
    "duration": 1197,
    "start_time": "2024-11-26T22:31:29.847Z"
   },
   {
    "duration": 7,
    "start_time": "2024-11-26T22:31:31.046Z"
   },
   {
    "duration": 8,
    "start_time": "2024-11-26T22:31:31.056Z"
   },
   {
    "duration": 7,
    "start_time": "2024-11-26T22:31:31.066Z"
   },
   {
    "duration": 6,
    "start_time": "2024-11-26T22:31:31.075Z"
   },
   {
    "duration": 6,
    "start_time": "2024-11-26T22:31:31.085Z"
   },
   {
    "duration": 61,
    "start_time": "2024-11-26T22:31:31.092Z"
   },
   {
    "duration": 15,
    "start_time": "2024-11-26T22:31:31.155Z"
   },
   {
    "duration": 11,
    "start_time": "2024-11-26T22:31:31.172Z"
   },
   {
    "duration": 32,
    "start_time": "2024-11-26T22:31:31.184Z"
   },
   {
    "duration": 29,
    "start_time": "2024-11-26T22:31:31.218Z"
   },
   {
    "duration": 65,
    "start_time": "2024-11-26T22:31:31.249Z"
   },
   {
    "duration": 3,
    "start_time": "2024-11-26T22:31:31.316Z"
   },
   {
    "duration": 88,
    "start_time": "2024-11-26T22:31:31.343Z"
   },
   {
    "duration": 36,
    "start_time": "2024-11-26T22:31:31.433Z"
   },
   {
    "duration": 4,
    "start_time": "2024-11-26T22:31:31.471Z"
   },
   {
    "duration": 4,
    "start_time": "2024-11-26T22:31:31.476Z"
   },
   {
    "duration": 214,
    "start_time": "2024-11-26T22:31:31.483Z"
   },
   {
    "duration": 126,
    "start_time": "2024-11-26T22:31:31.699Z"
   },
   {
    "duration": 226,
    "start_time": "2024-11-26T22:31:31.827Z"
   },
   {
    "duration": 234,
    "start_time": "2024-11-26T22:31:32.055Z"
   },
   {
    "duration": 2,
    "start_time": "2024-11-26T22:31:32.291Z"
   },
   {
    "duration": 133,
    "start_time": "2024-11-26T22:31:32.295Z"
   },
   {
    "duration": 100,
    "start_time": "2024-11-26T22:31:32.429Z"
   },
   {
    "duration": 412,
    "start_time": "2024-11-26T22:31:32.531Z"
   },
   {
    "duration": 424,
    "start_time": "2024-11-26T22:31:32.944Z"
   },
   {
    "duration": 0,
    "start_time": "2024-11-26T22:31:33.370Z"
   },
   {
    "duration": 0,
    "start_time": "2024-11-26T22:31:33.371Z"
   },
   {
    "duration": 0,
    "start_time": "2024-11-26T22:31:33.372Z"
   },
   {
    "duration": 789,
    "start_time": "2024-11-26T22:31:36.935Z"
   },
   {
    "duration": 11,
    "start_time": "2024-11-26T22:32:11.376Z"
   },
   {
    "duration": 480,
    "start_time": "2024-11-26T22:32:23.844Z"
   },
   {
    "duration": 952,
    "start_time": "2024-11-26T22:32:24.326Z"
   },
   {
    "duration": 13,
    "start_time": "2024-11-26T22:32:25.280Z"
   },
   {
    "duration": 12,
    "start_time": "2024-11-26T22:32:25.295Z"
   },
   {
    "duration": 32,
    "start_time": "2024-11-26T22:32:25.311Z"
   },
   {
    "duration": 10,
    "start_time": "2024-11-26T22:32:25.346Z"
   },
   {
    "duration": 8,
    "start_time": "2024-11-26T22:32:25.359Z"
   },
   {
    "duration": 32,
    "start_time": "2024-11-26T22:32:25.369Z"
   },
   {
    "duration": 147,
    "start_time": "2024-11-26T22:32:25.403Z"
   },
   {
    "duration": 13,
    "start_time": "2024-11-26T22:32:25.553Z"
   },
   {
    "duration": 135,
    "start_time": "2024-11-26T22:32:25.568Z"
   },
   {
    "duration": 112,
    "start_time": "2024-11-26T22:32:25.705Z"
   },
   {
    "duration": 42,
    "start_time": "2024-11-26T22:32:25.819Z"
   },
   {
    "duration": 14,
    "start_time": "2024-11-26T22:32:25.866Z"
   },
   {
    "duration": 5,
    "start_time": "2024-11-26T22:32:25.882Z"
   },
   {
    "duration": 21,
    "start_time": "2024-11-26T22:32:25.889Z"
   },
   {
    "duration": 32,
    "start_time": "2024-11-26T22:32:25.912Z"
   },
   {
    "duration": 5,
    "start_time": "2024-11-26T22:32:25.946Z"
   },
   {
    "duration": 4,
    "start_time": "2024-11-26T22:32:25.953Z"
   },
   {
    "duration": 6,
    "start_time": "2024-11-26T22:32:25.959Z"
   },
   {
    "duration": 4,
    "start_time": "2024-11-26T22:32:25.967Z"
   },
   {
    "duration": 938,
    "start_time": "2024-11-26T22:32:25.973Z"
   },
   {
    "duration": 1177,
    "start_time": "2024-11-26T22:32:26.914Z"
   },
   {
    "duration": 6,
    "start_time": "2024-11-26T22:32:28.093Z"
   },
   {
    "duration": 9,
    "start_time": "2024-11-26T22:32:28.101Z"
   },
   {
    "duration": 32,
    "start_time": "2024-11-26T22:32:28.112Z"
   },
   {
    "duration": 7,
    "start_time": "2024-11-26T22:32:28.145Z"
   },
   {
    "duration": 5,
    "start_time": "2024-11-26T22:32:28.154Z"
   },
   {
    "duration": 17,
    "start_time": "2024-11-26T22:32:28.161Z"
   },
   {
    "duration": 16,
    "start_time": "2024-11-26T22:32:28.180Z"
   },
   {
    "duration": 46,
    "start_time": "2024-11-26T22:32:28.198Z"
   },
   {
    "duration": 34,
    "start_time": "2024-11-26T22:32:28.246Z"
   },
   {
    "duration": 7,
    "start_time": "2024-11-26T22:32:28.282Z"
   },
   {
    "duration": 81,
    "start_time": "2024-11-26T22:32:28.291Z"
   },
   {
    "duration": 3,
    "start_time": "2024-11-26T22:32:28.374Z"
   },
   {
    "duration": 104,
    "start_time": "2024-11-26T22:32:28.378Z"
   },
   {
    "duration": 28,
    "start_time": "2024-11-26T22:32:28.484Z"
   },
   {
    "duration": 5,
    "start_time": "2024-11-26T22:32:28.513Z"
   },
   {
    "duration": 22,
    "start_time": "2024-11-26T22:32:28.521Z"
   },
   {
    "duration": 223,
    "start_time": "2024-11-26T22:32:28.545Z"
   },
   {
    "duration": 133,
    "start_time": "2024-11-26T22:32:28.773Z"
   },
   {
    "duration": 229,
    "start_time": "2024-11-26T22:32:28.908Z"
   },
   {
    "duration": 264,
    "start_time": "2024-11-26T22:32:29.139Z"
   },
   {
    "duration": 2,
    "start_time": "2024-11-26T22:32:29.405Z"
   },
   {
    "duration": 134,
    "start_time": "2024-11-26T22:32:29.409Z"
   },
   {
    "duration": 109,
    "start_time": "2024-11-26T22:32:29.545Z"
   },
   {
    "duration": 437,
    "start_time": "2024-11-26T22:32:29.657Z"
   },
   {
    "duration": 438,
    "start_time": "2024-11-26T22:32:30.096Z"
   },
   {
    "duration": 0,
    "start_time": "2024-11-26T22:32:30.536Z"
   },
   {
    "duration": 0,
    "start_time": "2024-11-26T22:32:30.543Z"
   },
   {
    "duration": 0,
    "start_time": "2024-11-26T22:32:30.545Z"
   },
   {
    "duration": 14,
    "start_time": "2024-11-26T22:37:05.286Z"
   },
   {
    "duration": 8,
    "start_time": "2024-11-26T22:37:13.304Z"
   },
   {
    "duration": 8,
    "start_time": "2024-11-26T22:37:25.165Z"
   },
   {
    "duration": 9,
    "start_time": "2024-11-26T22:37:45.134Z"
   },
   {
    "duration": 7,
    "start_time": "2024-11-26T22:37:53.089Z"
   },
   {
    "duration": 7,
    "start_time": "2024-11-26T22:37:59.078Z"
   },
   {
    "duration": 6,
    "start_time": "2024-11-26T22:38:48.851Z"
   },
   {
    "duration": 12,
    "start_time": "2024-11-26T22:39:06.086Z"
   },
   {
    "duration": 495,
    "start_time": "2024-11-26T22:45:50.541Z"
   },
   {
    "duration": 971,
    "start_time": "2024-11-26T22:45:51.039Z"
   },
   {
    "duration": 12,
    "start_time": "2024-11-26T22:45:52.012Z"
   },
   {
    "duration": 22,
    "start_time": "2024-11-26T22:45:52.027Z"
   },
   {
    "duration": 9,
    "start_time": "2024-11-26T22:45:52.051Z"
   },
   {
    "duration": 10,
    "start_time": "2024-11-26T22:45:52.061Z"
   },
   {
    "duration": 8,
    "start_time": "2024-11-26T22:45:52.072Z"
   },
   {
    "duration": 31,
    "start_time": "2024-11-26T22:45:52.081Z"
   },
   {
    "duration": 117,
    "start_time": "2024-11-26T22:45:52.143Z"
   },
   {
    "duration": 12,
    "start_time": "2024-11-26T22:45:52.264Z"
   },
   {
    "duration": 139,
    "start_time": "2024-11-26T22:45:52.278Z"
   },
   {
    "duration": 109,
    "start_time": "2024-11-26T22:45:52.419Z"
   },
   {
    "duration": 37,
    "start_time": "2024-11-26T22:45:52.529Z"
   },
   {
    "duration": 16,
    "start_time": "2024-11-26T22:45:52.568Z"
   },
   {
    "duration": 4,
    "start_time": "2024-11-26T22:45:52.586Z"
   },
   {
    "duration": 21,
    "start_time": "2024-11-26T22:45:52.592Z"
   },
   {
    "duration": 30,
    "start_time": "2024-11-26T22:45:52.615Z"
   },
   {
    "duration": 5,
    "start_time": "2024-11-26T22:45:52.648Z"
   },
   {
    "duration": 6,
    "start_time": "2024-11-26T22:45:52.655Z"
   },
   {
    "duration": 6,
    "start_time": "2024-11-26T22:45:52.663Z"
   },
   {
    "duration": 4,
    "start_time": "2024-11-26T22:45:52.671Z"
   },
   {
    "duration": 894,
    "start_time": "2024-11-26T22:45:52.677Z"
   },
   {
    "duration": 1173,
    "start_time": "2024-11-26T22:45:53.572Z"
   },
   {
    "duration": 7,
    "start_time": "2024-11-26T22:45:54.748Z"
   },
   {
    "duration": 11,
    "start_time": "2024-11-26T22:45:54.757Z"
   },
   {
    "duration": 11,
    "start_time": "2024-11-26T22:45:54.770Z"
   },
   {
    "duration": 7,
    "start_time": "2024-11-26T22:45:54.784Z"
   },
   {
    "duration": 6,
    "start_time": "2024-11-26T22:45:54.796Z"
   },
   {
    "duration": 20,
    "start_time": "2024-11-26T22:45:54.843Z"
   },
   {
    "duration": 15,
    "start_time": "2024-11-26T22:45:54.865Z"
   },
   {
    "duration": 11,
    "start_time": "2024-11-26T22:45:54.882Z"
   },
   {
    "duration": 62,
    "start_time": "2024-11-26T22:45:54.896Z"
   },
   {
    "duration": 8,
    "start_time": "2024-11-26T22:45:54.960Z"
   },
   {
    "duration": 77,
    "start_time": "2024-11-26T22:45:54.969Z"
   },
   {
    "duration": 3,
    "start_time": "2024-11-26T22:45:55.047Z"
   },
   {
    "duration": 113,
    "start_time": "2024-11-26T22:45:55.051Z"
   },
   {
    "duration": 36,
    "start_time": "2024-11-26T22:45:55.166Z"
   },
   {
    "duration": 4,
    "start_time": "2024-11-26T22:45:55.204Z"
   },
   {
    "duration": 5,
    "start_time": "2024-11-26T22:45:55.211Z"
   },
   {
    "duration": 229,
    "start_time": "2024-11-26T22:45:55.218Z"
   },
   {
    "duration": 124,
    "start_time": "2024-11-26T22:45:55.449Z"
   },
   {
    "duration": 217,
    "start_time": "2024-11-26T22:45:55.576Z"
   },
   {
    "duration": 231,
    "start_time": "2024-11-26T22:45:55.796Z"
   },
   {
    "duration": 3,
    "start_time": "2024-11-26T22:45:56.029Z"
   },
   {
    "duration": 134,
    "start_time": "2024-11-26T22:45:56.033Z"
   },
   {
    "duration": 103,
    "start_time": "2024-11-26T22:45:56.170Z"
   },
   {
    "duration": 437,
    "start_time": "2024-11-26T22:45:56.274Z"
   },
   {
    "duration": 435,
    "start_time": "2024-11-26T22:45:56.713Z"
   },
   {
    "duration": 0,
    "start_time": "2024-11-26T22:45:57.151Z"
   },
   {
    "duration": 0,
    "start_time": "2024-11-26T22:45:57.152Z"
   },
   {
    "duration": 0,
    "start_time": "2024-11-26T22:45:57.154Z"
   },
   {
    "duration": 16,
    "start_time": "2024-11-26T22:46:11.128Z"
   },
   {
    "duration": 6,
    "start_time": "2024-11-26T22:46:17.798Z"
   },
   {
    "duration": 5,
    "start_time": "2024-11-26T22:51:06.861Z"
   },
   {
    "duration": 17,
    "start_time": "2024-11-26T22:51:21.174Z"
   },
   {
    "duration": 7,
    "start_time": "2024-11-26T22:56:50.120Z"
   },
   {
    "duration": 15,
    "start_time": "2024-11-26T22:57:31.428Z"
   },
   {
    "duration": 15,
    "start_time": "2024-11-26T22:57:40.261Z"
   },
   {
    "duration": 14,
    "start_time": "2024-11-26T22:58:25.950Z"
   },
   {
    "duration": 4,
    "start_time": "2024-11-26T23:05:04.626Z"
   },
   {
    "duration": 5,
    "start_time": "2024-11-26T23:05:14.461Z"
   },
   {
    "duration": 4,
    "start_time": "2024-11-26T23:05:22.951Z"
   },
   {
    "duration": 14,
    "start_time": "2024-11-26T23:05:35.859Z"
   },
   {
    "duration": 25,
    "start_time": "2024-11-26T23:05:53.638Z"
   },
   {
    "duration": 7,
    "start_time": "2024-11-26T23:13:30.183Z"
   },
   {
    "duration": 89,
    "start_time": "2024-11-26T23:21:08.796Z"
   },
   {
    "duration": 89,
    "start_time": "2024-11-26T23:21:42.002Z"
   },
   {
    "duration": 192,
    "start_time": "2024-11-26T23:25:45.322Z"
   },
   {
    "duration": 203,
    "start_time": "2024-11-26T23:26:32.513Z"
   },
   {
    "duration": 949,
    "start_time": "2024-11-26T23:27:36.051Z"
   },
   {
    "duration": 439,
    "start_time": "2024-11-26T23:27:50.830Z"
   },
   {
    "duration": 46,
    "start_time": "2024-11-26T23:28:56.940Z"
   },
   {
    "duration": 113,
    "start_time": "2024-11-26T23:29:04.875Z"
   },
   {
    "duration": 112,
    "start_time": "2024-11-26T23:29:54.892Z"
   },
   {
    "duration": 117,
    "start_time": "2024-11-26T23:30:00.662Z"
   },
   {
    "duration": 5,
    "start_time": "2024-11-26T23:31:58.968Z"
   },
   {
    "duration": 238,
    "start_time": "2024-11-26T23:32:03.620Z"
   },
   {
    "duration": 227,
    "start_time": "2024-11-26T23:32:21.828Z"
   },
   {
    "duration": 345,
    "start_time": "2024-11-26T23:33:00.003Z"
   },
   {
    "duration": 161,
    "start_time": "2024-11-27T14:45:40.609Z"
   },
   {
    "duration": 2114,
    "start_time": "2024-11-27T14:45:47.876Z"
   },
   {
    "duration": 1013,
    "start_time": "2024-11-27T14:45:49.992Z"
   },
   {
    "duration": 13,
    "start_time": "2024-11-27T14:45:51.006Z"
   },
   {
    "duration": 10,
    "start_time": "2024-11-27T14:45:51.022Z"
   },
   {
    "duration": 8,
    "start_time": "2024-11-27T14:45:51.033Z"
   },
   {
    "duration": 7,
    "start_time": "2024-11-27T14:45:51.043Z"
   },
   {
    "duration": 36,
    "start_time": "2024-11-27T14:45:51.051Z"
   },
   {
    "duration": 27,
    "start_time": "2024-11-27T14:45:51.089Z"
   },
   {
    "duration": 108,
    "start_time": "2024-11-27T14:45:51.118Z"
   },
   {
    "duration": 10,
    "start_time": "2024-11-27T14:45:51.230Z"
   },
   {
    "duration": 119,
    "start_time": "2024-11-27T14:45:51.242Z"
   },
   {
    "duration": 92,
    "start_time": "2024-11-27T14:45:51.363Z"
   },
   {
    "duration": 36,
    "start_time": "2024-11-27T14:45:51.457Z"
   },
   {
    "duration": 13,
    "start_time": "2024-11-27T14:45:51.494Z"
   },
   {
    "duration": 4,
    "start_time": "2024-11-27T14:45:51.508Z"
   },
   {
    "duration": 20,
    "start_time": "2024-11-27T14:45:51.514Z"
   },
   {
    "duration": 5,
    "start_time": "2024-11-27T14:45:51.535Z"
   },
   {
    "duration": 4,
    "start_time": "2024-11-27T14:45:51.542Z"
   },
   {
    "duration": 3,
    "start_time": "2024-11-27T14:45:51.548Z"
   },
   {
    "duration": 5,
    "start_time": "2024-11-27T14:45:51.586Z"
   },
   {
    "duration": 4,
    "start_time": "2024-11-27T14:45:51.593Z"
   },
   {
    "duration": 782,
    "start_time": "2024-11-27T14:45:51.598Z"
   },
   {
    "duration": 1079,
    "start_time": "2024-11-27T14:45:52.386Z"
   },
   {
    "duration": 6,
    "start_time": "2024-11-27T14:45:53.467Z"
   },
   {
    "duration": 20,
    "start_time": "2024-11-27T14:45:53.475Z"
   },
   {
    "duration": 9,
    "start_time": "2024-11-27T14:45:53.497Z"
   },
   {
    "duration": 6,
    "start_time": "2024-11-27T14:45:53.508Z"
   },
   {
    "duration": 5,
    "start_time": "2024-11-27T14:45:53.519Z"
   },
   {
    "duration": 4,
    "start_time": "2024-11-27T14:45:53.525Z"
   },
   {
    "duration": 14,
    "start_time": "2024-11-27T14:45:53.531Z"
   },
   {
    "duration": 45,
    "start_time": "2024-11-27T14:45:53.547Z"
   },
   {
    "duration": 30,
    "start_time": "2024-11-27T14:45:53.595Z"
   },
   {
    "duration": 6,
    "start_time": "2024-11-27T14:45:53.627Z"
   },
   {
    "duration": 83,
    "start_time": "2024-11-27T14:45:53.635Z"
   },
   {
    "duration": 2,
    "start_time": "2024-11-27T14:45:53.720Z"
   },
   {
    "duration": 103,
    "start_time": "2024-11-27T14:45:53.724Z"
   },
   {
    "duration": 25,
    "start_time": "2024-11-27T14:45:53.830Z"
   },
   {
    "duration": 5,
    "start_time": "2024-11-27T14:45:53.857Z"
   },
   {
    "duration": 24,
    "start_time": "2024-11-27T14:45:53.863Z"
   },
   {
    "duration": 185,
    "start_time": "2024-11-27T14:45:53.890Z"
   },
   {
    "duration": 150,
    "start_time": "2024-11-27T14:45:54.077Z"
   },
   {
    "duration": 205,
    "start_time": "2024-11-27T14:45:54.228Z"
   },
   {
    "duration": 225,
    "start_time": "2024-11-27T14:45:54.435Z"
   },
   {
    "duration": 2,
    "start_time": "2024-11-27T14:45:54.662Z"
   },
   {
    "duration": 122,
    "start_time": "2024-11-27T14:45:54.666Z"
   },
   {
    "duration": 665,
    "start_time": "2024-11-27T14:45:54.790Z"
   },
   {
    "duration": 0,
    "start_time": "2024-11-27T14:45:55.457Z"
   },
   {
    "duration": 0,
    "start_time": "2024-11-27T14:45:55.460Z"
   },
   {
    "duration": 0,
    "start_time": "2024-11-27T14:45:55.461Z"
   },
   {
    "duration": 0,
    "start_time": "2024-11-27T14:45:55.462Z"
   },
   {
    "duration": 0,
    "start_time": "2024-11-27T14:45:55.463Z"
   },
   {
    "duration": 85,
    "start_time": "2024-11-27T14:50:40.768Z"
   },
   {
    "duration": 80,
    "start_time": "2024-11-27T14:51:28.316Z"
   },
   {
    "duration": 87,
    "start_time": "2024-11-27T14:51:42.783Z"
   },
   {
    "duration": 366,
    "start_time": "2024-11-27T14:54:52.316Z"
   },
   {
    "duration": 223,
    "start_time": "2024-11-27T15:03:16.012Z"
   },
   {
    "duration": 104,
    "start_time": "2024-11-27T15:03:30.561Z"
   },
   {
    "duration": 2186,
    "start_time": "2024-11-27T15:55:03.383Z"
   },
   {
    "duration": 1031,
    "start_time": "2024-11-27T15:55:05.571Z"
   },
   {
    "duration": 12,
    "start_time": "2024-11-27T15:55:06.605Z"
   },
   {
    "duration": 10,
    "start_time": "2024-11-27T15:55:06.619Z"
   },
   {
    "duration": 7,
    "start_time": "2024-11-27T15:55:06.632Z"
   },
   {
    "duration": 8,
    "start_time": "2024-11-27T15:55:06.640Z"
   },
   {
    "duration": 6,
    "start_time": "2024-11-27T15:55:06.649Z"
   },
   {
    "duration": 68,
    "start_time": "2024-11-27T15:55:06.657Z"
   },
   {
    "duration": 108,
    "start_time": "2024-11-27T15:55:06.726Z"
   },
   {
    "duration": 12,
    "start_time": "2024-11-27T15:55:06.835Z"
   },
   {
    "duration": 136,
    "start_time": "2024-11-27T15:55:06.848Z"
   },
   {
    "duration": 99,
    "start_time": "2024-11-27T15:55:06.986Z"
   },
   {
    "duration": 37,
    "start_time": "2024-11-27T15:55:07.086Z"
   },
   {
    "duration": 13,
    "start_time": "2024-11-27T15:55:07.126Z"
   },
   {
    "duration": 4,
    "start_time": "2024-11-27T15:55:07.140Z"
   },
   {
    "duration": 20,
    "start_time": "2024-11-27T15:55:07.146Z"
   },
   {
    "duration": 6,
    "start_time": "2024-11-27T15:55:07.168Z"
   },
   {
    "duration": 31,
    "start_time": "2024-11-27T15:55:07.176Z"
   },
   {
    "duration": 4,
    "start_time": "2024-11-27T15:55:07.209Z"
   },
   {
    "duration": 7,
    "start_time": "2024-11-27T15:55:07.215Z"
   },
   {
    "duration": 4,
    "start_time": "2024-11-27T15:55:07.224Z"
   },
   {
    "duration": 835,
    "start_time": "2024-11-27T15:55:07.230Z"
   },
   {
    "duration": 1095,
    "start_time": "2024-11-27T15:55:08.067Z"
   },
   {
    "duration": 5,
    "start_time": "2024-11-27T15:55:09.164Z"
   },
   {
    "duration": 9,
    "start_time": "2024-11-27T15:55:09.170Z"
   },
   {
    "duration": 30,
    "start_time": "2024-11-27T15:55:09.181Z"
   },
   {
    "duration": 7,
    "start_time": "2024-11-27T15:55:09.212Z"
   },
   {
    "duration": 6,
    "start_time": "2024-11-27T15:55:09.220Z"
   },
   {
    "duration": 4,
    "start_time": "2024-11-27T15:55:09.227Z"
   },
   {
    "duration": 16,
    "start_time": "2024-11-27T15:55:09.233Z"
   },
   {
    "duration": 8,
    "start_time": "2024-11-27T15:55:09.250Z"
   },
   {
    "duration": 66,
    "start_time": "2024-11-27T15:55:09.260Z"
   },
   {
    "duration": 7,
    "start_time": "2024-11-27T15:55:09.328Z"
   },
   {
    "duration": 75,
    "start_time": "2024-11-27T15:55:09.337Z"
   },
   {
    "duration": 2,
    "start_time": "2024-11-27T15:55:09.414Z"
   },
   {
    "duration": 103,
    "start_time": "2024-11-27T15:55:09.418Z"
   },
   {
    "duration": 26,
    "start_time": "2024-11-27T15:55:09.524Z"
   },
   {
    "duration": 4,
    "start_time": "2024-11-27T15:55:09.552Z"
   },
   {
    "duration": 4,
    "start_time": "2024-11-27T15:55:09.558Z"
   },
   {
    "duration": 202,
    "start_time": "2024-11-27T15:55:09.563Z"
   },
   {
    "duration": 175,
    "start_time": "2024-11-27T15:55:09.770Z"
   },
   {
    "duration": 225,
    "start_time": "2024-11-27T15:55:09.947Z"
   },
   {
    "duration": 232,
    "start_time": "2024-11-27T15:55:10.174Z"
   },
   {
    "duration": 3,
    "start_time": "2024-11-27T15:55:10.408Z"
   },
   {
    "duration": 131,
    "start_time": "2024-11-27T15:55:10.413Z"
   },
   {
    "duration": 97,
    "start_time": "2024-11-27T15:55:10.546Z"
   },
   {
    "duration": 420,
    "start_time": "2024-11-27T15:55:10.645Z"
   },
   {
    "duration": 185,
    "start_time": "2024-11-27T15:55:11.066Z"
   },
   {
    "duration": 241,
    "start_time": "2024-11-27T15:55:11.253Z"
   },
   {
    "duration": 641,
    "start_time": "2024-11-27T15:55:11.495Z"
   },
   {
    "duration": 47,
    "start_time": "2024-11-27T15:55:12.138Z"
   },
   {
    "duration": 682,
    "start_time": "2024-11-27T16:00:29.359Z"
   },
   {
    "duration": 113,
    "start_time": "2024-11-27T16:03:14.467Z"
   },
   {
    "duration": 110,
    "start_time": "2024-11-27T16:04:03.104Z"
   },
   {
    "duration": 436,
    "start_time": "2024-11-27T16:07:16.549Z"
   },
   {
    "duration": 940,
    "start_time": "2024-11-27T16:07:16.987Z"
   },
   {
    "duration": 10,
    "start_time": "2024-11-27T16:07:17.929Z"
   },
   {
    "duration": 9,
    "start_time": "2024-11-27T16:07:17.941Z"
   },
   {
    "duration": 7,
    "start_time": "2024-11-27T16:07:17.953Z"
   },
   {
    "duration": 7,
    "start_time": "2024-11-27T16:07:17.962Z"
   },
   {
    "duration": 7,
    "start_time": "2024-11-27T16:07:17.970Z"
   },
   {
    "duration": 29,
    "start_time": "2024-11-27T16:07:18.005Z"
   },
   {
    "duration": 124,
    "start_time": "2024-11-27T16:07:18.036Z"
   },
   {
    "duration": 11,
    "start_time": "2024-11-27T16:07:18.162Z"
   },
   {
    "duration": 121,
    "start_time": "2024-11-27T16:07:18.175Z"
   },
   {
    "duration": 88,
    "start_time": "2024-11-27T16:07:18.297Z"
   },
   {
    "duration": 36,
    "start_time": "2024-11-27T16:07:18.387Z"
   },
   {
    "duration": 13,
    "start_time": "2024-11-27T16:07:18.427Z"
   },
   {
    "duration": 4,
    "start_time": "2024-11-27T16:07:18.442Z"
   },
   {
    "duration": 20,
    "start_time": "2024-11-27T16:07:18.447Z"
   },
   {
    "duration": 5,
    "start_time": "2024-11-27T16:07:18.469Z"
   },
   {
    "duration": 33,
    "start_time": "2024-11-27T16:07:18.475Z"
   },
   {
    "duration": 5,
    "start_time": "2024-11-27T16:07:18.510Z"
   },
   {
    "duration": 4,
    "start_time": "2024-11-27T16:07:18.517Z"
   },
   {
    "duration": 3,
    "start_time": "2024-11-27T16:07:18.523Z"
   },
   {
    "duration": 809,
    "start_time": "2024-11-27T16:07:18.528Z"
   },
   {
    "duration": 1146,
    "start_time": "2024-11-27T16:07:19.339Z"
   },
   {
    "duration": 6,
    "start_time": "2024-11-27T16:07:20.487Z"
   },
   {
    "duration": 19,
    "start_time": "2024-11-27T16:07:20.495Z"
   },
   {
    "duration": 10,
    "start_time": "2024-11-27T16:07:20.515Z"
   },
   {
    "duration": 6,
    "start_time": "2024-11-27T16:07:20.527Z"
   },
   {
    "duration": 6,
    "start_time": "2024-11-27T16:07:20.535Z"
   },
   {
    "duration": 6,
    "start_time": "2024-11-27T16:07:20.542Z"
   },
   {
    "duration": 14,
    "start_time": "2024-11-27T16:07:20.549Z"
   },
   {
    "duration": 44,
    "start_time": "2024-11-27T16:07:20.565Z"
   },
   {
    "duration": 35,
    "start_time": "2024-11-27T16:07:20.611Z"
   },
   {
    "duration": 7,
    "start_time": "2024-11-27T16:07:20.648Z"
   },
   {
    "duration": 88,
    "start_time": "2024-11-27T16:07:20.657Z"
   },
   {
    "duration": 2,
    "start_time": "2024-11-27T16:07:20.747Z"
   },
   {
    "duration": 107,
    "start_time": "2024-11-27T16:07:20.751Z"
   },
   {
    "duration": 28,
    "start_time": "2024-11-27T16:07:20.860Z"
   },
   {
    "duration": 15,
    "start_time": "2024-11-27T16:07:20.890Z"
   },
   {
    "duration": 4,
    "start_time": "2024-11-27T16:07:20.907Z"
   },
   {
    "duration": 203,
    "start_time": "2024-11-27T16:07:20.913Z"
   },
   {
    "duration": 136,
    "start_time": "2024-11-27T16:07:21.121Z"
   },
   {
    "duration": 207,
    "start_time": "2024-11-27T16:07:21.259Z"
   },
   {
    "duration": 243,
    "start_time": "2024-11-27T16:07:21.468Z"
   },
   {
    "duration": 4,
    "start_time": "2024-11-27T16:07:21.713Z"
   },
   {
    "duration": 125,
    "start_time": "2024-11-27T16:07:21.719Z"
   },
   {
    "duration": 98,
    "start_time": "2024-11-27T16:07:21.848Z"
   },
   {
    "duration": 406,
    "start_time": "2024-11-27T16:07:21.948Z"
   },
   {
    "duration": 182,
    "start_time": "2024-11-27T16:07:22.355Z"
   },
   {
    "duration": 246,
    "start_time": "2024-11-27T16:36:28.411Z"
   },
   {
    "duration": 431,
    "start_time": "2024-11-27T16:36:39.388Z"
   },
   {
    "duration": 917,
    "start_time": "2024-11-27T16:36:39.821Z"
   },
   {
    "duration": 12,
    "start_time": "2024-11-27T16:36:40.739Z"
   },
   {
    "duration": 10,
    "start_time": "2024-11-27T16:36:40.754Z"
   },
   {
    "duration": 8,
    "start_time": "2024-11-27T16:36:40.766Z"
   },
   {
    "duration": 35,
    "start_time": "2024-11-27T16:36:40.777Z"
   },
   {
    "duration": 11,
    "start_time": "2024-11-27T16:36:40.815Z"
   },
   {
    "duration": 37,
    "start_time": "2024-11-27T16:36:40.828Z"
   },
   {
    "duration": 121,
    "start_time": "2024-11-27T16:36:40.867Z"
   },
   {
    "duration": 19,
    "start_time": "2024-11-27T16:36:40.991Z"
   },
   {
    "duration": 124,
    "start_time": "2024-11-27T16:36:41.011Z"
   },
   {
    "duration": 104,
    "start_time": "2024-11-27T16:36:41.137Z"
   },
   {
    "duration": 32,
    "start_time": "2024-11-27T16:36:41.243Z"
   },
   {
    "duration": 13,
    "start_time": "2024-11-27T16:36:41.277Z"
   },
   {
    "duration": 4,
    "start_time": "2024-11-27T16:36:41.305Z"
   },
   {
    "duration": 20,
    "start_time": "2024-11-27T16:36:41.311Z"
   },
   {
    "duration": 5,
    "start_time": "2024-11-27T16:36:41.332Z"
   },
   {
    "duration": 5,
    "start_time": "2024-11-27T16:36:41.339Z"
   },
   {
    "duration": 4,
    "start_time": "2024-11-27T16:36:41.346Z"
   },
   {
    "duration": 4,
    "start_time": "2024-11-27T16:36:41.351Z"
   },
   {
    "duration": 3,
    "start_time": "2024-11-27T16:36:41.357Z"
   },
   {
    "duration": 817,
    "start_time": "2024-11-27T16:36:41.406Z"
   },
   {
    "duration": 1141,
    "start_time": "2024-11-27T16:36:42.225Z"
   },
   {
    "duration": 5,
    "start_time": "2024-11-27T16:36:43.368Z"
   },
   {
    "duration": 10,
    "start_time": "2024-11-27T16:36:43.375Z"
   },
   {
    "duration": 27,
    "start_time": "2024-11-27T16:36:43.386Z"
   },
   {
    "duration": 6,
    "start_time": "2024-11-27T16:36:43.414Z"
   },
   {
    "duration": 5,
    "start_time": "2024-11-27T16:36:43.425Z"
   },
   {
    "duration": 5,
    "start_time": "2024-11-27T16:36:43.432Z"
   },
   {
    "duration": 15,
    "start_time": "2024-11-27T16:36:43.439Z"
   },
   {
    "duration": 7,
    "start_time": "2024-11-27T16:36:43.456Z"
   },
   {
    "duration": 67,
    "start_time": "2024-11-27T16:36:43.465Z"
   },
   {
    "duration": 7,
    "start_time": "2024-11-27T16:36:43.534Z"
   },
   {
    "duration": 80,
    "start_time": "2024-11-27T16:36:43.542Z"
   },
   {
    "duration": 2,
    "start_time": "2024-11-27T16:36:43.624Z"
   },
   {
    "duration": 99,
    "start_time": "2024-11-27T16:36:43.628Z"
   },
   {
    "duration": 28,
    "start_time": "2024-11-27T16:36:43.729Z"
   },
   {
    "duration": 4,
    "start_time": "2024-11-27T16:36:43.758Z"
   },
   {
    "duration": 4,
    "start_time": "2024-11-27T16:36:43.764Z"
   },
   {
    "duration": 213,
    "start_time": "2024-11-27T16:36:43.770Z"
   },
   {
    "duration": 126,
    "start_time": "2024-11-27T16:36:43.985Z"
   },
   {
    "duration": 223,
    "start_time": "2024-11-27T16:36:44.113Z"
   },
   {
    "duration": 249,
    "start_time": "2024-11-27T16:36:44.339Z"
   },
   {
    "duration": 3,
    "start_time": "2024-11-27T16:36:44.589Z"
   },
   {
    "duration": 130,
    "start_time": "2024-11-27T16:36:44.593Z"
   },
   {
    "duration": 94,
    "start_time": "2024-11-27T16:36:44.725Z"
   },
   {
    "duration": 403,
    "start_time": "2024-11-27T16:36:44.820Z"
   },
   {
    "duration": 175,
    "start_time": "2024-11-27T16:36:45.225Z"
   },
   {
    "duration": 248,
    "start_time": "2024-11-27T16:36:45.405Z"
   },
   {
    "duration": 267,
    "start_time": "2024-11-27T16:37:11.572Z"
   },
   {
    "duration": 31,
    "start_time": "2024-11-27T16:38:30.454Z"
   },
   {
    "duration": 34,
    "start_time": "2024-11-27T16:38:44.442Z"
   },
   {
    "duration": 8,
    "start_time": "2024-11-27T16:39:18.183Z"
   },
   {
    "duration": 9,
    "start_time": "2024-11-27T16:40:27.271Z"
   },
   {
    "duration": 1123,
    "start_time": "2024-11-27T16:41:15.771Z"
   },
   {
    "duration": 1157,
    "start_time": "2024-11-27T16:43:20.785Z"
   },
   {
    "duration": 1106,
    "start_time": "2024-11-27T16:46:15.353Z"
   },
   {
    "duration": 1261,
    "start_time": "2024-11-27T16:47:23.940Z"
   },
   {
    "duration": 1412,
    "start_time": "2024-11-27T16:49:32.294Z"
   },
   {
    "duration": 1463,
    "start_time": "2024-11-27T16:49:49.365Z"
   },
   {
    "duration": 1400,
    "start_time": "2024-11-27T16:50:43.763Z"
   },
   {
    "duration": 418,
    "start_time": "2024-11-27T16:51:41.270Z"
   },
   {
    "duration": 937,
    "start_time": "2024-11-27T16:51:41.690Z"
   },
   {
    "duration": 14,
    "start_time": "2024-11-27T16:51:42.628Z"
   },
   {
    "duration": 9,
    "start_time": "2024-11-27T16:51:42.644Z"
   },
   {
    "duration": 8,
    "start_time": "2024-11-27T16:51:42.655Z"
   },
   {
    "duration": 7,
    "start_time": "2024-11-27T16:51:42.665Z"
   },
   {
    "duration": 32,
    "start_time": "2024-11-27T16:51:42.674Z"
   },
   {
    "duration": 31,
    "start_time": "2024-11-27T16:51:42.709Z"
   },
   {
    "duration": 123,
    "start_time": "2024-11-27T16:51:42.742Z"
   },
   {
    "duration": 11,
    "start_time": "2024-11-27T16:51:42.867Z"
   },
   {
    "duration": 126,
    "start_time": "2024-11-27T16:51:42.879Z"
   },
   {
    "duration": 101,
    "start_time": "2024-11-27T16:51:43.006Z"
   },
   {
    "duration": 36,
    "start_time": "2024-11-27T16:51:43.108Z"
   },
   {
    "duration": 14,
    "start_time": "2024-11-27T16:51:43.149Z"
   },
   {
    "duration": 4,
    "start_time": "2024-11-27T16:51:43.164Z"
   },
   {
    "duration": 44,
    "start_time": "2024-11-27T16:51:43.170Z"
   },
   {
    "duration": 6,
    "start_time": "2024-11-27T16:51:43.216Z"
   },
   {
    "duration": 4,
    "start_time": "2024-11-27T16:51:43.224Z"
   },
   {
    "duration": 3,
    "start_time": "2024-11-27T16:51:43.230Z"
   },
   {
    "duration": 5,
    "start_time": "2024-11-27T16:51:43.235Z"
   },
   {
    "duration": 4,
    "start_time": "2024-11-27T16:51:43.241Z"
   },
   {
    "duration": 816,
    "start_time": "2024-11-27T16:51:43.246Z"
   },
   {
    "duration": 1160,
    "start_time": "2024-11-27T16:51:44.064Z"
   },
   {
    "duration": 6,
    "start_time": "2024-11-27T16:51:45.226Z"
   },
   {
    "duration": 12,
    "start_time": "2024-11-27T16:51:45.234Z"
   },
   {
    "duration": 12,
    "start_time": "2024-11-27T16:51:45.248Z"
   },
   {
    "duration": 9,
    "start_time": "2024-11-27T16:51:45.262Z"
   },
   {
    "duration": 6,
    "start_time": "2024-11-27T16:51:45.305Z"
   },
   {
    "duration": 4,
    "start_time": "2024-11-27T16:51:45.313Z"
   },
   {
    "duration": 15,
    "start_time": "2024-11-27T16:51:45.319Z"
   },
   {
    "duration": 9,
    "start_time": "2024-11-27T16:51:45.335Z"
   },
   {
    "duration": 60,
    "start_time": "2024-11-27T16:51:45.346Z"
   },
   {
    "duration": 6,
    "start_time": "2024-11-27T16:51:45.408Z"
   },
   {
    "duration": 63,
    "start_time": "2024-11-27T16:51:45.416Z"
   },
   {
    "duration": 3,
    "start_time": "2024-11-27T16:51:45.481Z"
   },
   {
    "duration": 88,
    "start_time": "2024-11-27T16:51:45.506Z"
   },
   {
    "duration": 27,
    "start_time": "2024-11-27T16:51:45.605Z"
   },
   {
    "duration": 5,
    "start_time": "2024-11-27T16:51:45.633Z"
   },
   {
    "duration": 3,
    "start_time": "2024-11-27T16:51:45.640Z"
   },
   {
    "duration": 204,
    "start_time": "2024-11-27T16:51:45.645Z"
   },
   {
    "duration": 129,
    "start_time": "2024-11-27T16:51:45.854Z"
   },
   {
    "duration": 207,
    "start_time": "2024-11-27T16:51:45.985Z"
   },
   {
    "duration": 244,
    "start_time": "2024-11-27T16:51:46.194Z"
   },
   {
    "duration": 3,
    "start_time": "2024-11-27T16:51:46.440Z"
   },
   {
    "duration": 128,
    "start_time": "2024-11-27T16:51:46.445Z"
   },
   {
    "duration": 94,
    "start_time": "2024-11-27T16:51:46.576Z"
   },
   {
    "duration": 404,
    "start_time": "2024-11-27T16:51:46.672Z"
   },
   {
    "duration": 167,
    "start_time": "2024-11-27T16:51:47.078Z"
   },
   {
    "duration": 1523,
    "start_time": "2024-11-27T16:51:47.247Z"
   },
   {
    "duration": 379,
    "start_time": "2024-11-27T16:53:33.843Z"
   },
   {
    "duration": 486,
    "start_time": "2024-11-27T16:56:34.130Z"
   },
   {
    "duration": 453,
    "start_time": "2024-11-27T16:57:04.296Z"
   },
   {
    "duration": 437,
    "start_time": "2024-11-27T18:25:23.954Z"
   },
   {
    "duration": 912,
    "start_time": "2024-11-27T18:25:24.393Z"
   },
   {
    "duration": 11,
    "start_time": "2024-11-27T18:25:25.306Z"
   },
   {
    "duration": 9,
    "start_time": "2024-11-27T18:25:25.319Z"
   },
   {
    "duration": 7,
    "start_time": "2024-11-27T18:25:25.330Z"
   },
   {
    "duration": 8,
    "start_time": "2024-11-27T18:25:25.339Z"
   },
   {
    "duration": 8,
    "start_time": "2024-11-27T18:25:25.348Z"
   },
   {
    "duration": 63,
    "start_time": "2024-11-27T18:25:25.358Z"
   },
   {
    "duration": 109,
    "start_time": "2024-11-27T18:25:25.423Z"
   },
   {
    "duration": 11,
    "start_time": "2024-11-27T18:25:25.536Z"
   },
   {
    "duration": 121,
    "start_time": "2024-11-27T18:25:25.548Z"
   },
   {
    "duration": 103,
    "start_time": "2024-11-27T18:25:25.671Z"
   },
   {
    "duration": 33,
    "start_time": "2024-11-27T18:25:25.776Z"
   },
   {
    "duration": 14,
    "start_time": "2024-11-27T18:25:25.811Z"
   },
   {
    "duration": 4,
    "start_time": "2024-11-27T18:25:25.826Z"
   },
   {
    "duration": 21,
    "start_time": "2024-11-27T18:25:25.832Z"
   },
   {
    "duration": 5,
    "start_time": "2024-11-27T18:25:25.855Z"
   },
   {
    "duration": 5,
    "start_time": "2024-11-27T18:25:25.862Z"
   },
   {
    "duration": 41,
    "start_time": "2024-11-27T18:25:25.868Z"
   },
   {
    "duration": 5,
    "start_time": "2024-11-27T18:25:25.910Z"
   },
   {
    "duration": 4,
    "start_time": "2024-11-27T18:25:25.917Z"
   },
   {
    "duration": 801,
    "start_time": "2024-11-27T18:25:25.923Z"
   },
   {
    "duration": 1097,
    "start_time": "2024-11-27T18:25:26.726Z"
   },
   {
    "duration": 7,
    "start_time": "2024-11-27T18:25:27.825Z"
   },
   {
    "duration": 12,
    "start_time": "2024-11-27T18:25:27.835Z"
   },
   {
    "duration": 10,
    "start_time": "2024-11-27T18:25:27.849Z"
   },
   {
    "duration": 7,
    "start_time": "2024-11-27T18:25:27.861Z"
   },
   {
    "duration": 33,
    "start_time": "2024-11-27T18:25:27.872Z"
   },
   {
    "duration": 5,
    "start_time": "2024-11-27T18:25:27.908Z"
   },
   {
    "duration": 16,
    "start_time": "2024-11-27T18:25:27.914Z"
   },
   {
    "duration": 8,
    "start_time": "2024-11-27T18:25:27.931Z"
   },
   {
    "duration": 30,
    "start_time": "2024-11-27T18:25:27.940Z"
   },
   {
    "duration": 38,
    "start_time": "2024-11-27T18:25:27.972Z"
   },
   {
    "duration": 64,
    "start_time": "2024-11-27T18:25:28.011Z"
   },
   {
    "duration": 2,
    "start_time": "2024-11-27T18:25:28.077Z"
   },
   {
    "duration": 106,
    "start_time": "2024-11-27T18:25:28.081Z"
   },
   {
    "duration": 35,
    "start_time": "2024-11-27T18:25:28.188Z"
   },
   {
    "duration": 3,
    "start_time": "2024-11-27T18:25:28.225Z"
   },
   {
    "duration": 4,
    "start_time": "2024-11-27T18:25:28.230Z"
   },
   {
    "duration": 202,
    "start_time": "2024-11-27T18:25:28.235Z"
   },
   {
    "duration": 119,
    "start_time": "2024-11-27T18:25:28.438Z"
   },
   {
    "duration": 201,
    "start_time": "2024-11-27T18:25:28.559Z"
   },
   {
    "duration": 262,
    "start_time": "2024-11-27T18:25:28.762Z"
   },
   {
    "duration": 121,
    "start_time": "2024-11-27T18:25:29.026Z"
   },
   {
    "duration": 93,
    "start_time": "2024-11-27T18:25:29.149Z"
   },
   {
    "duration": 403,
    "start_time": "2024-11-27T18:25:29.244Z"
   },
   {
    "duration": 170,
    "start_time": "2024-11-27T18:25:29.648Z"
   },
   {
    "duration": 1986,
    "start_time": "2024-11-27T18:25:29.820Z"
   },
   {
    "duration": 509,
    "start_time": "2024-11-27T18:25:31.808Z"
   },
   {
    "duration": 101,
    "start_time": "2024-11-27T18:26:55.064Z"
   },
   {
    "duration": 297,
    "start_time": "2024-11-27T18:27:18.600Z"
   },
   {
    "duration": 99,
    "start_time": "2024-11-27T18:30:18.865Z"
   },
   {
    "duration": 15,
    "start_time": "2024-11-27T18:57:22.154Z"
   },
   {
    "duration": 14,
    "start_time": "2024-11-27T18:57:33.328Z"
   },
   {
    "duration": 375,
    "start_time": "2024-11-27T18:58:27.927Z"
   },
   {
    "duration": 16,
    "start_time": "2024-11-27T19:05:07.339Z"
   },
   {
    "duration": 440,
    "start_time": "2024-11-27T19:05:34.156Z"
   },
   {
    "duration": 915,
    "start_time": "2024-11-27T19:05:34.597Z"
   },
   {
    "duration": 11,
    "start_time": "2024-11-27T19:05:35.514Z"
   },
   {
    "duration": 10,
    "start_time": "2024-11-27T19:05:35.526Z"
   },
   {
    "duration": 8,
    "start_time": "2024-11-27T19:05:35.538Z"
   },
   {
    "duration": 8,
    "start_time": "2024-11-27T19:05:35.548Z"
   },
   {
    "duration": 7,
    "start_time": "2024-11-27T19:05:35.557Z"
   },
   {
    "duration": 66,
    "start_time": "2024-11-27T19:05:35.565Z"
   },
   {
    "duration": 109,
    "start_time": "2024-11-27T19:05:35.633Z"
   },
   {
    "duration": 10,
    "start_time": "2024-11-27T19:05:35.744Z"
   },
   {
    "duration": 121,
    "start_time": "2024-11-27T19:05:35.755Z"
   },
   {
    "duration": 104,
    "start_time": "2024-11-27T19:05:35.878Z"
   },
   {
    "duration": 41,
    "start_time": "2024-11-27T19:05:35.984Z"
   },
   {
    "duration": 13,
    "start_time": "2024-11-27T19:05:36.030Z"
   },
   {
    "duration": 4,
    "start_time": "2024-11-27T19:05:36.045Z"
   },
   {
    "duration": 20,
    "start_time": "2024-11-27T19:05:36.050Z"
   },
   {
    "duration": 5,
    "start_time": "2024-11-27T19:05:36.072Z"
   },
   {
    "duration": 5,
    "start_time": "2024-11-27T19:05:36.105Z"
   },
   {
    "duration": 5,
    "start_time": "2024-11-27T19:05:36.113Z"
   },
   {
    "duration": 5,
    "start_time": "2024-11-27T19:05:36.119Z"
   },
   {
    "duration": 3,
    "start_time": "2024-11-27T19:05:36.126Z"
   },
   {
    "duration": 805,
    "start_time": "2024-11-27T19:05:36.131Z"
   },
   {
    "duration": 1068,
    "start_time": "2024-11-27T19:05:36.938Z"
   },
   {
    "duration": 7,
    "start_time": "2024-11-27T19:05:38.007Z"
   },
   {
    "duration": 12,
    "start_time": "2024-11-27T19:05:38.015Z"
   },
   {
    "duration": 9,
    "start_time": "2024-11-27T19:05:38.029Z"
   },
   {
    "duration": 6,
    "start_time": "2024-11-27T19:05:38.040Z"
   },
   {
    "duration": 5,
    "start_time": "2024-11-27T19:05:38.048Z"
   },
   {
    "duration": 3,
    "start_time": "2024-11-27T19:05:38.056Z"
   },
   {
    "duration": 56,
    "start_time": "2024-11-27T19:05:38.061Z"
   },
   {
    "duration": 8,
    "start_time": "2024-11-27T19:05:38.118Z"
   },
   {
    "duration": 30,
    "start_time": "2024-11-27T19:05:38.128Z"
   },
   {
    "duration": 6,
    "start_time": "2024-11-27T19:05:38.160Z"
   },
   {
    "duration": 87,
    "start_time": "2024-11-27T19:05:38.168Z"
   },
   {
    "duration": 2,
    "start_time": "2024-11-27T19:05:38.257Z"
   },
   {
    "duration": 95,
    "start_time": "2024-11-27T19:05:38.261Z"
   },
   {
    "duration": 27,
    "start_time": "2024-11-27T19:05:38.358Z"
   },
   {
    "duration": 3,
    "start_time": "2024-11-27T19:05:38.387Z"
   },
   {
    "duration": 4,
    "start_time": "2024-11-27T19:05:38.404Z"
   },
   {
    "duration": 212,
    "start_time": "2024-11-27T19:05:38.410Z"
   },
   {
    "duration": 125,
    "start_time": "2024-11-27T19:05:38.628Z"
   },
   {
    "duration": 219,
    "start_time": "2024-11-27T19:05:38.755Z"
   },
   {
    "duration": 229,
    "start_time": "2024-11-27T19:05:38.977Z"
   },
   {
    "duration": 123,
    "start_time": "2024-11-27T19:05:39.208Z"
   },
   {
    "duration": 102,
    "start_time": "2024-11-27T19:05:39.333Z"
   },
   {
    "duration": 407,
    "start_time": "2024-11-27T19:05:39.437Z"
   },
   {
    "duration": 422,
    "start_time": "2024-11-27T19:05:39.846Z"
   },
   {
    "duration": 0,
    "start_time": "2024-11-27T19:05:40.270Z"
   },
   {
    "duration": 0,
    "start_time": "2024-11-27T19:05:40.272Z"
   },
   {
    "duration": 17,
    "start_time": "2024-11-27T19:05:50.723Z"
   },
   {
    "duration": 993,
    "start_time": "2024-11-27T19:06:23.451Z"
   },
   {
    "duration": 1032,
    "start_time": "2024-11-27T19:09:19.480Z"
   },
   {
    "duration": 42,
    "start_time": "2024-11-27T19:18:09.078Z"
   },
   {
    "duration": 49,
    "start_time": "2024-11-27T19:23:49.005Z"
   },
   {
    "duration": 102,
    "start_time": "2024-11-27T19:24:20.424Z"
   },
   {
    "duration": 109,
    "start_time": "2024-11-27T19:24:29.711Z"
   },
   {
    "duration": 117,
    "start_time": "2024-11-27T19:24:42.343Z"
   },
   {
    "duration": 2102,
    "start_time": "2024-11-27T19:25:09.277Z"
   },
   {
    "duration": 43,
    "start_time": "2024-11-27T19:27:11.594Z"
   },
   {
    "duration": 3704,
    "start_time": "2024-11-27T19:33:21.017Z"
   },
   {
    "duration": 3576,
    "start_time": "2024-11-27T19:33:31.641Z"
   },
   {
    "duration": 3587,
    "start_time": "2024-11-27T19:39:30.533Z"
   },
   {
    "duration": 112,
    "start_time": "2024-11-27T19:55:30.851Z"
   },
   {
    "duration": 90,
    "start_time": "2024-11-27T20:19:56.841Z"
   },
   {
    "duration": 103,
    "start_time": "2024-11-27T20:20:09.196Z"
   },
   {
    "duration": 91,
    "start_time": "2024-11-27T20:20:47.372Z"
   },
   {
    "duration": 104,
    "start_time": "2024-11-27T20:20:57.964Z"
   },
   {
    "duration": 97,
    "start_time": "2024-11-27T20:22:16.644Z"
   },
   {
    "duration": 3549,
    "start_time": "2024-11-27T20:22:28.663Z"
   },
   {
    "duration": 174,
    "start_time": "2024-11-28T19:33:20.358Z"
   },
   {
    "duration": 2152,
    "start_time": "2024-11-28T19:33:25.418Z"
   },
   {
    "duration": 1018,
    "start_time": "2024-11-28T19:33:27.573Z"
   },
   {
    "duration": 11,
    "start_time": "2024-11-28T19:33:28.593Z"
   },
   {
    "duration": 9,
    "start_time": "2024-11-28T19:33:28.606Z"
   },
   {
    "duration": 7,
    "start_time": "2024-11-28T19:33:28.618Z"
   },
   {
    "duration": 8,
    "start_time": "2024-11-28T19:33:28.627Z"
   },
   {
    "duration": 7,
    "start_time": "2024-11-28T19:33:28.636Z"
   },
   {
    "duration": 59,
    "start_time": "2024-11-28T19:33:28.644Z"
   },
   {
    "duration": 106,
    "start_time": "2024-11-28T19:33:28.706Z"
   },
   {
    "duration": 10,
    "start_time": "2024-11-28T19:33:28.814Z"
   },
   {
    "duration": 119,
    "start_time": "2024-11-28T19:33:28.826Z"
   },
   {
    "duration": 89,
    "start_time": "2024-11-28T19:33:28.947Z"
   },
   {
    "duration": 26,
    "start_time": "2024-11-28T19:33:29.038Z"
   },
   {
    "duration": 25,
    "start_time": "2024-11-28T19:33:29.068Z"
   },
   {
    "duration": 5,
    "start_time": "2024-11-28T19:33:29.094Z"
   },
   {
    "duration": 21,
    "start_time": "2024-11-28T19:33:29.100Z"
   },
   {
    "duration": 6,
    "start_time": "2024-11-28T19:33:29.123Z"
   },
   {
    "duration": 5,
    "start_time": "2024-11-28T19:33:29.130Z"
   },
   {
    "duration": 3,
    "start_time": "2024-11-28T19:33:29.137Z"
   },
   {
    "duration": 5,
    "start_time": "2024-11-28T19:33:29.142Z"
   },
   {
    "duration": 3,
    "start_time": "2024-11-28T19:33:29.186Z"
   },
   {
    "duration": 757,
    "start_time": "2024-11-28T19:33:29.191Z"
   },
   {
    "duration": 2,
    "start_time": "2024-11-28T19:33:29.950Z"
   },
   {
    "duration": 997,
    "start_time": "2024-11-28T19:33:29.954Z"
   },
   {
    "duration": 4,
    "start_time": "2024-11-28T19:33:30.953Z"
   },
   {
    "duration": 0,
    "start_time": "2024-11-28T19:33:30.959Z"
   },
   {
    "duration": 0,
    "start_time": "2024-11-28T19:33:30.961Z"
   },
   {
    "duration": 0,
    "start_time": "2024-11-28T19:33:30.962Z"
   },
   {
    "duration": 0,
    "start_time": "2024-11-28T19:33:30.963Z"
   },
   {
    "duration": 0,
    "start_time": "2024-11-28T19:33:30.964Z"
   },
   {
    "duration": 0,
    "start_time": "2024-11-28T19:33:30.965Z"
   },
   {
    "duration": 0,
    "start_time": "2024-11-28T19:33:30.966Z"
   },
   {
    "duration": 0,
    "start_time": "2024-11-28T19:33:30.967Z"
   },
   {
    "duration": 0,
    "start_time": "2024-11-28T19:33:30.968Z"
   },
   {
    "duration": 0,
    "start_time": "2024-11-28T19:33:30.969Z"
   },
   {
    "duration": 0,
    "start_time": "2024-11-28T19:33:30.987Z"
   },
   {
    "duration": 0,
    "start_time": "2024-11-28T19:33:30.988Z"
   },
   {
    "duration": 0,
    "start_time": "2024-11-28T19:33:30.989Z"
   },
   {
    "duration": 0,
    "start_time": "2024-11-28T19:33:30.990Z"
   },
   {
    "duration": 0,
    "start_time": "2024-11-28T19:33:30.991Z"
   },
   {
    "duration": 0,
    "start_time": "2024-11-28T19:33:30.992Z"
   },
   {
    "duration": 0,
    "start_time": "2024-11-28T19:33:30.993Z"
   },
   {
    "duration": 0,
    "start_time": "2024-11-28T19:33:30.994Z"
   },
   {
    "duration": 0,
    "start_time": "2024-11-28T19:33:30.996Z"
   },
   {
    "duration": 0,
    "start_time": "2024-11-28T19:33:30.996Z"
   },
   {
    "duration": 0,
    "start_time": "2024-11-28T19:33:30.998Z"
   },
   {
    "duration": 0,
    "start_time": "2024-11-28T19:33:30.998Z"
   },
   {
    "duration": 0,
    "start_time": "2024-11-28T19:33:30.999Z"
   },
   {
    "duration": 0,
    "start_time": "2024-11-28T19:33:31.000Z"
   },
   {
    "duration": 0,
    "start_time": "2024-11-28T19:33:31.001Z"
   },
   {
    "duration": 0,
    "start_time": "2024-11-28T19:33:31.002Z"
   },
   {
    "duration": 0,
    "start_time": "2024-11-28T19:33:31.005Z"
   },
   {
    "duration": 212,
    "start_time": "2024-11-28T19:36:27.511Z"
   },
   {
    "duration": 17189,
    "start_time": "2024-11-28T19:36:59.633Z"
   },
   {
    "duration": 17046,
    "start_time": "2024-11-28T19:37:51.313Z"
   },
   {
    "duration": 3,
    "start_time": "2024-11-28T19:38:08.361Z"
   },
   {
    "duration": 72,
    "start_time": "2024-11-28T19:41:11.036Z"
   },
   {
    "duration": 66,
    "start_time": "2024-11-28T19:41:59.091Z"
   },
   {
    "duration": 6,
    "start_time": "2024-11-28T19:50:26.765Z"
   },
   {
    "duration": 7,
    "start_time": "2024-11-28T19:50:28.788Z"
   },
   {
    "duration": 835,
    "start_time": "2024-11-28T19:54:17.054Z"
   },
   {
    "duration": 92,
    "start_time": "2024-11-28T19:55:55.074Z"
   },
   {
    "duration": 104,
    "start_time": "2024-11-28T19:56:18.442Z"
   },
   {
    "duration": 850,
    "start_time": "2024-11-28T20:01:05.826Z"
   },
   {
    "duration": 3,
    "start_time": "2024-11-28T20:05:59.659Z"
   },
   {
    "duration": 125,
    "start_time": "2024-11-28T20:06:06.368Z"
   },
   {
    "duration": 4,
    "start_time": "2024-11-28T20:07:28.262Z"
   },
   {
    "duration": 4,
    "start_time": "2024-11-28T20:07:32.758Z"
   },
   {
    "duration": 319,
    "start_time": "2024-11-28T20:07:38.227Z"
   },
   {
    "duration": 223,
    "start_time": "2024-11-28T20:07:46.917Z"
   },
   {
    "duration": 112,
    "start_time": "2024-11-28T20:08:05.911Z"
   },
   {
    "duration": 215,
    "start_time": "2024-11-28T20:08:21.334Z"
   },
   {
    "duration": 192,
    "start_time": "2024-11-28T20:08:28.517Z"
   },
   {
    "duration": 162,
    "start_time": "2024-11-28T20:08:34.130Z"
   },
   {
    "duration": 109,
    "start_time": "2024-11-28T20:08:46.060Z"
   },
   {
    "duration": 7,
    "start_time": "2024-11-28T20:23:52.624Z"
   },
   {
    "duration": 65,
    "start_time": "2024-11-28T20:24:04.000Z"
   },
   {
    "duration": 87,
    "start_time": "2024-11-28T20:24:18.364Z"
   },
   {
    "duration": 25,
    "start_time": "2024-11-28T20:24:28.946Z"
   },
   {
    "duration": 17,
    "start_time": "2024-11-28T20:27:31.727Z"
   },
   {
    "duration": 194,
    "start_time": "2024-11-28T20:27:42.173Z"
   },
   {
    "duration": 9,
    "start_time": "2024-11-28T20:49:58.734Z"
   },
   {
    "duration": 170,
    "start_time": "2024-11-28T21:17:04.640Z"
   },
   {
    "duration": 171,
    "start_time": "2024-11-28T21:17:22.341Z"
   },
   {
    "duration": 659,
    "start_time": "2024-11-28T23:10:02.656Z"
   },
   {
    "duration": 62,
    "start_time": "2024-11-28T23:15:09.904Z"
   },
   {
    "duration": 430,
    "start_time": "2024-11-28T23:28:43.938Z"
   },
   {
    "duration": 911,
    "start_time": "2024-11-28T23:28:44.369Z"
   },
   {
    "duration": 14,
    "start_time": "2024-11-28T23:28:45.282Z"
   },
   {
    "duration": 13,
    "start_time": "2024-11-28T23:28:45.299Z"
   },
   {
    "duration": 8,
    "start_time": "2024-11-28T23:28:45.315Z"
   },
   {
    "duration": 7,
    "start_time": "2024-11-28T23:28:45.324Z"
   },
   {
    "duration": 6,
    "start_time": "2024-11-28T23:28:45.333Z"
   },
   {
    "duration": 57,
    "start_time": "2024-11-28T23:28:45.341Z"
   },
   {
    "duration": 108,
    "start_time": "2024-11-28T23:28:45.400Z"
   },
   {
    "duration": 10,
    "start_time": "2024-11-28T23:28:45.512Z"
   },
   {
    "duration": 126,
    "start_time": "2024-11-28T23:28:45.523Z"
   },
   {
    "duration": 92,
    "start_time": "2024-11-28T23:28:45.651Z"
   },
   {
    "duration": 29,
    "start_time": "2024-11-28T23:28:45.745Z"
   },
   {
    "duration": 12,
    "start_time": "2024-11-28T23:28:45.787Z"
   },
   {
    "duration": 4,
    "start_time": "2024-11-28T23:28:45.801Z"
   },
   {
    "duration": 20,
    "start_time": "2024-11-28T23:28:45.806Z"
   },
   {
    "duration": 6,
    "start_time": "2024-11-28T23:28:45.828Z"
   },
   {
    "duration": 5,
    "start_time": "2024-11-28T23:28:45.835Z"
   },
   {
    "duration": 4,
    "start_time": "2024-11-28T23:28:45.841Z"
   },
   {
    "duration": 41,
    "start_time": "2024-11-28T23:28:45.847Z"
   },
   {
    "duration": 4,
    "start_time": "2024-11-28T23:28:45.889Z"
   },
   {
    "duration": 780,
    "start_time": "2024-11-28T23:28:45.895Z"
   },
   {
    "duration": 691,
    "start_time": "2024-11-28T23:28:46.677Z"
   },
   {
    "duration": 16489,
    "start_time": "2024-11-28T23:28:47.370Z"
   },
   {
    "duration": 97,
    "start_time": "2024-11-28T23:29:03.861Z"
   },
   {
    "duration": 5,
    "start_time": "2024-11-28T23:29:03.960Z"
   },
   {
    "duration": 22,
    "start_time": "2024-11-28T23:29:03.967Z"
   },
   {
    "duration": 10,
    "start_time": "2024-11-28T23:29:03.995Z"
   },
   {
    "duration": 8,
    "start_time": "2024-11-28T23:29:04.007Z"
   },
   {
    "duration": 7,
    "start_time": "2024-11-28T23:29:04.018Z"
   },
   {
    "duration": 5,
    "start_time": "2024-11-28T23:29:04.027Z"
   },
   {
    "duration": 4,
    "start_time": "2024-11-28T23:29:04.034Z"
   },
   {
    "duration": 47,
    "start_time": "2024-11-28T23:29:04.039Z"
   },
   {
    "duration": 8,
    "start_time": "2024-11-28T23:29:04.088Z"
   },
   {
    "duration": 23,
    "start_time": "2024-11-28T23:29:04.097Z"
   },
   {
    "duration": 6,
    "start_time": "2024-11-28T23:29:04.123Z"
   },
   {
    "duration": 87,
    "start_time": "2024-11-28T23:29:04.131Z"
   },
   {
    "duration": 18,
    "start_time": "2024-11-28T23:29:04.220Z"
   },
   {
    "duration": 3,
    "start_time": "2024-11-28T23:29:04.241Z"
   },
   {
    "duration": 6,
    "start_time": "2024-11-28T23:29:04.246Z"
   },
   {
    "duration": 206,
    "start_time": "2024-11-28T23:29:04.254Z"
   },
   {
    "duration": 122,
    "start_time": "2024-11-28T23:29:04.462Z"
   },
   {
    "duration": 193,
    "start_time": "2024-11-28T23:29:04.586Z"
   },
   {
    "duration": 219,
    "start_time": "2024-11-28T23:29:04.781Z"
   },
   {
    "duration": 124,
    "start_time": "2024-11-28T23:29:05.002Z"
   },
   {
    "duration": 76,
    "start_time": "2024-11-28T23:29:05.128Z"
   },
   {
    "duration": 322,
    "start_time": "2024-11-28T23:29:05.206Z"
   },
   {
    "duration": 140,
    "start_time": "2024-11-28T23:29:05.530Z"
   },
   {
    "duration": 3473,
    "start_time": "2024-11-28T23:29:05.672Z"
   },
   {
    "duration": 861,
    "start_time": "2024-11-28T23:29:09.147Z"
   },
   {
    "duration": 44,
    "start_time": "2024-11-28T23:29:10.010Z"
   },
   {
    "duration": 159,
    "start_time": "2024-11-29T19:31:12.417Z"
   },
   {
    "duration": 2162,
    "start_time": "2024-11-29T19:31:22.313Z"
   },
   {
    "duration": 1054,
    "start_time": "2024-11-29T19:31:24.478Z"
   },
   {
    "duration": 12,
    "start_time": "2024-11-29T19:31:25.533Z"
   },
   {
    "duration": 8,
    "start_time": "2024-11-29T19:31:25.547Z"
   },
   {
    "duration": 6,
    "start_time": "2024-11-29T19:31:25.558Z"
   },
   {
    "duration": 7,
    "start_time": "2024-11-29T19:31:25.566Z"
   },
   {
    "duration": 38,
    "start_time": "2024-11-29T19:31:25.575Z"
   },
   {
    "duration": 34,
    "start_time": "2024-11-29T19:31:25.614Z"
   },
   {
    "duration": 113,
    "start_time": "2024-11-29T19:31:25.650Z"
   },
   {
    "duration": 11,
    "start_time": "2024-11-29T19:31:25.765Z"
   },
   {
    "duration": 120,
    "start_time": "2024-11-29T19:31:25.778Z"
   },
   {
    "duration": 95,
    "start_time": "2024-11-29T19:31:25.900Z"
   },
   {
    "duration": 33,
    "start_time": "2024-11-29T19:31:25.997Z"
   },
   {
    "duration": 12,
    "start_time": "2024-11-29T19:31:26.034Z"
   },
   {
    "duration": 4,
    "start_time": "2024-11-29T19:31:26.048Z"
   },
   {
    "duration": 20,
    "start_time": "2024-11-29T19:31:26.053Z"
   },
   {
    "duration": 5,
    "start_time": "2024-11-29T19:31:26.075Z"
   },
   {
    "duration": 4,
    "start_time": "2024-11-29T19:31:26.111Z"
   },
   {
    "duration": 5,
    "start_time": "2024-11-29T19:31:26.117Z"
   },
   {
    "duration": 4,
    "start_time": "2024-11-29T19:31:26.123Z"
   },
   {
    "duration": 4,
    "start_time": "2024-11-29T19:31:26.128Z"
   },
   {
    "duration": 832,
    "start_time": "2024-11-29T19:31:26.134Z"
   },
   {
    "duration": 718,
    "start_time": "2024-11-29T19:31:26.968Z"
   },
   {
    "duration": 16992,
    "start_time": "2024-11-29T19:31:27.688Z"
   },
   {
    "duration": 82,
    "start_time": "2024-11-29T19:31:44.682Z"
   },
   {
    "duration": 6,
    "start_time": "2024-11-29T19:31:44.765Z"
   },
   {
    "duration": 9,
    "start_time": "2024-11-29T19:31:44.773Z"
   },
   {
    "duration": 28,
    "start_time": "2024-11-29T19:31:44.783Z"
   },
   {
    "duration": 6,
    "start_time": "2024-11-29T19:31:44.813Z"
   },
   {
    "duration": 7,
    "start_time": "2024-11-29T19:31:44.822Z"
   },
   {
    "duration": 5,
    "start_time": "2024-11-29T19:31:44.831Z"
   },
   {
    "duration": 4,
    "start_time": "2024-11-29T19:31:44.838Z"
   },
   {
    "duration": 14,
    "start_time": "2024-11-29T19:31:44.844Z"
   },
   {
    "duration": 7,
    "start_time": "2024-11-29T19:31:44.860Z"
   },
   {
    "duration": 64,
    "start_time": "2024-11-29T19:31:44.869Z"
   },
   {
    "duration": 7,
    "start_time": "2024-11-29T19:31:44.935Z"
   },
   {
    "duration": 82,
    "start_time": "2024-11-29T19:31:44.943Z"
   },
   {
    "duration": 18,
    "start_time": "2024-11-29T19:31:45.026Z"
   },
   {
    "duration": 4,
    "start_time": "2024-11-29T19:31:45.046Z"
   },
   {
    "duration": 3,
    "start_time": "2024-11-29T19:31:45.052Z"
   },
   {
    "duration": 213,
    "start_time": "2024-11-29T19:31:45.062Z"
   },
   {
    "duration": 121,
    "start_time": "2024-11-29T19:31:45.277Z"
   },
   {
    "duration": 234,
    "start_time": "2024-11-29T19:31:45.400Z"
   },
   {
    "duration": 226,
    "start_time": "2024-11-29T19:31:45.636Z"
   },
   {
    "duration": 120,
    "start_time": "2024-11-29T19:31:45.864Z"
   },
   {
    "duration": 80,
    "start_time": "2024-11-29T19:31:45.986Z"
   },
   {
    "duration": 340,
    "start_time": "2024-11-29T19:31:46.068Z"
   },
   {
    "duration": 143,
    "start_time": "2024-11-29T19:31:46.412Z"
   },
   {
    "duration": 51,
    "start_time": "2024-11-29T19:31:50.766Z"
   },
   {
    "duration": 3571,
    "start_time": "2024-11-29T19:31:54.264Z"
   },
   {
    "duration": 1063,
    "start_time": "2024-11-29T19:31:57.836Z"
   },
   {
    "duration": 7,
    "start_time": "2024-11-29T20:43:15.089Z"
   },
   {
    "duration": 164,
    "start_time": "2024-12-10T14:50:33.948Z"
   },
   {
    "duration": 2143,
    "start_time": "2024-12-10T14:50:42.297Z"
   },
   {
    "duration": 1007,
    "start_time": "2024-12-10T14:50:44.442Z"
   },
   {
    "duration": 11,
    "start_time": "2024-12-10T14:50:45.451Z"
   },
   {
    "duration": 9,
    "start_time": "2024-12-10T14:50:45.465Z"
   },
   {
    "duration": 8,
    "start_time": "2024-12-10T14:50:45.475Z"
   },
   {
    "duration": 9,
    "start_time": "2024-12-10T14:50:45.505Z"
   },
   {
    "duration": 7,
    "start_time": "2024-12-10T14:50:45.516Z"
   },
   {
    "duration": 30,
    "start_time": "2024-12-10T14:50:45.526Z"
   },
   {
    "duration": 120,
    "start_time": "2024-12-10T14:50:45.558Z"
   },
   {
    "duration": 10,
    "start_time": "2024-12-10T14:50:45.681Z"
   },
   {
    "duration": 110,
    "start_time": "2024-12-10T14:50:45.693Z"
   },
   {
    "duration": 101,
    "start_time": "2024-12-10T14:50:45.805Z"
   },
   {
    "duration": 28,
    "start_time": "2024-12-10T14:50:45.908Z"
   },
   {
    "duration": 12,
    "start_time": "2024-12-10T14:50:45.938Z"
   },
   {
    "duration": 4,
    "start_time": "2024-12-10T14:50:45.952Z"
   },
   {
    "duration": 20,
    "start_time": "2024-12-10T14:50:45.958Z"
   },
   {
    "duration": 12,
    "start_time": "2024-12-10T14:50:46.004Z"
   },
   {
    "duration": 4,
    "start_time": "2024-12-10T14:50:46.018Z"
   },
   {
    "duration": 3,
    "start_time": "2024-12-10T14:50:46.024Z"
   },
   {
    "duration": 4,
    "start_time": "2024-12-10T14:50:46.028Z"
   },
   {
    "duration": 4,
    "start_time": "2024-12-10T14:50:46.034Z"
   },
   {
    "duration": 784,
    "start_time": "2024-12-10T14:50:46.041Z"
   },
   {
    "duration": 667,
    "start_time": "2024-12-10T14:50:46.827Z"
   },
   {
    "duration": 16702,
    "start_time": "2024-12-10T14:50:47.497Z"
   },
   {
    "duration": 85,
    "start_time": "2024-12-10T14:51:04.201Z"
   },
   {
    "duration": 18,
    "start_time": "2024-12-10T14:51:04.288Z"
   },
   {
    "duration": 9,
    "start_time": "2024-12-10T14:51:04.307Z"
   },
   {
    "duration": 8,
    "start_time": "2024-12-10T14:51:04.320Z"
   },
   {
    "duration": 5,
    "start_time": "2024-12-10T14:51:04.330Z"
   },
   {
    "duration": 5,
    "start_time": "2024-12-10T14:51:04.337Z"
   },
   {
    "duration": 6,
    "start_time": "2024-12-10T14:51:04.344Z"
   },
   {
    "duration": 6,
    "start_time": "2024-12-10T14:51:04.351Z"
   },
   {
    "duration": 51,
    "start_time": "2024-12-10T14:51:04.359Z"
   },
   {
    "duration": 8,
    "start_time": "2024-12-10T14:51:04.412Z"
   },
   {
    "duration": 23,
    "start_time": "2024-12-10T14:51:04.422Z"
   },
   {
    "duration": 6,
    "start_time": "2024-12-10T14:51:04.447Z"
   },
   {
    "duration": 86,
    "start_time": "2024-12-10T14:51:04.455Z"
   },
   {
    "duration": 18,
    "start_time": "2024-12-10T14:51:04.543Z"
   },
   {
    "duration": 5,
    "start_time": "2024-12-10T14:51:04.562Z"
   },
   {
    "duration": 3,
    "start_time": "2024-12-10T14:51:04.569Z"
   },
   {
    "duration": 217,
    "start_time": "2024-12-10T14:51:04.574Z"
   },
   {
    "duration": 155,
    "start_time": "2024-12-10T14:51:04.792Z"
   },
   {
    "duration": 205,
    "start_time": "2024-12-10T14:51:04.949Z"
   },
   {
    "duration": 224,
    "start_time": "2024-12-10T14:51:05.156Z"
   },
   {
    "duration": 114,
    "start_time": "2024-12-10T14:51:05.382Z"
   },
   {
    "duration": 73,
    "start_time": "2024-12-10T14:51:05.498Z"
   },
   {
    "duration": 334,
    "start_time": "2024-12-10T14:51:05.573Z"
   },
   {
    "duration": 146,
    "start_time": "2024-12-10T14:51:05.908Z"
   },
   {
    "duration": 3370,
    "start_time": "2024-12-10T14:51:06.055Z"
   },
   {
    "duration": 882,
    "start_time": "2024-12-10T14:51:09.426Z"
   },
   {
    "duration": 43,
    "start_time": "2024-12-10T14:51:10.309Z"
   },
   {
    "duration": 6,
    "start_time": "2024-12-10T14:53:38.426Z"
   },
   {
    "duration": 13,
    "start_time": "2024-12-10T14:53:51.645Z"
   },
   {
    "duration": 6,
    "start_time": "2024-12-10T14:54:22.387Z"
   },
   {
    "duration": 7,
    "start_time": "2024-12-10T14:54:38.000Z"
   },
   {
    "duration": 189,
    "start_time": "2024-12-10T14:54:48.756Z"
   },
   {
    "duration": 6,
    "start_time": "2024-12-10T14:54:56.889Z"
   }
  ],
  "colab": {
   "provenance": []
  },
  "kernelspec": {
   "display_name": "Python 3 (ipykernel)",
   "language": "python",
   "name": "python3"
  },
  "language_info": {
   "codemirror_mode": {
    "name": "ipython",
    "version": 3
   },
   "file_extension": ".py",
   "mimetype": "text/x-python",
   "name": "python",
   "nbconvert_exporter": "python",
   "pygments_lexer": "ipython3",
   "version": "3.9.19"
  },
  "toc": {
   "base_numbering": 1,
   "nav_menu": {},
   "number_sections": true,
   "sideBar": true,
   "skip_h1_title": true,
   "title_cell": "Table of Contents",
   "title_sidebar": "Contents",
   "toc_cell": false,
   "toc_position": {},
   "toc_section_display": true,
   "toc_window_display": false
  },
  "vscode": {
   "interpreter": {
    "hash": "01a7be9ec63e704a62cefc5fe7a4756944464ee731be31632bdf42a4cb4688cf"
   }
  }
 },
 "nbformat": 4,
 "nbformat_minor": 5
}
